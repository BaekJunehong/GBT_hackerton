{
 "cells": [
  {
   "cell_type": "markdown",
   "metadata": {},
   "source": [
    "# Import"
   ]
  },
  {
   "cell_type": "code",
   "execution_count": 1,
   "metadata": {},
   "outputs": [],
   "source": [
    "import pandas as pd"
   ]
  },
  {
   "cell_type": "code",
   "execution_count": 2,
   "metadata": {},
   "outputs": [],
   "source": [
    "import matplotlib.pyplot as plt\n",
    "\n",
    "# 한글 폰트 지정\n",
    "plt.rcParams['font.family'] ='Malgun Gothic'\n",
    "plt.rcParams['axes.unicode_minus'] =False\n",
    "\n",
    "font_path = \"C:/Windows/Fonts/malgun.ttf\""
   ]
  },
  {
   "cell_type": "markdown",
   "metadata": {},
   "source": [
    "# Load Data"
   ]
  },
  {
   "cell_type": "code",
   "execution_count": 3,
   "metadata": {},
   "outputs": [],
   "source": [
    "train_df = pd.read_csv(\"../../data/train.csv\")\n",
    "test_df = pd.read_csv(\"../../data/test.csv\")  \n",
    "submission = pd.read_csv(\"../../data/sample_submission.csv\")  "
   ]
  },
  {
   "cell_type": "markdown",
   "metadata": {},
   "source": [
    "영어 번역 내용 제거"
   ]
  },
  {
   "cell_type": "code",
   "execution_count": 4,
   "metadata": {},
   "outputs": [],
   "source": [
    "import os\n",
    "import pandas as pd\n",
    "import re\n",
    "\n",
    "# 조건 설정 함수 정의\n",
    "def set_conditions(df):\n",
    "    condition_1 = df['키워드'].apply(lambda x: all(word in x for word in ['영문', '번역', '오류', '전제']))\n",
    "    condition_2 = df['키워드'].apply(lambda x: all(word in x for word in ['구글', '번역기', '번역', '영문기사']))\n",
    "    condition_3 = df['키워드'].apply(lambda x: all(word in x for word in ['기사', '구글']))\n",
    "    condition_4 = df['키워드'].str.contains(r'\\bBreak\\b', na=False)\n",
    "    return condition_1, condition_2, condition_3, condition_4\n",
    "\n",
    "# 조건을 만족하는 행들로 새로운 데이터프레임 생성 함수 정의\n",
    "def filter_dataframes(df, conditions):\n",
    "    filtered_dfs = [df[condition].copy() for condition in conditions]\n",
    "    return filtered_dfs\n",
    "\n",
    "# 키워드 삭제 함수 정의\n",
    "def remove_keywords(text, keywords):\n",
    "    start_index = 0\n",
    "    for keyword in keywords:\n",
    "        start_index = text.find(keyword, start_index)\n",
    "        if start_index == -1:\n",
    "            return text\n",
    "        start_index += len(keyword)\n",
    "    return text[:text.find(keywords[0])].strip()\n",
    "\n",
    "# 한글 단어가 나오다가 영어 단어가 5번 이상 나오면 영어 단어가 나오기 시작한 단어부터 끝까지 삭제하는 함수 정의\n",
    "def remove_english_after_five(text):\n",
    "    english_words = re.findall(r'[a-zA-Z]+', text)\n",
    "    if len(english_words) >= 5:\n",
    "        fifth_english_word = english_words[4]\n",
    "        start_index = text.find(fifth_english_word)\n",
    "        return text[:start_index].strip()\n",
    "    return text\n",
    "\n",
    "# 키워드 수정 함수 정의\n",
    "def apply_removals(filtered_dfs):\n",
    "    filtered_dfs[0]['키워드'] = filtered_dfs[0]['키워드'].apply(lambda x: remove_keywords(x, ['영문', '번역', '오류', '전제']))\n",
    "    filtered_dfs[1]['키워드'] = filtered_dfs[1]['키워드'].apply(lambda x: remove_keywords(x, ['구글', '번역기', '번역', '영문기사']))\n",
    "    filtered_dfs[2]['키워드'] = filtered_dfs[2]['키워드'].apply(lambda x: remove_keywords(x, ['기사', '구글']))\n",
    "    filtered_dfs[3]['키워드'] = filtered_dfs[3]['키워드'].apply(remove_english_after_five)\n",
    "    return filtered_dfs\n",
    "\n",
    "# 수정된 '키워드' 값을 원래 데이터프레임에 반영하는 함수 정의\n",
    "def update_original_df(df, conditions, filtered_dfs):\n",
    "    for condition, filtered_df in zip(conditions, filtered_dfs):\n",
    "        df.loc[condition, '키워드'] = filtered_df['키워드']\n",
    "\n",
    "# 메인 코드\n",
    "conditions_train = set_conditions(train_df)\n",
    "conditions_test = set_conditions(test_df)\n",
    "\n",
    "filtered_train_dfs = filter_dataframes(train_df, conditions_train)\n",
    "filtered_test_dfs = filter_dataframes(test_df, conditions_test)\n",
    "\n",
    "filtered_train_dfs = apply_removals(filtered_train_dfs)\n",
    "filtered_test_dfs = apply_removals(filtered_test_dfs)\n",
    "\n",
    "update_original_df(train_df, conditions_train, filtered_train_dfs)\n",
    "update_original_df(test_df, conditions_test, filtered_test_dfs)"
   ]
  },
  {
   "cell_type": "code",
   "execution_count": 5,
   "metadata": {},
   "outputs": [],
   "source": [
    "# 수정된 데이터프레임을 CSV 파일로 저장\n",
    "train_df.to_csv('train_df_translate_del.csv', index=False, encoding='utf-8-sig')\n",
    "test_df.to_csv('test_df_translate_del.csv', index=False, encoding='utf-8-sig')"
   ]
  },
  {
   "cell_type": "markdown",
   "metadata": {},
   "source": [
    "."
   ]
  }
 ],
 "metadata": {
  "kernelspec": {
   "display_name": "Python 3",
   "language": "python",
   "name": "python3"
  },
  "language_info": {
   "codemirror_mode": {
    "name": "ipython",
    "version": 3
   },
   "file_extension": ".py",
   "mimetype": "text/x-python",
   "name": "python",
   "nbconvert_exporter": "python",
   "pygments_lexer": "ipython3",
   "version": "3.7.8"
  }
 },
 "nbformat": 4,
 "nbformat_minor": 4
}
