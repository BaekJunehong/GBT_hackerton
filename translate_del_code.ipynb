{
 "cells": [
  {
   "cell_type": "markdown",
   "metadata": {},
   "source": [
    "# Import"
   ]
  },
  {
   "cell_type": "code",
   "execution_count": 90,
   "metadata": {},
   "outputs": [],
   "source": [
    "import pandas as pd"
   ]
  },
  {
   "cell_type": "code",
   "execution_count": 91,
   "metadata": {},
   "outputs": [],
   "source": [
    "import matplotlib.pyplot as plt\n",
    "\n",
    "# 한글 폰트 지정\n",
    "plt.rcParams['font.family'] ='Malgun Gothic'\n",
    "plt.rcParams['axes.unicode_minus'] =False\n",
    "\n",
    "font_path = \"C:/Windows/Fonts/malgun.ttf\""
   ]
  },
  {
   "cell_type": "markdown",
   "metadata": {},
   "source": [
    "# Load Data"
   ]
  },
  {
   "cell_type": "code",
   "execution_count": 92,
   "metadata": {},
   "outputs": [],
   "source": [
    "train_df = pd.read_csv(\"./data/train.csv\")\n",
    "test_df = pd.read_csv(\"./data/test.csv\")  \n",
    "submission = pd.read_csv(\"./data/sample_submission.csv\")  "
   ]
  },
  {
   "cell_type": "markdown",
   "metadata": {},
   "source": [
    "## 영어 번역 내용 제거"
   ]
  },
  {
   "cell_type": "markdown",
   "metadata": {},
   "source": [
    "기사, 구글 순서일때"
   ]
  },
  {
   "cell_type": "code",
   "execution_count": 93,
   "metadata": {},
   "outputs": [],
   "source": [
    "# '키워드' 열에서 '기사'와 '구글' 두 단어를 모두 포함하는 행을 찾는 조건\n",
    "condition_train = train_df['키워드'].apply(lambda x: all(word in x for word in ['기사', '구글']))\n",
    "condition_test = test_df['키워드'].apply(lambda x: all(word in x for word in ['기사', '구글']))\n",
    "\n",
    "# 조건을 만족하는 행들로 새로운 데이터프레임 생성\n",
    "filtered_train_df = train_df[condition_train].copy()\n",
    "filtered_test_df = test_df[condition_test].copy()\n",
    "\n",
    "# '기사, 구글' 순서로 단어가 나오는 부분을 찾아 삭제하는 함수 정의\n",
    "def remove_keywords(text):\n",
    "    keywords = ['기사', '구글']\n",
    "    start_index = 0\n",
    "    for keyword in keywords:\n",
    "        start_index = text.find(keyword, start_index)\n",
    "        if start_index == -1:\n",
    "            return text\n",
    "        start_index += len(keyword)\n",
    "    return text[:text.find('기사')].strip()\n",
    "\n",
    "# 각 행의 '키워드' 값에서 '기사' 단어부터 마지막 단어까지 삭제\n",
    "filtered_train_df['키워드'] = filtered_train_df['키워드'].apply(remove_keywords)\n",
    "filtered_test_df['키워드'] = filtered_test_df['키워드'].apply(remove_keywords)\n",
    "\n",
    "# 수정된 '키워드' 값을 원래 데이터프레임에 반영\n",
    "train_df.loc[condition_train, '키워드'] = filtered_train_df['키워드']\n",
    "test_df.loc[condition_test, '키워드'] = filtered_test_df['키워드']"
   ]
  },
  {
   "cell_type": "markdown",
   "metadata": {},
   "source": [
    "영문, 번역, 오류, 전제 순서일때"
   ]
  },
  {
   "cell_type": "code",
   "execution_count": 94,
   "metadata": {},
   "outputs": [],
   "source": [
    "# '키워드' 열에서 '영문', '번역', '오류', '전제' 네 단어를 모두 포함하는 행을 찾는 조건\n",
    "condition_train = train_df['키워드'].apply(lambda x: all(word in x for word in ['영문', '번역', '오류', '전제']))\n",
    "condition_test = test_df['키워드'].apply(lambda x: all(word in x for word in ['영문', '번역', '오류', '전제']))\n",
    "\n",
    "# 조건을 만족하는 행들로 새로운 데이터프레임 생성\n",
    "filtered_train_df = train_df[condition_train].copy()\n",
    "filtered_test_df = test_df[condition_test].copy()\n",
    "\n",
    "# '영문, 번역, 오류, 전제' 순서로 단어가 나오는 부분을 찾아 삭제하는 함수 정의\n",
    "def remove_keywords(text):\n",
    "    keywords = ['영문', '번역', '오류', '전제']\n",
    "    start_index = 0\n",
    "    for keyword in keywords:\n",
    "        start_index = text.find(keyword, start_index)\n",
    "        if start_index == -1:\n",
    "            return text\n",
    "        start_index += len(keyword)\n",
    "    return text[:text.find('영문')].strip()\n",
    "\n",
    "# 각 행의 '키워드' 값에서 '영문' 단어부터 마지막 단어까지 삭제\n",
    "filtered_train_df['키워드'] = filtered_train_df['키워드'].apply(remove_keywords)\n",
    "filtered_test_df['키워드'] = filtered_test_df['키워드'].apply(remove_keywords)\n",
    "\n",
    "# 수정된 '키워드' 값을 원래 데이터프레임에 반영\n",
    "train_df.loc[condition_train, '키워드'] = filtered_train_df['키워드']\n",
    "test_df.loc[condition_test, '키워드'] = filtered_test_df['키워드']"
   ]
  },
  {
   "cell_type": "markdown",
   "metadata": {},
   "source": [
    "구글, 번역기, 번역, 영문기사 순서일때"
   ]
  },
  {
   "cell_type": "code",
   "execution_count": 95,
   "metadata": {},
   "outputs": [],
   "source": [
    "# '키워드' 열에서 '구글', '번역기', '번역', '영문기사' 네 단어를 모두 포함하는 행을 찾는 조건\n",
    "condition_train = train_df['키워드'].apply(lambda x: all(word in x for word in ['구글', '번역기', '번역', '영문기사']))\n",
    "condition_test = test_df['키워드'].apply(lambda x: all(word in x for word in ['구글', '번역기', '번역', '영문기사']))\n",
    "\n",
    "# 조건을 만족하는 행들로 새로운 데이터프레임 생성\n",
    "filtered_train_df = train_df[condition_train].copy()\n",
    "filtered_test_df = test_df[condition_test].copy()\n",
    "\n",
    "# '구글, 번역기, 번역, 영문기사' 순서로 단어가 나오는 부분을 찾아 삭제하는 함수 정의\n",
    "def remove_keywords(text):\n",
    "    keywords = ['구글', '번역기', '번역', '영문기사']\n",
    "    start_index = 0\n",
    "    for keyword in keywords:\n",
    "        start_index = text.find(keyword, start_index)\n",
    "        if start_index == -1:\n",
    "            return text\n",
    "        start_index += len(keyword)\n",
    "    return text[:text.find('구글')].strip()\n",
    "\n",
    "# 각 행의 '키워드' 값에서 '구글' 단어부터 마지막 단어까지 삭제\n",
    "filtered_train_df['키워드'] = filtered_train_df['키워드'].apply(remove_keywords)\n",
    "filtered_test_df['키워드'] = filtered_test_df['키워드'].apply(remove_keywords)\n",
    "\n",
    "# 수정된 '키워드' 값을 원래 데이터프레임에 반영\n",
    "train_df.loc[condition_train, '키워드'] = filtered_train_df['키워드']\n",
    "test_df.loc[condition_test, '키워드'] = filtered_test_df['키워드']"
   ]
  },
  {
   "cell_type": "markdown",
   "metadata": {},
   "source": [
    "구글번역, 번역 순서일때"
   ]
  },
  {
   "cell_type": "code",
   "execution_count": 96,
   "metadata": {},
   "outputs": [],
   "source": [
    "# '키워드' 열에서 '구글번역', '번역' 두 단어를 모두 포함하는 행을 찾는 조건\n",
    "condition_train = train_df['키워드'].apply(lambda x: all(word in x for word in ['구글번역', '번역']))\n",
    "condition_test = test_df['키워드'].apply(lambda x: all(word in x for word in ['구글번역', '번역']))\n",
    "\n",
    "# 조건을 만족하는 행들로 새로운 데이터프레임 생성\n",
    "filtered_train_df = train_df[condition_train].copy()\n",
    "filtered_test_df = test_df[condition_test].copy()\n",
    "\n",
    "# '구글번역, 번역' 순서로 단어가 나오는 부분을 찾아 삭제하는 함수 정의\n",
    "def remove_keywords(text):\n",
    "    keywords = ['구글번역', '번역']\n",
    "    start_index = 0\n",
    "    for keyword in keywords:\n",
    "        start_index = text.find(keyword, start_index)\n",
    "        if start_index == -1:\n",
    "            return text\n",
    "        start_index += len(keyword)\n",
    "    return text[:text.find('구글번역')].strip()\n",
    "\n",
    "# 각 행의 '키워드' 값에서 '구글번역' 단어부터 마지막 단어까지 삭제\n",
    "filtered_train_df['키워드'] = filtered_train_df['키워드'].apply(remove_keywords)\n",
    "filtered_test_df['키워드'] = filtered_test_df['키워드'].apply(remove_keywords)\n",
    "\n",
    "# 수정된 '키워드' 값을 원래 데이터프레임에 반영\n",
    "train_df.loc[condition_train, '키워드'] = filtered_train_df['키워드']\n",
    "test_df.loc[condition_test, '키워드'] = filtered_test_df['키워드']"
   ]
  },
  {
   "cell_type": "markdown",
   "metadata": {},
   "source": [
    "한글 -> 영어(5단어이상 이어질때) 처리"
   ]
  },
  {
   "cell_type": "code",
   "execution_count": 97,
   "metadata": {},
   "outputs": [],
   "source": [
    "import pandas as pd\n",
    "import re\n",
    "\n",
    "def remove_english_after_korean(text):\n",
    "    # 한글과 영어 단어를 구분하는 정규 표현식\n",
    "    korean_pattern = re.compile(r'[가-힣]+')\n",
    "    english_pattern = re.compile(r'[a-zA-Z]+')\n",
    "    \n",
    "    korean_count = 0\n",
    "    english_count = 0\n",
    "    start_index = 0\n",
    "    \n",
    "    words = text.split(',')\n",
    "    \n",
    "    for i, word in enumerate(words):\n",
    "        if korean_pattern.search(word):\n",
    "            korean_count += 1\n",
    "        elif english_pattern.search(word):\n",
    "            english_count += 1\n",
    "            if english_count == 1:\n",
    "                start_index = i\n",
    "            if english_count >= 5:\n",
    "                return ','.join(words[:start_index])\n",
    "    \n",
    "    return text\n",
    "\n",
    "# '키워드' 열에 함수 적용\n",
    "train_df['키워드'] = train_df['키워드'].apply(remove_english_after_korean)\n",
    "test_df['키워드'] = test_df['키워드'].apply(remove_english_after_korean)"
   ]
  },
  {
   "cell_type": "markdown",
   "metadata": {},
   "source": [
    "기사,Google,번역,번역, 으로 남아있는 문장에 대한 처리"
   ]
  },
  {
   "cell_type": "code",
   "execution_count": 98,
   "metadata": {},
   "outputs": [],
   "source": [
    "import pandas as pd\n",
    "\n",
    "def remove_last_keywords(text):\n",
    "    keywords_to_remove = ['기사', 'Google', '번역', '번역']\n",
    "    words = text.strip(',').split(',')\n",
    "    \n",
    "    # 마지막 4개의 단어가 keywords_to_remove와 일치하는지 확인\n",
    "    if words[-4:] == keywords_to_remove:\n",
    "        return ','.join(words[:-4]) + ',' if len(words[:-4]) > 0 else ''\n",
    "    \n",
    "    return text\n",
    "\n",
    "# '키워드' 열에 함수 적용\n",
    "train_df['키워드'] = train_df['키워드'].apply(remove_last_keywords)\n",
    "test_df['키워드'] = test_df['키워드'].apply(remove_last_keywords)"
   ]
  },
  {
   "cell_type": "markdown",
   "metadata": {},
   "source": [
    "데이터 저장"
   ]
  },
  {
   "cell_type": "code",
   "execution_count": 99,
   "metadata": {},
   "outputs": [],
   "source": [
    "# 수정된 데이터프레임을 CSV 파일로 저장\n",
    "train_df.to_csv('./data/train_df_translate_del.csv', index=False, encoding='utf-8-sig')\n",
    "test_df.to_csv('./data/test_df_translate_del.csv', index=False, encoding='utf-8-sig')"
   ]
  },
  {
   "cell_type": "markdown",
   "metadata": {},
   "source": [
    "."
   ]
  }
 ],
 "metadata": {
  "kernelspec": {
   "display_name": "Python 3",
   "language": "python",
   "name": "python3"
  },
  "language_info": {
   "codemirror_mode": {
    "name": "ipython",
    "version": 3
   },
   "file_extension": ".py",
   "mimetype": "text/x-python",
   "name": "python",
   "nbconvert_exporter": "python",
   "pygments_lexer": "ipython3",
   "version": "3.7.8"
  }
 },
 "nbformat": 4,
 "nbformat_minor": 4
}
