{
 "cells": [
  {
   "cell_type": "markdown",
   "metadata": {},
   "source": [
    "## 데이터 생성"
   ]
  },
  {
   "cell_type": "markdown",
   "metadata": {},
   "source": [
    "라이브러리"
   ]
  },
  {
   "cell_type": "code",
   "execution_count": 52,
   "metadata": {},
   "outputs": [],
   "source": [
    "import pandas as pd\n",
    "import random\n",
    "from datetime import datetime, timedelta"
   ]
  },
  {
   "cell_type": "markdown",
   "metadata": {},
   "source": [
    "폰트 지정"
   ]
  },
  {
   "cell_type": "code",
   "execution_count": null,
   "metadata": {},
   "outputs": [],
   "source": [
    "import matplotlib.pyplot as plt\n",
    "\n",
    "# 한글 폰트 지정\n",
    "plt.rcParams['font.family'] ='Malgun Gothic'\n",
    "plt.rcParams['axes.unicode_minus'] =False\n",
    "\n",
    "font_path = \"C:/Windows/Fonts/malgun.ttf\""
   ]
  },
  {
   "cell_type": "code",
   "execution_count": null,
   "metadata": {},
   "outputs": [],
   "source": [
    "# # 메뉴와 가격 딕셔너리\n",
    "# menu_prices = {\n",
    "#     \"날으는 김밥\": 3500, \"참치김밥\": 4500, \"라볶이\": 5000, \"쫄면\": 7000, \"제육덮밥\": 7000, \"된장찌개\": 7000,\n",
    "#     \"치즈김밥\": 4500, \"소고기김밥\": 5000, \"돈까스김밥\": 5000, \"멸추김밥\": 5000, \"계란말이김밥\": 5500,\n",
    "#     \"땡초진미김밥\": 5000, \"참치와사비김밥\": 5000, \"날치알김밥\": 5000, \"새우튀김김밥\": 5000, \"참치주먹밥\": 4000,\n",
    "#     \"소고기주먹밥\": 4000, \"멸치주먹밥\": 4000, \"날치알주먹밥\": 4000, \"참치찌개\": 7000, \"순두부찌개\": 7000,\n",
    "#     \"김치찌개\": 7000, \"참치순두부찌개\": 7500, \"부대찌개\": 8000, \"육개장\": 8000, \"뚝배기불고기\": 8000,\n",
    "#     \"떡볶이\": 4500, \"치즈떡볶이\": 5500, \"치즈라볶이\": 6000, \"오뎅\": 4500, \"우동\": 6000,\n",
    "#     \"얼큰해물우동\": 8500, \"비빔국수\": 7000, \"잔치국수\": 7000, \"라면\": 4500, \"떡라면\": 5500, \"김치라면\": 5500,\n",
    "#     \"만두라면\": 5500, \"치즈라면\": 5500, \"얼큰해물라면\": 8500, \"떡국\": 7000, \"만두국\": 7000, \"떡만두국\": 8000,\n",
    "#     \"군만두\": 4000, \"고기만두\": 4000, \"김치만두\": 4000, \"오징어덮밥\": 8000, \"참치덮밥\": 7500, \"오불덮밥\": 8000,\n",
    "#     \"비빔밥\": 7000, \"참치비빔밥\": 7500, \"새우볶음밥\": 7000, \"김치볶음밥\": 7000, \"오므라이스\": 7000, \"돈까스\": 9500,\n",
    "#     \"치즈돈까스\": 9500, \"고구마돈까스\": 9500, \"생선까스\": 9500, \"콩국수\": 8000,\n",
    "#     # \"날으는정식\": 18000, \"비빔밥정식\": 18000,\n",
    "#     # \"콜라(500ml)\": 2000, \"콜라(1.25L)\": 3000, \"사이다(500ml)\": 2000, \"사이다(1.25L)\": 3000\n",
    "# }\n",
    "\n",
    "# # 메뉴 대분류\n",
    "# menu_categories = {\n",
    "#     # \"대표메뉴\": [\"날으는 김밥\", \"참치김밥\", \"라볶이\", \"쫄면\", \"제육덮밥\", \"된장찌개\"],\n",
    "#     \"김밥류\": [\"날으는 김밥\", \"치즈김밥\", \"참치김밥\", \"소고기김밥\", \"돈까스김밥\", \"멸추김밥\", \"계란말이김밥\", \"땡초진미김밥\", \"참치와사비김밥\", \"날치알김밥\", \"새우튀김김밥\"],\n",
    "#     \"주먹밥\": [\"참치주먹밥\", \"소고기주먹밥\", \"멸치주먹밥\", \"날치알주먹밥\"],\n",
    "#     \"찌개류\": [\"된장찌개\", \"참치찌개\", \"순두부찌개\", \"김치찌개\", \"참치순두부찌개\", \"부대찌개\", \"육개장\", \"뚝배기불고기\"],\n",
    "#     \"분식류\": [\"떡볶이\", \"라볶이\", \"치즈떡볶이\", \"치즈라볶이\", \"오뎅\", \"쫄면\", \"우동\", \"얼큰해물우동\", \"비빔국수\", \"잔치국수\", \"라면\", \"떡라면\", \"김치라면\", \"만두라면\", \"치즈라면\", \"얼큰해물라면\", \"떡국\", \"만두국\", \"떡만두국\", \"군만두\", \"고기만두\", \"김치만두\"],\n",
    "#     \"식사류\": [\"오징어덮밥\", \"제육덮밥\", \"참치덮밥\", \"오불덮밥\", \"비빔밥\", \"참치비빔밥\", \"새우볶음밥\", \"김치볶음밥\", \"오므라이스\", \"돈까스\", \"치즈돈까스\", \"고구마돈까스\", \"생선까스\", \"콩국수\"],\n",
    "#     # \"세트메뉴\": [\"날으는정식\", \"비빔밥정식\"],\n",
    "#     # \"음료\": [\"콜라(500ml)\", \"콜라(1.25L)\", \"사이다(500ml)\", \"사이다(1.25L)\"]\n",
    "# }\n",
    "\n",
    "# # 날씨 리스트\n",
    "# weather_conditions = [\"맑음\", \"흐림\", \"비\", \"눈\"]\n",
    "\n",
    "# # 데이터프레임 생성\n",
    "# data = []\n",
    "\n",
    "# # 랜덤 데이터 생성\n",
    "# for _ in range(10000):  # 5천개의 데이터 생성\n",
    "#     # 날짜 생성\n",
    "#     start_date = datetime(2023, 3, 1)\n",
    "#     end_date = datetime(2024, 10, 31)\n",
    "#     date = start_date + timedelta(days=random.randint(0, (end_date - start_date).days))\n",
    "#     time = datetime.strptime(f\"{random.randint(0, 23)}:{random.randint(0, 59)}\", \"%H:%M\").time()\n",
    "#     datetime_combined = datetime.combine(date, time)\n",
    "    \n",
    "#     # 메뉴 및 총가격 생성\n",
    "#     num_people = random.randint(1, 5)\n",
    "#     if num_people == 1:\n",
    "#         num_items = num_people + random.randint(0, 1)  # 인원 수가 1명인 경우\n",
    "#     else:\n",
    "#         num_items = num_people + random.randint(0, 1)  # 인원 수가 2명 이상인 경우\n",
    "#     selected_items = []\n",
    "#     for _ in range(num_items):\n",
    "#         category = random.choice(list(menu_categories.keys()))\n",
    "#         item = random.choice(menu_categories[category])\n",
    "#         selected_items.append(item)\n",
    "#     total_price = sum(menu_prices[item] for item in selected_items)\n",
    "    \n",
    "#     # 인원구성 생성\n",
    "#     people = []\n",
    "#     for _ in range(num_people):\n",
    "#         gender = random.choice([\"남\", \"여\"])\n",
    "#         age = random.randint(10, 60)\n",
    "#         people.append(f\"{gender}({age})\")\n",
    "#     people_str = \" \".join(people)\n",
    "    \n",
    "#     # 날씨 생성\n",
    "#     weather = random.choices(weather_conditions, weights=[60, 20, 10, 10], k=1)[0]\n",
    "    \n",
    "#     # 데이터 추가\n",
    "#     data.append([\", \".join(selected_items), total_price, people_str, datetime_combined, weather])\n",
    "\n",
    "# # 데이터프레임으로 변환\n",
    "# df = pd.DataFrame(data, columns=[\"음식\", \"총가격\", \"인원구성\", \"요일 및 시간\", \"날씨\"])"
   ]
  },
  {
   "cell_type": "code",
   "execution_count": null,
   "metadata": {},
   "outputs": [],
   "source": [
    "# # 데이터프레임 출력\n",
    "# df.to_csv(\"data.csv\", index=False)"
   ]
  },
  {
   "cell_type": "markdown",
   "metadata": {},
   "source": [
    "## 모델링"
   ]
  },
  {
   "cell_type": "code",
   "execution_count": 55,
   "metadata": {},
   "outputs": [],
   "source": [
    "# 데이터 불러오기\n",
    "df = pd.read_csv(\"data.csv\")"
   ]
  },
  {
   "cell_type": "code",
   "execution_count": 56,
   "metadata": {},
   "outputs": [
    {
     "name": "stdout",
     "output_type": "stream",
     "text": [
      "<class 'pandas.core.frame.DataFrame'>\n",
      "RangeIndex: 10000 entries, 0 to 9999\n",
      "Data columns (total 5 columns):\n",
      " #   Column   Non-Null Count  Dtype \n",
      "---  ------   --------------  ----- \n",
      " 0   음식       10000 non-null  object\n",
      " 1   총가격      10000 non-null  int64 \n",
      " 2   인원구성     10000 non-null  object\n",
      " 3   요일 및 시간  10000 non-null  object\n",
      " 4   날씨       10000 non-null  object\n",
      "dtypes: int64(1), object(4)\n",
      "memory usage: 390.8+ KB\n"
     ]
    }
   ],
   "source": [
    "df.info()"
   ]
  },
  {
   "cell_type": "code",
   "execution_count": 57,
   "metadata": {},
   "outputs": [
    {
     "data": {
      "text/html": [
       "<div>\n",
       "<style scoped>\n",
       "    .dataframe tbody tr th:only-of-type {\n",
       "        vertical-align: middle;\n",
       "    }\n",
       "\n",
       "    .dataframe tbody tr th {\n",
       "        vertical-align: top;\n",
       "    }\n",
       "\n",
       "    .dataframe thead th {\n",
       "        text-align: right;\n",
       "    }\n",
       "</style>\n",
       "<table border=\"1\" class=\"dataframe\">\n",
       "  <thead>\n",
       "    <tr style=\"text-align: right;\">\n",
       "      <th></th>\n",
       "      <th>음식</th>\n",
       "      <th>총가격</th>\n",
       "      <th>인원구성</th>\n",
       "      <th>요일 및 시간</th>\n",
       "      <th>날씨</th>\n",
       "    </tr>\n",
       "  </thead>\n",
       "  <tbody>\n",
       "    <tr>\n",
       "      <th>0</th>\n",
       "      <td>참치비빔밥, 소고기주먹밥, 만두라면, 쫄면</td>\n",
       "      <td>24000</td>\n",
       "      <td>여(44) 여(22) 남(28) 남(20)</td>\n",
       "      <td>2023-09-09 04:35:00</td>\n",
       "      <td>맑음</td>\n",
       "    </tr>\n",
       "    <tr>\n",
       "      <th>1</th>\n",
       "      <td>날치알주먹밥, 육개장</td>\n",
       "      <td>12000</td>\n",
       "      <td>여(53)</td>\n",
       "      <td>2023-10-12 02:09:00</td>\n",
       "      <td>맑음</td>\n",
       "    </tr>\n",
       "    <tr>\n",
       "      <th>2</th>\n",
       "      <td>날치알주먹밥, 라볶이, 떡라면, 멸치주먹밥, 육개장</td>\n",
       "      <td>26500</td>\n",
       "      <td>여(59) 여(38) 여(15) 여(58) 남(42)</td>\n",
       "      <td>2023-04-14 07:08:00</td>\n",
       "      <td>맑음</td>\n",
       "    </tr>\n",
       "    <tr>\n",
       "      <th>3</th>\n",
       "      <td>비빔국수, 육개장, 참치순두부찌개, 참치김밥</td>\n",
       "      <td>27000</td>\n",
       "      <td>여(53) 여(55) 남(59) 남(38)</td>\n",
       "      <td>2024-05-27 22:50:00</td>\n",
       "      <td>흐림</td>\n",
       "    </tr>\n",
       "    <tr>\n",
       "      <th>4</th>\n",
       "      <td>떡국, 김치만두, 참치주먹밥, 오불덮밥, 멸치주먹밥</td>\n",
       "      <td>27000</td>\n",
       "      <td>남(46) 여(52) 여(28) 여(13)</td>\n",
       "      <td>2024-02-06 13:02:00</td>\n",
       "      <td>흐림</td>\n",
       "    </tr>\n",
       "  </tbody>\n",
       "</table>\n",
       "</div>"
      ],
      "text/plain": [
       "                             음식    총가격                           인원구성  \\\n",
       "0       참치비빔밥, 소고기주먹밥, 만두라면, 쫄면  24000        여(44) 여(22) 남(28) 남(20)   \n",
       "1                   날치알주먹밥, 육개장  12000                          여(53)   \n",
       "2  날치알주먹밥, 라볶이, 떡라면, 멸치주먹밥, 육개장  26500  여(59) 여(38) 여(15) 여(58) 남(42)   \n",
       "3      비빔국수, 육개장, 참치순두부찌개, 참치김밥  27000        여(53) 여(55) 남(59) 남(38)   \n",
       "4  떡국, 김치만두, 참치주먹밥, 오불덮밥, 멸치주먹밥  27000        남(46) 여(52) 여(28) 여(13)   \n",
       "\n",
       "               요일 및 시간  날씨  \n",
       "0  2023-09-09 04:35:00  맑음  \n",
       "1  2023-10-12 02:09:00  맑음  \n",
       "2  2023-04-14 07:08:00  맑음  \n",
       "3  2024-05-27 22:50:00  흐림  \n",
       "4  2024-02-06 13:02:00  흐림  "
      ]
     },
     "execution_count": 57,
     "metadata": {},
     "output_type": "execute_result"
    }
   ],
   "source": [
    "df.head()"
   ]
  },
  {
   "cell_type": "markdown",
   "metadata": {},
   "source": [
    "### ml"
   ]
  },
  {
   "cell_type": "markdown",
   "metadata": {},
   "source": [
    "데이터 전처리"
   ]
  },
  {
   "cell_type": "code",
   "execution_count": 58,
   "metadata": {},
   "outputs": [],
   "source": [
    "import pandas as pd\n",
    "from sklearn.model_selection import train_test_split\n",
    "from sklearn.preprocessing import OneHotEncoder\n",
    "from sklearn.compose import ColumnTransformer\n",
    "from sklearn.pipeline import Pipeline\n",
    "from sklearn.ensemble import RandomForestClassifier\n",
    "import numpy as np\n",
    "from datetime import datetime\n",
    "from collections import Counter\n",
    "\n",
    "# 인원구성 전처리\n",
    "def process_people(people_str):\n",
    "    people = people_str.split()\n",
    "    genders = [p[0] for p in people]\n",
    "    age_groups = [p[2:-1] for p in people]\n",
    "    return genders, age_groups\n",
    "\n",
    "# 날짜 및 시간 전처리\n",
    "def process_datetime(datetime_str):\n",
    "    date_time = pd.to_datetime(datetime_str)\n",
    "    year = date_time.year\n",
    "    month = date_time.month\n",
    "    day_of_week = date_time.dayofweek\n",
    "    hour = date_time.hour\n",
    "    \n",
    "    # 시간대 분류\n",
    "    if 7 <= hour < 12:\n",
    "        time_of_day = \"아침\"\n",
    "    elif 12 <= hour < 17:\n",
    "        time_of_day = \"오후\"\n",
    "    else:\n",
    "        time_of_day = \"저녁\"\n",
    "    \n",
    "    # 공휴일 여부 (주말 포함)\n",
    "    is_holiday = day_of_week >= 5  # 토요일(5), 일요일(6)\n",
    "    \n",
    "    return year, month, day_of_week, is_holiday, time_of_day\n",
    "\n",
    "# 공휴일 여부를 문자열로 변환\n",
    "def holiday_str(is_holiday):\n",
    "    return \"공휴일o\" if is_holiday else \"공휴일x\"\n",
    "\n",
    "# 요일을 문자열로 변환\n",
    "def day_of_week_str(day_of_week):\n",
    "    days = [\"월요일\", \"화요일\", \"수요일\", \"목요일\", \"금요일\", \"토요일\", \"일요일\"]\n",
    "    return days[day_of_week]\n",
    "\n",
    "# 인원구성 전처리\n",
    "df['성별'], df['나이대'] = zip(*df['인원구성'].apply(process_people))\n",
    "\n",
    "# 날짜 및 시간 전처리\n",
    "df['연도'], df['월'], df['요일'], df['공휴일'], df['시간대'] = zip(*df['요일 및 시간'].apply(process_datetime))\n",
    "\n",
    "# 공휴일 여부와 요일을 문자열로 변환\n",
    "df['공휴일'] = df['공휴일'].apply(holiday_str)\n",
    "df['요일'] = df['요일'].apply(day_of_week_str)\n",
    "\n",
    "# 성별과 나이대를 각각의 열로 변환\n",
    "for gender in ['남', '여']:\n",
    "    for age_group in ['10대', '20대', '30대', '40대', '50대']:\n",
    "        df[f'{age_group} {gender} 수'] = df.apply(lambda row: sum(1 for g, a in zip(row['성별'], row['나이대']) if g == gender and a == age_group), axis=1)\n",
    "\n",
    "# One-Hot Encoding\n",
    "encoder = OneHotEncoder(categories=[['맑음', '흐림', '비', '눈'], ['월요일', '화요일', '수요일', '목요일', '금요일', '토요일', '일요일'], ['공휴일o', '공휴일x'], ['아침', '오후', '저녁']])\n",
    "encoded_columns = encoder.fit_transform(df[['날씨', '요일', '공휴일', '시간대']]).toarray()\n",
    "encoded_df = pd.DataFrame(encoded_columns, columns=encoder.get_feature_names_out(['날씨', '요일', '공휴일', '시간대']))\n",
    "\n",
    "# 최종 데이터프레임\n",
    "df = pd.concat([df, encoded_df], axis=1)\n",
    "df.drop(columns=['인원구성', '총가격', '요일 및 시간', '날씨', '성별', '나이대', '요일', '공휴일', '시간대'], inplace=True)"
   ]
  },
  {
   "cell_type": "code",
   "execution_count": 59,
   "metadata": {},
   "outputs": [
    {
     "name": "stdout",
     "output_type": "stream",
     "text": [
      "<class 'pandas.core.frame.DataFrame'>\n",
      "RangeIndex: 10000 entries, 0 to 9999\n",
      "Data columns (total 29 columns):\n",
      " #   Column    Non-Null Count  Dtype  \n",
      "---  ------    --------------  -----  \n",
      " 0   음식        10000 non-null  object \n",
      " 1   연도        10000 non-null  int64  \n",
      " 2   월         10000 non-null  int64  \n",
      " 3   10대 남 수   10000 non-null  int64  \n",
      " 4   20대 남 수   10000 non-null  int64  \n",
      " 5   30대 남 수   10000 non-null  int64  \n",
      " 6   40대 남 수   10000 non-null  int64  \n",
      " 7   50대 남 수   10000 non-null  int64  \n",
      " 8   10대 여 수   10000 non-null  int64  \n",
      " 9   20대 여 수   10000 non-null  int64  \n",
      " 10  30대 여 수   10000 non-null  int64  \n",
      " 11  40대 여 수   10000 non-null  int64  \n",
      " 12  50대 여 수   10000 non-null  int64  \n",
      " 13  날씨_맑음     10000 non-null  float64\n",
      " 14  날씨_흐림     10000 non-null  float64\n",
      " 15  날씨_비      10000 non-null  float64\n",
      " 16  날씨_눈      10000 non-null  float64\n",
      " 17  요일_월요일    10000 non-null  float64\n",
      " 18  요일_화요일    10000 non-null  float64\n",
      " 19  요일_수요일    10000 non-null  float64\n",
      " 20  요일_목요일    10000 non-null  float64\n",
      " 21  요일_금요일    10000 non-null  float64\n",
      " 22  요일_토요일    10000 non-null  float64\n",
      " 23  요일_일요일    10000 non-null  float64\n",
      " 24  공휴일_공휴일o  10000 non-null  float64\n",
      " 25  공휴일_공휴일x  10000 non-null  float64\n",
      " 26  시간대_아침    10000 non-null  float64\n",
      " 27  시간대_오후    10000 non-null  float64\n",
      " 28  시간대_저녁    10000 non-null  float64\n",
      "dtypes: float64(16), int64(12), object(1)\n",
      "memory usage: 2.2+ MB\n"
     ]
    }
   ],
   "source": [
    "df.info()"
   ]
  },
  {
   "cell_type": "code",
   "execution_count": 60,
   "metadata": {},
   "outputs": [
    {
     "data": {
      "text/html": [
       "<div>\n",
       "<style scoped>\n",
       "    .dataframe tbody tr th:only-of-type {\n",
       "        vertical-align: middle;\n",
       "    }\n",
       "\n",
       "    .dataframe tbody tr th {\n",
       "        vertical-align: top;\n",
       "    }\n",
       "\n",
       "    .dataframe thead th {\n",
       "        text-align: right;\n",
       "    }\n",
       "</style>\n",
       "<table border=\"1\" class=\"dataframe\">\n",
       "  <thead>\n",
       "    <tr style=\"text-align: right;\">\n",
       "      <th></th>\n",
       "      <th>음식</th>\n",
       "      <th>연도</th>\n",
       "      <th>월</th>\n",
       "      <th>10대 남 수</th>\n",
       "      <th>20대 남 수</th>\n",
       "      <th>30대 남 수</th>\n",
       "      <th>40대 남 수</th>\n",
       "      <th>50대 남 수</th>\n",
       "      <th>10대 여 수</th>\n",
       "      <th>20대 여 수</th>\n",
       "      <th>...</th>\n",
       "      <th>요일_수요일</th>\n",
       "      <th>요일_목요일</th>\n",
       "      <th>요일_금요일</th>\n",
       "      <th>요일_토요일</th>\n",
       "      <th>요일_일요일</th>\n",
       "      <th>공휴일_공휴일o</th>\n",
       "      <th>공휴일_공휴일x</th>\n",
       "      <th>시간대_아침</th>\n",
       "      <th>시간대_오후</th>\n",
       "      <th>시간대_저녁</th>\n",
       "    </tr>\n",
       "  </thead>\n",
       "  <tbody>\n",
       "    <tr>\n",
       "      <th>0</th>\n",
       "      <td>참치비빔밥, 소고기주먹밥, 만두라면, 쫄면</td>\n",
       "      <td>2023</td>\n",
       "      <td>9</td>\n",
       "      <td>0</td>\n",
       "      <td>0</td>\n",
       "      <td>0</td>\n",
       "      <td>0</td>\n",
       "      <td>0</td>\n",
       "      <td>0</td>\n",
       "      <td>0</td>\n",
       "      <td>...</td>\n",
       "      <td>0.0</td>\n",
       "      <td>0.0</td>\n",
       "      <td>0.0</td>\n",
       "      <td>1.0</td>\n",
       "      <td>0.0</td>\n",
       "      <td>1.0</td>\n",
       "      <td>0.0</td>\n",
       "      <td>0.0</td>\n",
       "      <td>0.0</td>\n",
       "      <td>1.0</td>\n",
       "    </tr>\n",
       "    <tr>\n",
       "      <th>1</th>\n",
       "      <td>날치알주먹밥, 육개장</td>\n",
       "      <td>2023</td>\n",
       "      <td>10</td>\n",
       "      <td>0</td>\n",
       "      <td>0</td>\n",
       "      <td>0</td>\n",
       "      <td>0</td>\n",
       "      <td>0</td>\n",
       "      <td>0</td>\n",
       "      <td>0</td>\n",
       "      <td>...</td>\n",
       "      <td>0.0</td>\n",
       "      <td>1.0</td>\n",
       "      <td>0.0</td>\n",
       "      <td>0.0</td>\n",
       "      <td>0.0</td>\n",
       "      <td>0.0</td>\n",
       "      <td>1.0</td>\n",
       "      <td>0.0</td>\n",
       "      <td>0.0</td>\n",
       "      <td>1.0</td>\n",
       "    </tr>\n",
       "    <tr>\n",
       "      <th>2</th>\n",
       "      <td>날치알주먹밥, 라볶이, 떡라면, 멸치주먹밥, 육개장</td>\n",
       "      <td>2023</td>\n",
       "      <td>4</td>\n",
       "      <td>0</td>\n",
       "      <td>0</td>\n",
       "      <td>0</td>\n",
       "      <td>0</td>\n",
       "      <td>0</td>\n",
       "      <td>0</td>\n",
       "      <td>0</td>\n",
       "      <td>...</td>\n",
       "      <td>0.0</td>\n",
       "      <td>0.0</td>\n",
       "      <td>1.0</td>\n",
       "      <td>0.0</td>\n",
       "      <td>0.0</td>\n",
       "      <td>0.0</td>\n",
       "      <td>1.0</td>\n",
       "      <td>1.0</td>\n",
       "      <td>0.0</td>\n",
       "      <td>0.0</td>\n",
       "    </tr>\n",
       "    <tr>\n",
       "      <th>3</th>\n",
       "      <td>비빔국수, 육개장, 참치순두부찌개, 참치김밥</td>\n",
       "      <td>2024</td>\n",
       "      <td>5</td>\n",
       "      <td>0</td>\n",
       "      <td>0</td>\n",
       "      <td>0</td>\n",
       "      <td>0</td>\n",
       "      <td>0</td>\n",
       "      <td>0</td>\n",
       "      <td>0</td>\n",
       "      <td>...</td>\n",
       "      <td>0.0</td>\n",
       "      <td>0.0</td>\n",
       "      <td>0.0</td>\n",
       "      <td>0.0</td>\n",
       "      <td>0.0</td>\n",
       "      <td>0.0</td>\n",
       "      <td>1.0</td>\n",
       "      <td>0.0</td>\n",
       "      <td>0.0</td>\n",
       "      <td>1.0</td>\n",
       "    </tr>\n",
       "    <tr>\n",
       "      <th>4</th>\n",
       "      <td>떡국, 김치만두, 참치주먹밥, 오불덮밥, 멸치주먹밥</td>\n",
       "      <td>2024</td>\n",
       "      <td>2</td>\n",
       "      <td>0</td>\n",
       "      <td>0</td>\n",
       "      <td>0</td>\n",
       "      <td>0</td>\n",
       "      <td>0</td>\n",
       "      <td>0</td>\n",
       "      <td>0</td>\n",
       "      <td>...</td>\n",
       "      <td>0.0</td>\n",
       "      <td>0.0</td>\n",
       "      <td>0.0</td>\n",
       "      <td>0.0</td>\n",
       "      <td>0.0</td>\n",
       "      <td>0.0</td>\n",
       "      <td>1.0</td>\n",
       "      <td>0.0</td>\n",
       "      <td>1.0</td>\n",
       "      <td>0.0</td>\n",
       "    </tr>\n",
       "  </tbody>\n",
       "</table>\n",
       "<p>5 rows × 29 columns</p>\n",
       "</div>"
      ],
      "text/plain": [
       "                             음식    연도   월  10대 남 수  20대 남 수  30대 남 수  40대 남 수  \\\n",
       "0       참치비빔밥, 소고기주먹밥, 만두라면, 쫄면  2023   9        0        0        0        0   \n",
       "1                   날치알주먹밥, 육개장  2023  10        0        0        0        0   \n",
       "2  날치알주먹밥, 라볶이, 떡라면, 멸치주먹밥, 육개장  2023   4        0        0        0        0   \n",
       "3      비빔국수, 육개장, 참치순두부찌개, 참치김밥  2024   5        0        0        0        0   \n",
       "4  떡국, 김치만두, 참치주먹밥, 오불덮밥, 멸치주먹밥  2024   2        0        0        0        0   \n",
       "\n",
       "   50대 남 수  10대 여 수  20대 여 수  ...  요일_수요일  요일_목요일  요일_금요일  요일_토요일  요일_일요일  \\\n",
       "0        0        0        0  ...     0.0     0.0     0.0     1.0     0.0   \n",
       "1        0        0        0  ...     0.0     1.0     0.0     0.0     0.0   \n",
       "2        0        0        0  ...     0.0     0.0     1.0     0.0     0.0   \n",
       "3        0        0        0  ...     0.0     0.0     0.0     0.0     0.0   \n",
       "4        0        0        0  ...     0.0     0.0     0.0     0.0     0.0   \n",
       "\n",
       "   공휴일_공휴일o  공휴일_공휴일x  시간대_아침  시간대_오후  시간대_저녁  \n",
       "0       1.0       0.0     0.0     0.0     1.0  \n",
       "1       0.0       1.0     0.0     0.0     1.0  \n",
       "2       0.0       1.0     1.0     0.0     0.0  \n",
       "3       0.0       1.0     0.0     0.0     1.0  \n",
       "4       0.0       1.0     0.0     1.0     0.0  \n",
       "\n",
       "[5 rows x 29 columns]"
      ]
     },
     "execution_count": 60,
     "metadata": {},
     "output_type": "execute_result"
    }
   ],
   "source": [
    "df.head()"
   ]
  },
  {
   "cell_type": "markdown",
   "metadata": {},
   "source": [
    "### 모델 학습"
   ]
  },
  {
   "cell_type": "markdown",
   "metadata": {},
   "source": [
    "데이터 분할"
   ]
  },
  {
   "cell_type": "code",
   "execution_count": 61,
   "metadata": {},
   "outputs": [],
   "source": [
    "X = df.drop(columns=['음식'])\n",
    "y = df['음식']\n",
    "\n",
    "X_train, X_test, y_train, y_test = train_test_split(X, y, test_size=0.2, random_state=42)"
   ]
  },
  {
   "cell_type": "markdown",
   "metadata": {},
   "source": [
    "의사결정나무로 특성별 분기되는 과정 시각화"
   ]
  },
  {
   "cell_type": "code",
   "execution_count": null,
   "metadata": {},
   "outputs": [
    {
     "data": {
      "text/plain": [
       "DecisionTreeClassifier(random_state=42)"
      ]
     },
     "execution_count": 47,
     "metadata": {},
     "output_type": "execute_result"
    }
   ],
   "source": [
    "# DecisionTree\n",
    "from sklearn.tree import DecisionTreeClassifier\n",
    "dt = DecisionTreeClassifier(random_state=42)\n",
    "dt.fit(X_train, y_train)"
   ]
  },
  {
   "cell_type": "markdown",
   "metadata": {},
   "source": [
    "아래의 값을 조절하며 시각화를 해볼수 있음\n",
    "- max_depth=2 -> 노드의 깊이 설정\n",
    "- fontsize=8 -> 글씨 크기설정"
   ]
  },
  {
   "cell_type": "code",
   "execution_count": null,
   "metadata": {},
   "outputs": [
    {
     "data": {
      "image/png": "[encoded data removed]",
      "text/plain": [
       "<Figure size 1000x500 with 1 Axes>"
      ]
     },
     "metadata": {},
     "output_type": "display_data"
    }
   ],
   "source": [
    "import matplotlib.pyplot as plt\n",
    "from sklearn.tree import plot_tree\n",
    "\n",
    "plt.figure(figsize=(10, 5))\n",
    "plot_tree(dt, \n",
    "          feature_names=df.columns, \n",
    "          max_depth=2, fontsize=8, filled=True)\n",
    "plt.show()"
   ]
  },
  {
   "cell_type": "code",
   "execution_count": 64,
   "metadata": {},
   "outputs": [
    {
     "data": {
      "image/png": "[encoded data removed]",
      "text/plain": [
       "<Figure size 1600x800 with 1 Axes>"
      ]
     },
     "metadata": {},
     "output_type": "display_data"
    }
   ],
   "source": [
    "import matplotlib.pyplot as plt\n",
    "from sklearn.tree import plot_tree\n",
    "\n",
    "plt.figure(figsize=(16, 8))\n",
    "plot_tree(dt, \n",
    "          feature_names=df.columns, \n",
    "          max_depth=3, fontsize=8, filled=True)\n",
    "plt.show()"
   ]
  },
  {
   "cell_type": "markdown",
   "metadata": {},
   "source": [
    "(트리계열 머신러닝 모델중 하나인) 랜덤포레스트 모델로 학습"
   ]
  },
  {
   "cell_type": "code",
   "execution_count": null,
   "metadata": {},
   "outputs": [],
   "source": [
    "model = RandomForestClassifier()\n",
    "model.fit(X_train, y_train)"
   ]
  },
  {
   "cell_type": "code",
   "execution_count": 25,
   "metadata": {},
   "outputs": [],
   "source": [
    "# # 모델 평가\n",
    "# accuracy = model.score(X_test, y_test)\n",
    "# print(f\"모델 정확도: {accuracy:.2f}\")\n",
    "\n",
    "# 새로운 데이터로 예측\n",
    "def predict_food(people_str, datetime_str, weather_str):\n",
    "    genders, age_groups = process_people(people_str)\n",
    "    \n",
    "    year, month, day_of_week, is_holiday, time_of_day = process_datetime(datetime_str)\n",
    "    \n",
    "    weather_encoded = encoder.transform(pd.DataFrame([[weather_str, day_of_week_str(day_of_week), holiday_str(is_holiday), time_of_day]], columns=['날씨', '요일', '공휴일', '시간대'])).toarray()[0]\n",
    "    \n",
    "    new_data = {\n",
    "        \"연도\": [year],\n",
    "        \"월\": [month]\n",
    "    }\n",
    "    \n",
    "    for i, feature in enumerate(encoder.get_feature_names_out(['날씨', '요일', '공휴일', '시간대'])):\n",
    "        new_data[feature] = [weather_encoded[i]]\n",
    "    \n",
    "    for gender in ['남', '여']:\n",
    "        for age_grp in ['10대', '20대', '30대', '40대', '50대']:\n",
    "            new_data[f'{age_grp} {gender} 수'] = [sum(1 for g, a in zip(genders, age_groups) if g == gender and a == age_grp)]\n",
    "    \n",
    "    # 모든 피처가 포함되도록 순서를 맞춥니다.\n",
    "    new_df = pd.DataFrame(new_data, columns=X.columns)\n",
    "    \n",
    "    # NaN 값 확인 및 처리\n",
    "    if new_df.isnull().values.any():\n",
    "        new_df = new_df.fillna(0)\n",
    "    \n",
    "    # 예측 확률 계산\n",
    "    predicted_proba = model.predict_proba(new_df)[0]\n",
    "    \n",
    "    # 상위 5개의 음식 조합 선택\n",
    "    top_indices = np.argsort(predicted_proba)[-5:][::-1]\n",
    "    top_foods = [model.classes_[i] for i in top_indices]\n",
    "    \n",
    "    # 인원수만큼 음식 조합 생성\n",
    "    num_people = len(genders)\n",
    "    top_combinations = []\n",
    "    for i in range(5):\n",
    "        combination = top_foods[i].split(', ')\n",
    "        \n",
    "        # 동일 요리가 3번 이상 포함되지 않도록 필터링\n",
    "        combination_counter = Counter(combination)\n",
    "        filtered_combination = []\n",
    "        for item in combination:\n",
    "            if combination_counter[item] > 3:\n",
    "                combination_counter[item] = 3\n",
    "            filtered_combination.append(item)\n",
    "        \n",
    "        if len(filtered_combination) < num_people:\n",
    "            filtered_combination.extend(filtered_combination[:num_people - len(filtered_combination)])\n",
    "        filtered_combination = filtered_combination[:num_people]\n",
    "        \n",
    "        # 동일 요리를 \"요리 x 횟수\" 형식으로 변환\n",
    "        combination_counter = Counter(filtered_combination)\n",
    "        formatted_combination = ', '.join([f\"{item} x {count}\" if count > 1 else item for item, count in combination_counter.items()])\n",
    "        top_combinations.append(formatted_combination)\n",
    "    \n",
    "    return top_combinations"
   ]
  },
  {
   "cell_type": "code",
   "execution_count": 27,
   "metadata": {},
   "outputs": [
    {
     "name": "stdout",
     "output_type": "stream",
     "text": [
      "TOP 1: 참치주먹밥 x 2, 참치덮밥 x 2\n",
      "TOP 2: 멸치주먹밥 x 2, 얼큰해물라면 x 2\n",
      "TOP 3: 치즈떡볶이, 떡볶이, 날치알김밥, 소고기김밥\n"
     ]
    }
   ],
   "source": [
    "# 예시 입력\n",
    "people_str = \"남(26) 남(25) 여(24) 여(23)\"\n",
    "datetime_str = \"2024-11-1 17:00:00\"\n",
    "weather_str = \"맑음\"\n",
    "\n",
    "# 음식 추천\n",
    "recommended_foods = predict_food(people_str, datetime_str, weather_str)\n",
    "\n",
    "# TOP 1, 2, 3 음식 조합 출력\n",
    "top1 = recommended_foods[0]\n",
    "top2 = recommended_foods[1]\n",
    "top3 = recommended_foods[2]\n",
    "\n",
    "print(f\"TOP 1: {top1}\")\n",
    "print(f\"TOP 2: {top2}\")\n",
    "print(f\"TOP 3: {top3}\")"
   ]
  },
  {
   "cell_type": "markdown",
   "metadata": {},
   "source": [
    "."
   ]
  }
 ],
 "metadata": {
  "kernelspec": {
   "display_name": "Python 3",
   "language": "python",
   "name": "python3"
  },
  "language_info": {
   "codemirror_mode": {
    "name": "ipython",
    "version": 3
   },
   "file_extension": ".py",
   "mimetype": "text/x-python",
   "name": "python",
   "nbconvert_exporter": "python",
   "pygments_lexer": "ipython3",
   "version": "3.7.8"
  }
 },
 "nbformat": 4,
 "nbformat_minor": 2
}
