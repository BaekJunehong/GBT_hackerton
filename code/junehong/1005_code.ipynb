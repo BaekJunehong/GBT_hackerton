{
 "cells": [
  {
   "cell_type": "markdown",
   "metadata": {},
   "source": [
    "# Import"
   ]
  },
  {
   "cell_type": "code",
   "execution_count": 680,
   "metadata": {},
   "outputs": [],
   "source": [
    "import pandas as pd"
   ]
  },
  {
   "cell_type": "code",
   "execution_count": 681,
   "metadata": {},
   "outputs": [],
   "source": [
    "import matplotlib.pyplot as plt\n",
    "\n",
    "# 한글 폰트 지정\n",
    "plt.rcParams['font.family'] ='Malgun Gothic'\n",
    "plt.rcParams['axes.unicode_minus'] =False\n",
    "\n",
    "font_path = \"C:/Windows/Fonts/malgun.ttf\""
   ]
  },
  {
   "cell_type": "markdown",
   "metadata": {},
   "source": [
    "# Load Data"
   ]
  },
  {
   "cell_type": "code",
   "execution_count": 682,
   "metadata": {},
   "outputs": [],
   "source": [
    "train_df = pd.read_csv(\"../../data/train.csv\")\n",
    "test_df = pd.read_csv(\"../../data/test.csv\")  \n",
    "submission = pd.read_csv(\"../../data/sample_submission.csv\")  "
   ]
  },
  {
   "cell_type": "code",
   "execution_count": 683,
   "metadata": {},
   "outputs": [
    {
     "name": "stdout",
     "output_type": "stream",
     "text": [
      "<class 'pandas.core.frame.DataFrame'>\n",
      "RangeIndex: 54609 entries, 0 to 54608\n",
      "Data columns (total 4 columns):\n",
      " #   Column  Non-Null Count  Dtype \n",
      "---  ------  --------------  ----- \n",
      " 0   ID      54609 non-null  object\n",
      " 1   분류      54609 non-null  object\n",
      " 2   제목      54609 non-null  object\n",
      " 3   키워드     54609 non-null  object\n",
      "dtypes: object(4)\n",
      "memory usage: 1.7+ MB\n"
     ]
    }
   ],
   "source": [
    "train_df.info()"
   ]
  },
  {
   "cell_type": "code",
   "execution_count": 684,
   "metadata": {},
   "outputs": [
    {
     "name": "stdout",
     "output_type": "stream",
     "text": [
      "<class 'pandas.core.frame.DataFrame'>\n",
      "RangeIndex: 23405 entries, 0 to 23404\n",
      "Data columns (total 3 columns):\n",
      " #   Column  Non-Null Count  Dtype \n",
      "---  ------  --------------  ----- \n",
      " 0   ID      23405 non-null  object\n",
      " 1   제목      23405 non-null  object\n",
      " 2   키워드     23405 non-null  object\n",
      "dtypes: object(3)\n",
      "memory usage: 548.7+ KB\n"
     ]
    }
   ],
   "source": [
    "test_df.info()"
   ]
  },
  {
   "cell_type": "code",
   "execution_count": 685,
   "metadata": {},
   "outputs": [
    {
     "name": "stdout",
     "output_type": "stream",
     "text": [
      "<class 'pandas.core.frame.DataFrame'>\n",
      "RangeIndex: 23405 entries, 0 to 23404\n",
      "Data columns (total 2 columns):\n",
      " #   Column  Non-Null Count  Dtype \n",
      "---  ------  --------------  ----- \n",
      " 0   ID      23405 non-null  object\n",
      " 1   분류      23405 non-null  object\n",
      "dtypes: object(2)\n",
      "memory usage: 365.8+ KB\n"
     ]
    }
   ],
   "source": [
    "submission.info()"
   ]
  },
  {
   "cell_type": "code",
   "execution_count": 686,
   "metadata": {},
   "outputs": [
    {
     "data": {
      "text/plain": [
       "56"
      ]
     },
     "execution_count": 686,
     "metadata": {},
     "output_type": "execute_result"
    }
   ],
   "source": [
    "len(train_df['분류'].value_counts())"
   ]
  },
  {
   "cell_type": "markdown",
   "metadata": {},
   "source": [
    "타겟변수 -> '분류'이고 종류 56가지"
   ]
  },
  {
   "cell_type": "code",
   "execution_count": 687,
   "metadata": {},
   "outputs": [
    {
     "data": {
      "text/html": [
       "<div>\n",
       "<style scoped>\n",
       "    .dataframe tbody tr th:only-of-type {\n",
       "        vertical-align: middle;\n",
       "    }\n",
       "\n",
       "    .dataframe tbody tr th {\n",
       "        vertical-align: top;\n",
       "    }\n",
       "\n",
       "    .dataframe thead th {\n",
       "        text-align: right;\n",
       "    }\n",
       "</style>\n",
       "<table border=\"1\" class=\"dataframe\">\n",
       "  <thead>\n",
       "    <tr style=\"text-align: right;\">\n",
       "      <th></th>\n",
       "      <th>ID</th>\n",
       "      <th>제목</th>\n",
       "      <th>키워드</th>\n",
       "    </tr>\n",
       "  </thead>\n",
       "  <tbody>\n",
       "    <tr>\n",
       "      <th>0</th>\n",
       "      <td>TEST_00000</td>\n",
       "      <td>[부고] 김태수씨 별세 외</td>\n",
       "      <td>김태수,별세,김태수씨,서울,광남초등학,교장,별세,김윤정,이노코리아,대표,희정,한성대...</td>\n",
       "    </tr>\n",
       "    <tr>\n",
       "      <th>1</th>\n",
       "      <td>TEST_00001</td>\n",
       "      <td>신규 확진 나흘째 세자릿수... 방역당국, 핼러윈 풍선효과 차단 총력</td>\n",
       "      <td>신규,확진,나흘,세자릿수,방역당국,핼러윈,풍선,효과,차단,총력,감염증,신종,코로나바...</td>\n",
       "    </tr>\n",
       "    <tr>\n",
       "      <th>2</th>\n",
       "      <td>TEST_00002</td>\n",
       "      <td>[서경이 만난 사람] 전해철 장관 \"재정분권 강화 '지방자치 2.0 시대' 마중물 ...</td>\n",
       "      <td>전해철,장관,재정,분권,강화,지방자치,2.0,시대,마중물,마련,장관,전해철,행정안전...</td>\n",
       "    </tr>\n",
       "    <tr>\n",
       "      <th>3</th>\n",
       "      <td>TEST_00003</td>\n",
       "      <td>용인시, 12일 '장애인 구인 구직 만남의 날' 채용 행사</td>\n",
       "      <td>용인시,구인,장애인,구직,만남,채용,행사,노호근,용인특례시,장애인,취업,지원,대회의...</td>\n",
       "    </tr>\n",
       "    <tr>\n",
       "      <th>4</th>\n",
       "      <td>TEST_00004</td>\n",
       "      <td>지자체 벽 터 경기지역 산단 활성화 모색</td>\n",
       "      <td>지자체,경기,북동부,지역,산업단지,혁신단위,설정,전략,지역,연계,특성,제시,경기도경...</td>\n",
       "    </tr>\n",
       "  </tbody>\n",
       "</table>\n",
       "</div>"
      ],
      "text/plain": [
       "           ID                                                 제목  \\\n",
       "0  TEST_00000                                     [부고] 김태수씨 별세 외   \n",
       "1  TEST_00001             신규 확진 나흘째 세자릿수... 방역당국, 핼러윈 풍선효과 차단 총력   \n",
       "2  TEST_00002  [서경이 만난 사람] 전해철 장관 \"재정분권 강화 '지방자치 2.0 시대' 마중물 ...   \n",
       "3  TEST_00003                   용인시, 12일 '장애인 구인 구직 만남의 날' 채용 행사   \n",
       "4  TEST_00004                             지자체 벽 터 경기지역 산단 활성화 모색   \n",
       "\n",
       "                                                 키워드  \n",
       "0  김태수,별세,김태수씨,서울,광남초등학,교장,별세,김윤정,이노코리아,대표,희정,한성대...  \n",
       "1  신규,확진,나흘,세자릿수,방역당국,핼러윈,풍선,효과,차단,총력,감염증,신종,코로나바...  \n",
       "2  전해철,장관,재정,분권,강화,지방자치,2.0,시대,마중물,마련,장관,전해철,행정안전...  \n",
       "3  용인시,구인,장애인,구직,만남,채용,행사,노호근,용인특례시,장애인,취업,지원,대회의...  \n",
       "4  지자체,경기,북동부,지역,산업단지,혁신단위,설정,전략,지역,연계,특성,제시,경기도경...  "
      ]
     },
     "execution_count": 687,
     "metadata": {},
     "output_type": "execute_result"
    }
   ],
   "source": [
    "test_df.head()"
   ]
  },
  {
   "cell_type": "markdown",
   "metadata": {},
   "source": [
    "영어 번역 내용 제거"
   ]
  },
  {
   "cell_type": "code",
   "execution_count": 688,
   "metadata": {},
   "outputs": [],
   "source": [
    "# '키워드' 열에서 '기사'와 '구글' 두 단어를 모두 포함하는 행을 찾는 조건\n",
    "condition = train_df['키워드'].apply(lambda x: all(word in x for word in ['기사', '구글']))\n",
    "\n",
    "# 조건을 만족하는 행들로 새로운 데이터프레임 생성\n",
    "filtered_df = train_df[condition].copy()"
   ]
  },
  {
   "cell_type": "code",
   "execution_count": 689,
   "metadata": {},
   "outputs": [
    {
     "data": {
      "text/plain": [
       "'이상일 용인특례시장, 민주평통 경기지역 의장표창 수여식 참석'"
      ]
     },
     "execution_count": 689,
     "metadata": {},
     "output_type": "execute_result"
    }
   ],
   "source": [
    "filtered_df.iloc[0]['제목']"
   ]
  },
  {
   "cell_type": "code",
   "execution_count": 690,
   "metadata": {},
   "outputs": [
    {
     "data": {
      "text/plain": [
       "'이상일,용인,특례,시장,참석,민주평통,경기,지역,의장,표창,수여식,시장,민주평통,평화,수호,선도,활동,감사,강조,이상일,용인,특례,시장,에이스홀,시청,민주평화통일자문회,수여식,경기,지역,의장,표창,참석,관계자들,격려,자리,시장,홍승표,민주평통,경기,지역,회의,부의장,용인시협의회장,추상구,민주평통,용인시,협의회장,자문위원,민주평통,경기,지역,자문,위원,400여명,참석,시장,민주평화통일자문회,경기지역회의,안보태세,수호,한반도,평화,선도,활동,감사,시장,북한,도발,주시,차례,특강,정세,한반도,안보,강화,강조,내년,민주평통,활동,응원,차원,지원,수여식,이날,표창,임명숙,자문위원,장석순,용인시협의회,자문,위원,자치분권,정지혜,용인시,자치,분권,민간협력팀장,62명,유공자,의장,표창,용인시협의회,평화통일포럼,통일공감사업,진행,홍보,평화,통일,정책,노력,유공,기관,표창,대표,이소연,뉴코리아여성연합,통일,페이스,주제,특강,진행,기사,구글,번역,번역,영문,기사,전문,구글번역,이해도,노력,영문,번역,오류,전제,following,full,text,English,article,translated,Google,Translate,Google,Translate,hard,Mayor,Lee,emphasized,grateful,Break,News,Southern,Gyeonggi,Yongin,Reporter,Lee,Gwi-seon,Yongin,Special,Mayor,Lee,Sang-il,attended,Gyeonggi,Region,Chairman,Award,Award,Ceremony,Democratic,Peaceful,Unification,Advisory,Council,held,City,Hall,Ace,Hall,20t,encouraged,people,attended,event,including,Mayor,Lee,Hong,Seung-pyo,vice-chairman,Gyeonggi,Regional,Council,Democratic,People,Unification,Party,Sang-gu,Choo,chairman,Yongin,City,Council,Unified,Democratic,People,Par,ty,advisory,members,Gyeonggi,Regional,Council,Democratic,People,Mayor,Lee,grateful,added,ma,yor,continue,monitor,North,Korea,provocations,emphasizing,continue,support,various,activities,Democratic,People,Coalition,Democracy,provide,various,support,city,level,said.,commendation,ceremony,people,merit,received,chairman,commendation,including,Myung-sook,Lim,Seok-soon,Jang,advisory,member,Yongin,City,Council,Jeong,Ji-hye,head,Yongin,City,autonomy,decentralization,priv,conducted,Forum,Project,received,efforts,unification,ate,cooperation,team.,Yongin,City,Council,conducted,Peaceful,Unification,Forum,Unification,Empathy,Project,received,institutional,commendation,efforts,promoting,peaceful,unification,policies.,Lee,So-yeon,head,Korea,Women,Federation,Unification,special,lecture,held,topic,Face,North'"
      ]
     },
     "execution_count": 690,
     "metadata": {},
     "output_type": "execute_result"
    }
   ],
   "source": [
    "filtered_df.iloc[0]['키워드']"
   ]
  },
  {
   "attachments": {
    "image.png": {
     "image/png": "[encoded data removed]"
    }
   },
   "cell_type": "markdown",
   "metadata": {},
   "source": [
    "![image.png](attachment:image.png)"
   ]
  },
  {
   "cell_type": "code",
   "execution_count": 691,
   "metadata": {},
   "outputs": [],
   "source": [
    "# '기사, 구글' 순서로 단어가 나오는 부분을 찾아 삭제하는 함수 정의\n",
    "def remove_keywords(text):\n",
    "    keywords = ['기사', '구글']\n",
    "    start_index = 0\n",
    "    for keyword in keywords:\n",
    "        start_index = text.find(keyword, start_index)\n",
    "        if start_index == -1:\n",
    "            return text\n",
    "        start_index += len(keyword)\n",
    "    return text[:text.find('기사')].strip()\n",
    "\n",
    "# 각 행의 '키워드' 값에서 '기사' 단어부터 마지막 단어까지 삭제\n",
    "filtered_df['키워드'] = filtered_df['키워드'].apply(remove_keywords)"
   ]
  },
  {
   "cell_type": "code",
   "execution_count": 692,
   "metadata": {},
   "outputs": [
    {
     "data": {
      "text/plain": [
       "'이상일,용인,특례,시장,참석,민주평통,경기,지역,의장,표창,수여식,시장,민주평통,평화,수호,선도,활동,감사,강조,이상일,용인,특례,시장,에이스홀,시청,민주평화통일자문회,수여식,경기,지역,의장,표창,참석,관계자들,격려,자리,시장,홍승표,민주평통,경기,지역,회의,부의장,용인시협의회장,추상구,민주평통,용인시,협의회장,자문위원,민주평통,경기,지역,자문,위원,400여명,참석,시장,민주평화통일자문회,경기지역회의,안보태세,수호,한반도,평화,선도,활동,감사,시장,북한,도발,주시,차례,특강,정세,한반도,안보,강화,강조,내년,민주평통,활동,응원,차원,지원,수여식,이날,표창,임명숙,자문위원,장석순,용인시협의회,자문,위원,자치분권,정지혜,용인시,자치,분권,민간협력팀장,62명,유공자,의장,표창,용인시협의회,평화통일포럼,통일공감사업,진행,홍보,평화,통일,정책,노력,유공,기관,표창,대표,이소연,뉴코리아여성연합,통일,페이스,주제,특강,진행,'"
      ]
     },
     "execution_count": 692,
     "metadata": {},
     "output_type": "execute_result"
    }
   ],
   "source": [
    "filtered_df.iloc[0]['키워드']"
   ]
  },
  {
   "cell_type": "code",
   "execution_count": 693,
   "metadata": {},
   "outputs": [
    {
     "data": {
      "text/plain": [
       "47"
      ]
     },
     "execution_count": 693,
     "metadata": {},
     "output_type": "execute_result"
    }
   ],
   "source": [
    "len(filtered_df['분류'].value_counts())"
   ]
  },
  {
   "cell_type": "code",
   "execution_count": 694,
   "metadata": {},
   "outputs": [
    {
     "data": {
      "text/plain": [
       "지역               1594\n",
       "IT_과학:인터넷_SNS      59\n",
       "사회:장애인             38\n",
       "사회:사회일반            36\n",
       "사회:교육_시험           35\n",
       "경제:취업_창업           34\n",
       "경제:반도체             34\n",
       "문화:전시_공연           30\n",
       "경제:부동산             24\n",
       "스포츠:올림픽_아시안게임      22\n",
       "정치:행정_자치           22\n",
       "경제:경제일반            21\n",
       "IT_과학:콘텐츠          20\n",
       "사회:의료_건강           20\n",
       "사회:여성              18\n",
       "경제:자동차             18\n",
       "정치:국회_정당           18\n",
       "경제:무역              17\n",
       "사회:환경              16\n",
       "정치:정치일반            15\n",
       "문화:문화일반            14\n",
       "경제:유통              13\n",
       "IT_과학:모바일          12\n",
       "경제:금융_재테크          11\n",
       "문화:출판              11\n",
       "문화:학술_문화재          10\n",
       "경제:서비스_쇼핑          10\n",
       "문화:방송_연예            9\n",
       "문화:미술_건축            9\n",
       "스포츠:축구              9\n",
       "정치:선거               7\n",
       "문화:음악               5\n",
       "사회:노동_복지            5\n",
       "정치:청와대              4\n",
       "IT_과학:보안            4\n",
       "IT_과학:IT_과학일반       4\n",
       "스포츠:월드컵             3\n",
       "사회:사건_사고            3\n",
       "국제                  3\n",
       "경제:자원               3\n",
       "문화:종교               2\n",
       "정치:북한               2\n",
       "IT_과학:과학            1\n",
       "사회:미디어              1\n",
       "문화:요리_여행            1\n",
       "경제:산업_기업            1\n",
       "문화:영화               1\n",
       "Name: 분류, dtype: int64"
      ]
     },
     "execution_count": 694,
     "metadata": {},
     "output_type": "execute_result"
    }
   ],
   "source": [
    "filtered_df['분류'].value_counts()"
   ]
  },
  {
   "cell_type": "markdown",
   "metadata": {},
   "source": [
    "실제 제거하여 데이터셋에 반영"
   ]
  },
  {
   "cell_type": "code",
   "execution_count": 695,
   "metadata": {},
   "outputs": [],
   "source": [
    "# '키워드' 열에서 '기사'와 '구글' 두 단어를 모두 포함하는 행을 찾는 조건\n",
    "condition_train = train_df['키워드'].apply(lambda x: all(word in x for word in ['기사', '구글']))\n",
    "condition_test = test_df['키워드'].apply(lambda x: all(word in x for word in ['기사', '구글']))\n",
    "\n",
    "# 조건을 만족하는 행들로 새로운 데이터프레임 생성\n",
    "filtered_train_df = train_df[condition_train].copy()\n",
    "filtered_test_df = test_df[condition_test].copy()\n",
    "\n",
    "# '기사, 구글' 순서로 단어가 나오는 부분을 찾아 삭제하는 함수 정의\n",
    "def remove_keywords(text):\n",
    "    keywords = ['기사', '구글']\n",
    "    start_index = 0\n",
    "    for keyword in keywords:\n",
    "        start_index = text.find(keyword, start_index)\n",
    "        if start_index == -1:\n",
    "            return text\n",
    "        start_index += len(keyword)\n",
    "    return text[:text.find('기사')].strip()\n",
    "\n",
    "# 각 행의 '키워드' 값에서 '기사' 단어부터 마지막 단어까지 삭제\n",
    "filtered_train_df['키워드'] = filtered_train_df['키워드'].apply(remove_keywords)\n",
    "filtered_test_df['키워드'] = filtered_test_df['키워드'].apply(remove_keywords)\n",
    "\n",
    "# 수정된 '키워드' 값을 원래 데이터프레임에 반영\n",
    "train_df.loc[condition_train, '키워드'] = filtered_train_df['키워드']\n",
    "test_df.loc[condition_test, '키워드'] = filtered_test_df['키워드']"
   ]
  },
  {
   "cell_type": "code",
   "execution_count": 696,
   "metadata": {},
   "outputs": [
    {
     "data": {
      "text/plain": [
       "'이상일,용인,특례,시장,참석,민주평통,경기,지역,의장,표창,수여식,시장,민주평통,평화,수호,선도,활동,감사,강조,이상일,용인,특례,시장,에이스홀,시청,민주평화통일자문회,수여식,경기,지역,의장,표창,참석,관계자들,격려,자리,시장,홍승표,민주평통,경기,지역,회의,부의장,용인시협의회장,추상구,민주평통,용인시,협의회장,자문위원,민주평통,경기,지역,자문,위원,400여명,참석,시장,민주평화통일자문회,경기지역회의,안보태세,수호,한반도,평화,선도,활동,감사,시장,북한,도발,주시,차례,특강,정세,한반도,안보,강화,강조,내년,민주평통,활동,응원,차원,지원,수여식,이날,표창,임명숙,자문위원,장석순,용인시협의회,자문,위원,자치분권,정지혜,용인시,자치,분권,민간협력팀장,62명,유공자,의장,표창,용인시협의회,평화통일포럼,통일공감사업,진행,홍보,평화,통일,정책,노력,유공,기관,표창,대표,이소연,뉴코리아여성연합,통일,페이스,주제,특강,진행,'"
      ]
     },
     "execution_count": 696,
     "metadata": {},
     "output_type": "execute_result"
    }
   ],
   "source": [
    "filtered_df.iloc[0]['키워드']"
   ]
  },
  {
   "cell_type": "code",
   "execution_count": 697,
   "metadata": {},
   "outputs": [],
   "source": [
    "# # 수정된 '키워드' 값을 원래 데이터프레임에 반영\n",
    "# train_df.loc[condition_train, '키워드'] = filtered_train_df['키워드']\n",
    "# test_df.loc[condition_test, '키워드'] = filtered_test_df['키워드']\n",
    "\n",
    "# # 수정된 데이터프레임을 CSV 파일로 저장\n",
    "# train_df.to_csv('train_df_translate_del.csv', index=False, encoding='utf-8-sig')\n",
    "# test_df.to_csv('test_df_translate_del.csv', index=False, encoding='utf-8-sig')"
   ]
  },
  {
   "cell_type": "markdown",
   "metadata": {},
   "source": [
    "## 전처리"
   ]
  },
  {
   "cell_type": "code",
   "execution_count": 698,
   "metadata": {},
   "outputs": [],
   "source": [
    "# import re\n",
    "# from collections import Counter\n",
    "\n",
    "# # 불용어 제거\n",
    "# removed_keywords = []\n",
    "\n",
    "# def remove_invalid_keywords(keywords):\n",
    "#     pattern = re.compile(\n",
    "#         r'[A-Za-z]+[가-힣\\u4E00-\\u9FFF]+|'  # 영어+한글\n",
    "#         r'[0-9]+[가-힣\\u4E00-\\u9FFF]+|'     # 숫자+한글\n",
    "#         r'[0-9]+[A-Za-z]+|'                 # 숫자+영어\n",
    "#         r'[가-힣]+[A-Za-z\\u4E00-\\u9FFF]+|'  # 한글+영어\n",
    "#         r'[가-힣]+[0-9]+|'                  # 한글+숫자\n",
    "#         r'[A-Za-z]+[0-9]+|'                 # 영어+숫자\n",
    "#         r'[\\u4E00-\\u9FFF]+|'                # 한자\n",
    "#         r'[0-9]+(\\.[0-9]+)?%|'              # 숫자+퍼센트\n",
    "#         r'[0-9]+|'                          # 숫자\n",
    "#         r'[A-Za-z]+'                        # 영어\n",
    "#     )\n",
    "#     valid_keywords = []\n",
    "#     exceptions = ['코로나19', 'QR코드', 'RE100', 'AI', 'SNS', 'R&D', 'CCTV', 'TV', 'VR', 'SW']\n",
    "#     for word in keywords.split(','):\n",
    "#         word = word.strip()\n",
    "#         if not word or pattern.match(word):  # 공백이거나 패턴에 맞는 단어 제거\n",
    "#             if word not in exceptions:  # 예외 처리\n",
    "#                 removed_keywords.append(word)\n",
    "#             else:\n",
    "#                 valid_keywords.append(word)\n",
    "#         else:\n",
    "#             valid_keywords.append(word)\n",
    "#     return ', '.join(valid_keywords)\n",
    "\n",
    "# # 원본 데이터에서 해당 키워드들을 제거\n",
    "# train_df['키워드'] = train_df['키워드'].apply(remove_invalid_keywords)\n",
    "# test_df['키워드'] = test_df['키워드'].apply(remove_invalid_keywords)\n",
    "\n",
    "# # 제거된 단어들 출력\n",
    "# print(\"\\n제거된 단어들:\")\n",
    "# print(removed_keywords[:10])"
   ]
  },
  {
   "cell_type": "markdown",
   "metadata": {},
   "source": [
    "영어 빼고 돌리기"
   ]
  },
  {
   "cell_type": "code",
   "execution_count": 699,
   "metadata": {},
   "outputs": [
    {
     "name": "stdout",
     "output_type": "stream",
     "text": [
      "\n",
      "제거된 단어들:\n",
      "['18일', '15일', '7월', '8월', '50%', '22일', '20명', '10명', '70명', '36종류']\n"
     ]
    }
   ],
   "source": [
    "import re\n",
    "from collections import Counter\n",
    "\n",
    "# 불용어 제거\n",
    "removed_keywords = []\n",
    "\n",
    "def remove_invalid_keywords(keywords):\n",
    "    pattern = re.compile(\n",
    "        r'[A-Za-z]+[가-힣\\u4E00-\\u9FFF]+|'  # 영어+한글\n",
    "        r'[0-9]+[가-힣\\u4E00-\\u9FFF]+|'     # 숫자+한글\n",
    "        r'[0-9]+[A-Za-z]+|'                 # 숫자+영어\n",
    "        r'[가-힣]+[A-Za-z\\u4E00-\\u9FFF]+|'  # 한글+영어\n",
    "        r'[가-힣]+[0-9]+|'                  # 한글+숫자\n",
    "        r'[A-Za-z]+[0-9]+|'                 # 영어+숫자\n",
    "        r'[\\u4E00-\\u9FFF]+|'                # 한자\n",
    "        r'[0-9]+(\\.[0-9]+)?%|'              # 숫자+퍼센트\n",
    "        r'[0-9]+'                          # 숫자\n",
    "        # r'[A-Za-z]+'                        # 영어\n",
    "    )\n",
    "    valid_keywords = []\n",
    "    exceptions = ['코로나19', 'QR코드', 'RE100', 'AI', 'SNS', 'R&D', 'CCTV', 'TV', 'VR', 'SW', 'ESG', 'QR']\n",
    "    for word in keywords.split(','):\n",
    "        word = word.strip()\n",
    "        if not word or pattern.match(word):  # 공백이거나 패턴에 맞는 단어 제거\n",
    "            if word not in exceptions:  # 예외 처리\n",
    "                removed_keywords.append(word)\n",
    "            else:\n",
    "                valid_keywords.append(word)\n",
    "        else:\n",
    "            valid_keywords.append(word)\n",
    "    return ', '.join(valid_keywords)\n",
    "\n",
    "# 원본 데이터에서 해당 키워드들을 제거\n",
    "train_df['키워드'] = train_df['키워드'].apply(remove_invalid_keywords)\n",
    "test_df['키워드'] = test_df['키워드'].apply(remove_invalid_keywords)\n",
    "\n",
    "# 제거된 단어들 출력\n",
    "print(\"\\n제거된 단어들:\")\n",
    "print(removed_keywords[:10])"
   ]
  },
  {
   "cell_type": "code",
   "execution_count": 700,
   "metadata": {},
   "outputs": [
    {
     "name": "stdout",
     "output_type": "stream",
     "text": [
      "\n",
      "제거된 단어들 상위 50개:\n",
      "A씨: 13186\n",
      ": 7207\n",
      "1만: 6451\n",
      "SK하이닉스: 5605\n",
      "1년: 4812\n",
      "3년: 4033\n",
      "2년: 3948\n",
      "B씨: 3770\n",
      "6월: 3513\n",
      "1명: 3455\n",
      "12월: 3436\n",
      "7월: 3407\n",
      "3일: 3389\n",
      "3월: 3347\n",
      "1억: 3274\n",
      "1천: 3178\n",
      "2만: 3122\n",
      "9월: 3099\n",
      "4월: 3056\n",
      "2명: 3024\n",
      "3만: 2953\n",
      "10월: 2874\n",
      "5월: 2849\n",
      "8월: 2814\n",
      "1: 2791\n",
      "3명: 2749\n",
      "5년: 2740\n",
      "7일: 2740\n",
      "22일: 2734\n",
      "23일: 2725\n",
      "27일: 2708\n",
      "8일: 2693\n",
      "14일: 2684\n",
      "11월: 2684\n",
      "30일: 2668\n",
      "28일: 2663\n",
      "13일: 2641\n",
      "15일: 2606\n",
      "20일: 2600\n",
      "1일: 2590\n",
      "26일: 2579\n",
      "18일: 2577\n",
      "3개: 2561\n",
      "4일: 2510\n",
      "5일: 2507\n",
      "17일: 2503\n",
      "12일: 2501\n",
      "25일: 2478\n",
      "19일: 2464\n",
      "10일: 2415\n"
     ]
    }
   ],
   "source": [
    "# 제거된 단어들의 빈도 계산 및 상위 50개 출력\n",
    "keyword_counter = Counter(removed_keywords)\n",
    "top_50_keywords = keyword_counter.most_common(50)\n",
    "\n",
    "print(\"\\n제거된 단어들 상위 50개:\")\n",
    "for keyword, count in top_50_keywords:\n",
    "    print(f\"{keyword}: {count}\")"
   ]
  },
  {
   "cell_type": "markdown",
   "metadata": {},
   "source": [
    "영어부분만 처리"
   ]
  },
  {
   "cell_type": "markdown",
   "metadata": {},
   "source": [
    "영어단어중 2가지 경우 고려  \n",
    "- 특정 단어만 지울지(http, www, 갯수10개 이하제거 등등..)  \n",
    "- (밑에방식) 다 지우고 예외처리할지  "
   ]
  },
  {
   "cell_type": "code",
   "execution_count": 701,
   "metadata": {},
   "outputs": [
    {
     "name": "stdout",
     "output_type": "stream",
     "text": [
      "\n",
      "제거된 단어들:\n",
      "['CJ', 'ATM', 'ARS', 'www.wetax.go.kr', 'LH', 'LH', 'LH', 'BIT', 'BIS', 'NH']\n"
     ]
    }
   ],
   "source": [
    "import re\n",
    "from collections import Counter\n",
    "\n",
    "# 불용어 제거\n",
    "removed_keywords = []\n",
    "\n",
    "def remove_invalid_keywords(keywords):\n",
    "    pattern = re.compile(\n",
    "        r'[A-Za-z]+'                        # 영어\n",
    "    )\n",
    "    valid_keywords = []\n",
    "    exceptions = ['코로나19', 'QR코드', 'RE100', 'AI', 'SNS', 'R&D', 'CCTV', 'TV', 'VR', 'SW', 'ESG', 'QR']\n",
    "    for word in keywords.split(','):\n",
    "        word = word.strip()\n",
    "        if not word or pattern.match(word):  # 공백이거나 패턴에 맞는 단어 제거\n",
    "            if word not in exceptions:  # 예외 처리\n",
    "                removed_keywords.append(word)\n",
    "            else:\n",
    "                valid_keywords.append(word)\n",
    "        else:\n",
    "            valid_keywords.append(word)\n",
    "    return ', '.join(valid_keywords)\n",
    "\n",
    "# 원본 데이터에서 해당 키워드들을 제거\n",
    "train_df['키워드'] = train_df['키워드'].apply(remove_invalid_keywords)\n",
    "test_df['키워드'] = test_df['키워드'].apply(remove_invalid_keywords)\n",
    "\n",
    "# 제거된 단어들 출력\n",
    "print(\"\\n제거된 단어들:\")\n",
    "print(removed_keywords[:10])"
   ]
  },
  {
   "cell_type": "markdown",
   "metadata": {},
   "source": [
    "이때 회사나 기타 영어 관련 단어에 대한 고려필요    \n",
    "- 회사명 : SK하이닉스, LG전자, GS건설, 삼성SDI 등등     \n",
    "- 기타 : ESG, GTX(GTX-A,GTX용인역등), GX룸, KLPGA 등등  "
   ]
  },
  {
   "cell_type": "code",
   "execution_count": 702,
   "metadata": {},
   "outputs": [
    {
     "name": "stdout",
     "output_type": "stream",
     "text": [
      "\n",
      "제거된 단어들 상위 50개:\n",
      "SK: 4704\n",
      "GTX: 4231\n",
      "LH: 4175\n",
      "IC: 2620\n",
      "GH: 2347\n",
      "TF: 2005\n",
      "KLPGA: 1989\n",
      "GTX-A: 1501\n",
      "SRT: 1399\n",
      "NH: 1343\n",
      "YTN: 1227\n",
      "CJ: 943\n",
      "MOU: 885\n",
      "LED: 883\n",
      "ICT: 826\n",
      "KCC: 815\n",
      "CES: 803\n",
      "Fab: 754\n",
      "CC: 735\n",
      "LG: 729\n",
      "KG: 716\n",
      "TSMC: 652\n",
      "LAB: 630\n",
      "KB: 613\n",
      "KTX: 560\n",
      "City: 543\n",
      "CEO: 525\n",
      "UNIST: 520\n",
      "SUV: 514\n",
      "LPG: 512\n",
      "MWC: 509\n",
      "FC: 495\n",
      "MBC: 494\n",
      "SOC: 477\n",
      "PC: 468\n",
      "https: 460\n",
      "PF: 452\n",
      "DS: 437\n",
      "GS: 437\n",
      "IoT: 403\n",
      "PCR: 375\n",
      "www.dnews.co.kr: 364\n",
      "EBN: 361\n",
      "AMG: 356\n",
      "KBS: 338\n",
      "GTX-C: 336\n",
      "EV: 336\n",
      "ATM: 328\n",
      "DRT: 327\n",
      "PM: 322\n"
     ]
    }
   ],
   "source": [
    "# 제거된 단어들의 빈도 계산 및 상위 50개 출력\n",
    "keyword_counter = Counter(removed_keywords)\n",
    "top_50_keywords = keyword_counter.most_common(50)\n",
    "\n",
    "print(\"\\n제거된 단어들 상위 50개:\")\n",
    "for keyword, count in top_50_keywords:\n",
    "    print(f\"{keyword}: {count}\")"
   ]
  },
  {
   "cell_type": "markdown",
   "metadata": {},
   "source": [
    "단독으로 조사만 존재하는 경우는 x"
   ]
  },
  {
   "cell_type": "code",
   "execution_count": 703,
   "metadata": {},
   "outputs": [
    {
     "name": "stdout",
     "output_type": "stream",
     "text": [
      "\n",
      "제거된 단어들:\n",
      "['가', '가']\n"
     ]
    }
   ],
   "source": [
    "import re\n",
    "from collections import Counter\n",
    "\n",
    "# 불용어 제거\n",
    "removed_keywords = []\n",
    "\n",
    "def remove_invalid_keywords(keywords):\n",
    "    pattern = re.compile(\n",
    "        r'^(이|가|을|를|은|는|와|과|으로|로|에|에서|에게)$'  # 단독으로 존재하는 조사\n",
    "    )\n",
    "    valid_keywords = []\n",
    "    for word in keywords.split(','):\n",
    "        word = word.strip()\n",
    "        if not word or pattern.match(word):  # 공백이거나 패턴에 맞는 단어 제거\n",
    "            removed_keywords.append(word)\n",
    "        else:\n",
    "            valid_keywords.append(word)\n",
    "    return ', '.join(valid_keywords)\n",
    "\n",
    "# 원본 데이터에서 해당 키워드들을 제거\n",
    "train_df['키워드'] = train_df['키워드'].apply(remove_invalid_keywords)\n",
    "test_df['키워드'] = test_df['키워드'].apply(remove_invalid_keywords)\n",
    "\n",
    "# 제거된 단어들 출력\n",
    "print(\"\\n제거된 단어들:\")\n",
    "print(removed_keywords[:10])"
   ]
  },
  {
   "cell_type": "markdown",
   "metadata": {},
   "source": [
    "'경기용인 -> 경기용, [전문] -> 전문' 이렇게 들어간 값이 있어서 제거"
   ]
  },
  {
   "cell_type": "markdown",
   "metadata": {},
   "source": [
    "행의 갯수를 출력함"
   ]
  },
  {
   "cell_type": "code",
   "execution_count": 704,
   "metadata": {},
   "outputs": [
    {
     "data": {
      "text/plain": [
       "570"
      ]
     },
     "execution_count": 704,
     "metadata": {},
     "output_type": "execute_result"
    }
   ],
   "source": [
    "# 정확히 '경기용' 단어를 포함하고 있는 행 필터링 / 경기용인플랫폼 이런 단어는 찾지 않음\n",
    "filtered_df = train_df[train_df['키워드'].str.contains(r'\\b경기용\\b', na=False)]\n",
    "\n",
    "# 결과 출력\n",
    "len(filtered_df)"
   ]
  },
  {
   "cell_type": "code",
   "execution_count": 705,
   "metadata": {},
   "outputs": [
    {
     "data": {
      "text/plain": [
       "3601"
      ]
     },
     "execution_count": 705,
     "metadata": {},
     "output_type": "execute_result"
    }
   ],
   "source": [
    "# 정확히 '전문' 단어를 포함하고 있는 행 필터링 / 전문용 이런 단어는 찾지 않음\n",
    "filtered_df = train_df[train_df['키워드'].str.contains(r'\\b전문\\b', na=False)]\n",
    "\n",
    "# 결과 출력\n",
    "len(filtered_df)"
   ]
  },
  {
   "cell_type": "markdown",
   "metadata": {},
   "source": [
    "단어의 갯수 출력"
   ]
  },
  {
   "cell_type": "code",
   "execution_count": 706,
   "metadata": {},
   "outputs": [
    {
     "name": "stdout",
     "output_type": "stream",
     "text": [
      "4954\n"
     ]
    }
   ],
   "source": [
    "# 정확히 '전문' 단어를 포함하고 있는 행 필터링 / 전문용 이런 단어는 찾지 않음\n",
    "filtered_df = train_df[train_df['키워드'].str.contains(r'\\b전문\\b', na=False)]\n",
    "\n",
    "# 각 행에서 '전문' 단어의 갯수를 세는 함수\n",
    "def count_keyword_occurrences(keyword, word):\n",
    "    return len(re.findall(r'\\b{}\\b'.format(word), keyword))\n",
    "\n",
    "# '전문' 단어의 총 갯수 계산\n",
    "total_count = filtered_df['키워드'].apply(lambda x: count_keyword_occurrences(x, '전문')).sum()\n",
    "\n",
    "# 결과 출력\n",
    "print(total_count)"
   ]
  },
  {
   "cell_type": "markdown",
   "metadata": {},
   "source": [
    "'경기용'과 '전문' 단어 제거"
   ]
  },
  {
   "cell_type": "code",
   "execution_count": 707,
   "metadata": {},
   "outputs": [],
   "source": [
    "# '경기용'과 '전문' 단어 제거 함수\n",
    "def remove_keywords(keywords, words_to_remove):\n",
    "    keywords_list = keywords.split(', ')\n",
    "    filtered_keywords = [word for word in keywords_list if word not in words_to_remove]\n",
    "    return ', '.join(filtered_keywords)\n",
    "\n",
    "# 제거할 단어 목록\n",
    "words_to_remove = ['경기용', '전문']\n",
    "\n",
    "# '키워드' 열 업데이트\n",
    "train_df['키워드'] = train_df['키워드'].apply(lambda x: remove_keywords(x, words_to_remove))\n",
    "test_df['키워드'] = test_df['키워드'].apply(lambda x: remove_keywords(x, words_to_remove))"
   ]
  },
  {
   "cell_type": "code",
   "execution_count": 708,
   "metadata": {},
   "outputs": [
    {
     "data": {
      "text/plain": [
       "0"
      ]
     },
     "execution_count": 708,
     "metadata": {},
     "output_type": "execute_result"
    }
   ],
   "source": [
    "# 정확히 '경기용' 단어를 포함하고 있는 행 필터링 / 경기용인플랫폼 이런 단어는 찾지 않음\n",
    "filtered_df = train_df[train_df['키워드'].str.contains(r'\\b경기용\\b', na=False)]\n",
    "\n",
    "# 결과 출력\n",
    "len(filtered_df)"
   ]
  },
  {
   "cell_type": "code",
   "execution_count": 709,
   "metadata": {},
   "outputs": [
    {
     "data": {
      "text/plain": [
       "0"
      ]
     },
     "execution_count": 709,
     "metadata": {},
     "output_type": "execute_result"
    }
   ],
   "source": [
    "# 'https' 단어를 포함하고 있는 행 필터링 \n",
    "filtered_df = train_df[train_df['키워드'].str.contains(r'https', na=False)]\n",
    "\n",
    "# 결과 출력\n",
    "len(filtered_df)"
   ]
  },
  {
   "cell_type": "code",
   "execution_count": 710,
   "metadata": {},
   "outputs": [
    {
     "data": {
      "text/plain": [
       "0"
      ]
     },
     "execution_count": 710,
     "metadata": {},
     "output_type": "execute_result"
    }
   ],
   "source": [
    "# 'DX-' 단어를 포함하고 있는 행 필터링 \n",
    "filtered_df = train_df[train_df['키워드'].str.contains(r'DX-', na=False)]\n",
    "\n",
    "# 결과 출력\n",
    "len(filtered_df)"
   ]
  },
  {
   "cell_type": "code",
   "execution_count": 711,
   "metadata": {},
   "outputs": [
    {
     "data": {
      "text/plain": [
       "1"
      ]
     },
     "execution_count": 711,
     "metadata": {},
     "output_type": "execute_result"
    }
   ],
   "source": [
    "# 'ᅳᆯ' 단어를 포함하고 있는 행 필터링 \n",
    "filtered_df = train_df[train_df['키워드'].str.contains(r'ᅳᆯ', na=False)]\n",
    "\n",
    "# 결과 출력\n",
    "len(filtered_df)"
   ]
  },
  {
   "cell_type": "code",
   "execution_count": 712,
   "metadata": {},
   "outputs": [
    {
     "data": {
      "text/plain": [
       "0"
      ]
     },
     "execution_count": 712,
     "metadata": {},
     "output_type": "execute_result"
    }
   ],
   "source": [
    "# 정확히 '는' 단어를 포함하고 있는 행 필터링 / 경기는 이런 단어는 찾지 않음\n",
    "filtered_df = train_df[train_df['키워드'].str.contains(r'\\b는\\b', na=False)]\n",
    "\n",
    "# 결과 출력\n",
    "len(filtered_df)"
   ]
  },
  {
   "cell_type": "code",
   "execution_count": 713,
   "metadata": {},
   "outputs": [
    {
     "data": {
      "text/plain": [
       "'\"김동성, 양육비 8천만원 보냈는데 배드파더스 등재 평생 꼬리표\" 인민정의 호소 [전문]'"
      ]
     },
     "execution_count": 713,
     "metadata": {},
     "output_type": "execute_result"
    }
   ],
   "source": [
    "# 정확히 일치하는 행 필터링\n",
    "filtered_df = train_df[train_df['키워드'].str.contains(r'ᅳᆯ', na=False)]\n",
    "\n",
    "# 결과 출력\n",
    "filtered_df.iloc[0]['제목']"
   ]
  },
  {
   "cell_type": "code",
   "execution_count": 714,
   "metadata": {},
   "outputs": [
    {
     "data": {
      "text/plain": [
       "'김동성, 양육비, 배드파더스, 등재, 평생, 꼬리표, 인민정, 호소, 김동성, 쇼트, 트랙, 국가, 대표, 극단적, 선택, 인민정, 여자, 친구, 인민정, 자신, SNS, 심경, 인스타그램, 저, ᆼ글맘, 자신, 처지, 공개, 우울증, 공황, 장애, 김동성, 공평, 상황들, 뇌리, 장문, 김동성, ᅥᆫ만원정도, 살아야, 로, 고, 그, 꼬리표는, 평생, 달고, 사, 토로, 김동성씨, 방송, ᅳᆯ, 도, 아무것, ᅡᄀ, 스, 써, 여, ᆷᄒ, ᅩᄅ, 데, 극단적, ᅳᆯ, 할, 수밖에, 어, 바닥, 어, 이, 지옥, 상황, 결과, 호소, 김동성, 지난달, 용인시, 상현동, 자택, 극단적, 선택, 시도, 신고, 출동, 대원, 병원, 이송, 생명, 지장, ᅦᄀ, ᅳᆫ, 질타, 않으면, ᆯᄋ, ᅳᆫ데, 저는, 제가, 눈을, 뜨고, 있는, 한, 어떠한, 상황에서도, 발벗고, 나서지, 아, 일분이, 가, 이, 이, 이, 소중하기ᄋ, ᅳᆫ, 야, 설명, 배드파더스, 경제활동, 악의적, 양육비, 비양육자, 채찍질, 소득, 수입, 재산, 비양육자, 배드파더스, 낙인, 합리적, 개인적, 생각, 아내, 이혼, 양육비, 논란, 김동성, 이혼, 프로그램, 출연, 인민정, 인스타, 그램, 싱글맘, 양육자와, 비양육자, ᆼ글맘입니다, 지금껏, 양육비ᄂ, 이엄마입니다, 도, ᅳᆯ, 걸까, 이, 이, 서, 이, 벌었습니다, 도, 아, ᅳᆯ, ᅳᆯ, 김동성씨ᄂ, 고, 랴, 로, 이, ᅥᆫ만원정도입니다, 도, 로, 고, 그, 꼬리표는, 평생, 달고, 사, 남자친구, ᅦᄀ, ᅳᆫ, 고, 느, ᆯᄋ, ᅳᆫ데, 저는, 제가, 눈을, 뜨고, 있는한, 어떠한, 상황에서도, 발벗고, 나서지, 않으면, 지금, 우리는, 올ᄉ, ᆼ입니다, 가, 이, 이, 이, ᅳᆫ, 없습니다, 도, 가야합ᄂ, 에, ᅳᆫ, ᅳᆯ, 보며, 공평하지, 못한, 이, 사, 이, ᅳᆯ, 후, 아, ᅳᆯ, 못하고, 이, 과거, 도ᄃ, 했느, ᅡᄀ, 스, 써, 여, ᆷᄒ, ᅩᄅ, 없었던, 이, 이, 으, ᆩᄋ, 어, 바닥으로, 곳ᄋ, 이, 어, ᅳᆫ, 지옥이였습니다, 이런상황ᄋ, ᅪ인걸까요, 생각입니다, 겨, 으, 도, ᅳᆯ, 로, 아, ᅳᆯ, 하되, 아무런, 소득도, 수입도, 재산도, 없는, 비ᄋ, ᅳᆯ, ᅳᆫ, 이, 배드파더스지혜롭게현명하게, 배드파더스ᄀ, ᅦᄀ, 겨, 으, 서, 펴'"
      ]
     },
     "execution_count": 714,
     "metadata": {},
     "output_type": "execute_result"
    }
   ],
   "source": [
    "# 정확히 일치하는 행 필터링\n",
    "filtered_df = train_df[train_df['키워드'].str.contains(r'ᅳᆯ', na=False)]\n",
    "\n",
    "# 결과 출력\n",
    "filtered_df.iloc[0]['키워드']"
   ]
  },
  {
   "cell_type": "code",
   "execution_count": 715,
   "metadata": {},
   "outputs": [],
   "source": [
    "# 해당 행 제거\n",
    "train_df = train_df.drop(filtered_df.index)"
   ]
  },
  {
   "cell_type": "code",
   "execution_count": 716,
   "metadata": {},
   "outputs": [
    {
     "data": {
      "text/plain": [
       "0"
      ]
     },
     "execution_count": 716,
     "metadata": {},
     "output_type": "execute_result"
    }
   ],
   "source": [
    "# 'ᅳᆯ' 단어를 포함하고 있는 행 필터링 \n",
    "filtered_df = train_df[train_df['키워드'].str.contains(r'ᅳᆯ', na=False)]\n",
    "\n",
    "# 결과 출력\n",
    "len(filtered_df)"
   ]
  },
  {
   "cell_type": "markdown",
   "metadata": {},
   "source": [
    "test data에 존재하는지 찾기"
   ]
  },
  {
   "cell_type": "code",
   "execution_count": 717,
   "metadata": {},
   "outputs": [
    {
     "data": {
      "text/plain": [
       "1"
      ]
     },
     "execution_count": 717,
     "metadata": {},
     "output_type": "execute_result"
    }
   ],
   "source": [
    "# 정확히 일치하는 행 필터링\n",
    "filtered_df = test_df[test_df['키워드'].str.contains(r'ᅳᆯ', na=False)]\n",
    "\n",
    "# 결과 출력\n",
    "len(filtered_df)"
   ]
  },
  {
   "cell_type": "markdown",
   "metadata": {},
   "source": [
    "## 대분류 기준으로 공통단어 제거"
   ]
  },
  {
   "cell_type": "code",
   "execution_count": 718,
   "metadata": {},
   "outputs": [
    {
     "data": {
      "text/plain": [
       "지역       26950\n",
       "경제       10534\n",
       "사회        8244\n",
       "정치        2521\n",
       "문화        2500\n",
       "스포츠       2035\n",
       "IT_과학     1487\n",
       "국제         337\n",
       "Name: 분류_대분류, dtype: int64"
      ]
     },
     "execution_count": 718,
     "metadata": {},
     "output_type": "execute_result"
    }
   ],
   "source": [
    "# '분류' 열에서 앞부분만 추출하여 '분류_대분류'라는 새로운 열에 저장\n",
    "train_df['분류_대분류'] = train_df['분류'].apply(lambda x: x.split(':')[0])\n",
    "\n",
    "# 결과 확인\n",
    "train_df['분류_대분류'].value_counts()"
   ]
  },
  {
   "cell_type": "code",
   "execution_count": 719,
   "metadata": {},
   "outputs": [
    {
     "data": {
      "text/plain": [
       "54608"
      ]
     },
     "execution_count": 719,
     "metadata": {},
     "output_type": "execute_result"
    }
   ],
   "source": [
    "len(train_df)"
   ]
  },
  {
   "cell_type": "code",
   "execution_count": 720,
   "metadata": {},
   "outputs": [],
   "source": [
    "from collections import Counter\n",
    "\n",
    "def find_common_words_and_remove(num_categories=8, top_n=100, com_counts=10, train_df=train_df, test_df=test_df):\n",
    "    # '분류_대분류'의 각 범주에 속하는 단어들을 추출\n",
    "    category_words = {category: [] for category in train_df[\"분류_대분류\"].unique()}\n",
    "\n",
    "    for category in category_words.keys():\n",
    "        words = train_df.loc[train_df[\"분류_대분류\"] == category, \"키워드\"].apply(lambda x: x.split(',')).tolist()\n",
    "        category_words[category] = [word for sublist in words for word in sublist]\n",
    "\n",
    "    # 각 범주에 속하는 단어들을 카운팅\n",
    "    word_counts = {category: Counter(words) for category, words in category_words.items()}\n",
    "\n",
    "    # 지정된 범주 갯수에 속하는 단어들을 찾기\n",
    "    common_words = set()\n",
    "    for word in word_counts[list(word_counts.keys())[0]].keys():\n",
    "        count = sum(1 for category in word_counts.keys() if word in word_counts[category] and word_counts[category][word] >= com_counts)\n",
    "        if count == num_categories:\n",
    "            common_words.add(word)\n",
    "\n",
    "    # 지정된 범주 갯수에 속하는 단어와 그 갯수를 계산\n",
    "    common_word_counts = {word: sum(word_counts[category][word] for category in word_counts.keys()) for word in common_words}\n",
    "\n",
    "    # 단어들을 갯수 기준으로 정렬하고 상위 N개를 선택\n",
    "    top_common_words = sorted(common_word_counts.items(), key=lambda x: x[1], reverse=True)[:top_n]\n",
    "    print(f\"상위 {top_n}개의 단어 확인\")\n",
    "\n",
    "    # 상위 N개의 단어와 그 갯수, 그리고 각 범주에서의 갯수를 출력\n",
    "    for word, total_count in top_common_words:\n",
    "        category_counts = {category: word_counts[category][word] for category in word_counts.keys()}\n",
    "        print(f\"단어: {word}, 총 갯수: {total_count}, 각 범주에서의 갯수: {category_counts}\")\n",
    "        \n",
    "    # 총 몇 개의 단어가 겹치는지 출력\n",
    "    print(f\"총 {len(common_words)}개의 단어가 겹칩니다.\")\n",
    "\n",
    "    # top_n 기준으로 겹치는 단어들을 '키워드' 열에서 제거하고 새로운 열에 저장\n",
    "    top_common_words_set = set(word for word, _ in top_common_words)\n",
    "    \n",
    "    def remove_top_common_words(keywords):\n",
    "        return ', '.join([word for word in keywords.split(',') if word not in top_common_words_set])\n",
    "\n",
    "    train_df['키워드'] = train_df['키워드'].apply(remove_top_common_words)\n",
    "    test_df['키워드'] = test_df['키워드'].apply(remove_top_common_words)"
   ]
  },
  {
   "cell_type": "markdown",
   "metadata": {},
   "source": [
    "num_categories : 공통단어로 간주할 범주의 수  \n",
    "top_n : 상위 N개의 공통 단어를 선택  \n",
    "com_counts : 범주에서 단어가 공통 단어로 간주되기 위해 나타나야 하는 최소 횟수를 지정  "
   ]
  },
  {
   "cell_type": "code",
   "execution_count": 721,
   "metadata": {},
   "outputs": [
    {
     "name": "stdout",
     "output_type": "stream",
     "text": [
      "상위 100개의 단어 확인\n",
      "단어:  용인시, 총 갯수: 90801, 각 범주에서의 갯수: {'문화': 3623, '지역': 49116, '국제': 454, '정치': 3783, '경제': 17249, '사회': 11301, '스포츠': 2574, 'IT_과학': 2701}\n",
      "단어:  용인, 총 갯수: 65947, 각 범주에서의 갯수: {'문화': 3296, '지역': 33638, '국제': 255, '정치': 3646, '경제': 19061, '사회': 3756, '스포츠': 1164, 'IT_과학': 1131}\n",
      "단어:  지역, 총 갯수: 52102, 각 범주에서의 갯수: {'문화': 1356, '지역': 28457, '국제': 123, '정치': 3156, '경제': 12831, '사회': 5113, '스포츠': 171, 'IT_과학': 895}\n",
      "단어:  시장, 총 갯수: 48575, 각 범주에서의 갯수: {'문화': 1619, '지역': 25433, '국제': 322, '정치': 3943, '경제': 13272, '사회': 2239, '스포츠': 798, 'IT_과학': 949}\n",
      "단어:  경기도, 총 갯수: 43080, 각 범주에서의 갯수: {'문화': 1244, '지역': 24275, '국제': 124, '정치': 2237, '경제': 9083, '사회': 3823, '스포츠': 1743, 'IT_과학': 551}\n",
      "단어:  경기, 총 갯수: 38821, 각 범주에서의 갯수: {'문화': 1052, '지역': 14917, '국제': 225, '정치': 2242, '경제': 9228, '사회': 7059, '스포츠': 3502, 'IT_과학': 596}\n",
      "단어:  이날, 총 갯수: 17315, 각 범주에서의 갯수: {'문화': 744, '지역': 7708, '국제': 128, '정치': 1890, '경제': 2320, '사회': 3814, '스포츠': 506, 'IT_과학': 205}\n",
      "단어:  상황, 총 갯수: 12499, 각 범주에서의 갯수: {'문화': 381, '지역': 4955, '국제': 113, '정치': 796, '경제': 2872, '사회': 2938, '스포츠': 218, 'IT_과학': 226}\n",
      "단어:  사진, 총 갯수: 8567, 각 범주에서의 갯수: {'문화': 944, '지역': 3697, '국제': 101, '정치': 474, '경제': 1494, '사회': 1223, '스포츠': 304, 'IT_과학': 330}\n",
      "단어:  세계, 총 갯수: 7403, 각 범주에서의 갯수: {'문화': 776, '지역': 1423, '국제': 111, '정치': 265, '경제': 3832, '사회': 269, '스포츠': 366, 'IT_과학': 361}\n",
      "단어:  한국, 총 갯수: 5663, 각 범주에서의 갯수: {'문화': 1010, '지역': 931, '국제': 336, '정치': 284, '경제': 1714, '사회': 520, '스포츠': 650, 'IT_과학': 218}\n",
      "총 11개의 단어가 겹칩니다.\n"
     ]
    }
   ],
   "source": [
    "find_common_words_and_remove(num_categories=8, com_counts=100) # top_n은 default인 100 그대로 사용"
   ]
  },
  {
   "cell_type": "code",
   "execution_count": 722,
   "metadata": {},
   "outputs": [
    {
     "name": "stdout",
     "output_type": "stream",
     "text": [
      "상위 100개의 단어 확인\n",
      "단어:   진행, 총 갯수: 31403, 각 범주에서의 갯수: {'문화': 2177, '지역': 15946, '국제': 87, '정치': 950, '경제': 6308, '사회': 4322, '스포츠': 549, 'IT_과학': 1064}\n",
      "단어:   관계자, 총 갯수: 22403, 각 범주에서의 갯수: {'문화': 703, '지역': 11929, '국제': 98, '정치': 579, '경제': 4981, '사회': 3040, '스포츠': 302, 'IT_과학': 771}\n",
      "단어:   대표, 총 갯수: 14586, 각 범주에서의 갯수: {'문화': 1018, '지역': 4415, '국제': 43, '정치': 3202, '경제': 3088, '사회': 1375, '스포츠': 902, 'IT_과학': 543}\n",
      "단어:   시작, 총 갯수: 13409, 각 범주에서의 갯수: {'문화': 1203, '지역': 5374, '국제': 72, '정치': 696, '경제': 3225, '사회': 1899, '스포츠': 372, 'IT_과학': 568}\n",
      "총 4개의 단어가 겹칩니다.\n"
     ]
    }
   ],
   "source": [
    "find_common_words_and_remove(num_categories=7, com_counts=300)"
   ]
  },
  {
   "cell_type": "code",
   "execution_count": 723,
   "metadata": {},
   "outputs": [],
   "source": [
    "from collections import Counter\n",
    "\n",
    "def count_and_remove_low_occurrence_keywords(train_df, test_df, threshold=3):\n",
    "    # '키워드' 열의 각 값을 쉼표로 분리하여 리스트로 변환\n",
    "    train_df['키워드_리스트'] = train_df['키워드'].apply(lambda x: x.split(','))\n",
    "    test_df['키워드_리스트'] = test_df['키워드'].apply(lambda x: x.split(','))\n",
    "\n",
    "    # '분류_대분류' 별로 단어들을 추출하고 카운팅\n",
    "    category_keywords = {category: [] for category in train_df[\"분류_대분류\"].unique()}\n",
    "\n",
    "    for category in category_keywords.keys():\n",
    "        words = train_df.loc[train_df[\"분류_대분류\"] == category, \"키워드_리스트\"].tolist()\n",
    "        category_keywords[category] = [word.strip() for sublist in words for word in sublist if word.strip()]\n",
    "\n",
    "    # 각 '분류_대분류' 별로 단어들을 카운팅하고 단어가 threshold 이하로 존재하는 경우를 찾기\n",
    "    low_occurrence_words = set()\n",
    "    for category, words in category_keywords.items():\n",
    "        word_counts = Counter(words)\n",
    "        low_occurrence_words.update({word for word, count in word_counts.items() if count <= threshold})\n",
    "\n",
    "    # 단어가 threshold 이하로 존재하는 경우를 '키워드' 열에서 제거\n",
    "    def remove_low_occurrence_words(keywords):\n",
    "        return ', '.join([word.strip() for word in keywords.split(',') if word.strip() and word.strip() not in low_occurrence_words])\n",
    "\n",
    "    train_df['키워드'] = train_df['키워드'].apply(remove_low_occurrence_words)\n",
    "\n",
    "    # test_df에서도 동일한 단어를 제거\n",
    "    def remove_low_occurrence_words_from_test(keywords):\n",
    "        return ', '.join([word.strip() for word in keywords.split(',') if word.strip() and word.strip() not in low_occurrence_words])\n",
    "\n",
    "    test_df['키워드'] = test_df['키워드'].apply(remove_low_occurrence_words_from_test)\n",
    "\n",
    "    # 제거 후 각 '분류_대분류' 별로 하위 10개의 단어와 그 갯수를 출력\n",
    "    for category in category_keywords.keys():\n",
    "        words = train_df.loc[train_df[\"분류_대분류\"] == category, \"키워드\"].apply(lambda x: x.split(',')).tolist()\n",
    "        words = [word.strip() for sublist in words for word in sublist if word.strip()]\n",
    "        word_counts = Counter(words)\n",
    "        bottom_keywords = word_counts.most_common()[:-11:-1]\n",
    "        print(f\"분류_대분류: {category}\")\n",
    "        for word, count in bottom_keywords:\n",
    "            print(f\"  단어: {word}, 갯수: {count}\")\n",
    "        print()"
   ]
  },
  {
   "cell_type": "code",
   "execution_count": 724,
   "metadata": {},
   "outputs": [
    {
     "name": "stdout",
     "output_type": "stream",
     "text": [
      "분류_대분류: 문화\n",
      "  단어: 똘똘, 갯수: 4\n",
      "  단어: 민관식, 갯수: 4\n",
      "  단어: 소강실, 갯수: 4\n",
      "  단어: 영산수련원, 갯수: 4\n",
      "  단어: 숙영지, 갯수: 4\n",
      "  단어: 춤판, 갯수: 4\n",
      "  단어: 본존불, 갯수: 4\n",
      "  단어: 공렴, 갯수: 4\n",
      "  단어: 호저집, 갯수: 4\n",
      "  단어: 박제가, 갯수: 4\n",
      "\n",
      "분류_대분류: 지역\n",
      "  단어: 통행거리, 갯수: 4\n",
      "  단어: 마케팅지수, 갯수: 4\n",
      "  단어: 온리원, 갯수: 4\n",
      "  단어: 택시요금체계, 갯수: 4\n",
      "  단어: 하태권, 갯수: 4\n",
      "  단어: 북부도시계획도, 갯수: 4\n",
      "  단어: 춘천해냄대학, 갯수: 4\n",
      "  단어: 산업혁명센터, 갯수: 4\n",
      "  단어: 지휘기, 갯수: 4\n",
      "  단어: 항로변경, 갯수: 4\n",
      "\n",
      "분류_대분류: 국제\n",
      "  단어: 위어, 갯수: 4\n",
      "  단어: 총기사건, 갯수: 4\n",
      "  단어: 디자인, 갯수: 4\n",
      "  단어: 진위현, 갯수: 4\n",
      "  단어: 장소정체성, 갯수: 4\n",
      "  단어: 역사문화자산, 갯수: 4\n",
      "  단어: 진다바드, 갯수: 4\n",
      "  단어: 성접대, 갯수: 4\n",
      "  단어: 영웅, 갯수: 4\n",
      "  단어: 연수단, 갯수: 4\n",
      "\n",
      "분류_대분류: 정치\n",
      "  단어: 정태인, 갯수: 4\n",
      "  단어: 달째, 갯수: 4\n",
      "  단어: 현영석, 갯수: 4\n",
      "  단어: 은현, 갯수: 4\n",
      "  단어: 균형발전책, 갯수: 4\n",
      "  단어: 보행신호등, 갯수: 4\n",
      "  단어: 경제수, 갯수: 4\n",
      "  단어: 용전추, 갯수: 4\n",
      "  단어: 용인전철추진위원회, 갯수: 4\n",
      "  단어: 재이첩, 갯수: 4\n",
      "\n",
      "분류_대분류: 경제\n",
      "  단어: 요즈마코리아, 갯수: 4\n",
      "  단어: 위메프오, 갯수: 4\n",
      "  단어: 봉공, 갯수: 4\n",
      "  단어: 브리타, 갯수: 4\n",
      "  단어: 평구로지스, 갯수: 4\n",
      "  단어: 온비드, 갯수: 4\n",
      "  단어: 트리뷰하우스, 갯수: 4\n",
      "  단어: 트리뷰, 갯수: 4\n",
      "  단어: 배액배, 갯수: 4\n",
      "  단어: 아크로서울포레스트, 갯수: 4\n",
      "\n",
      "분류_대분류: 사회\n",
      "  단어: 통합상담소, 갯수: 4\n",
      "  단어: 일반상담소, 갯수: 4\n",
      "  단어: 대구가톨릭대의료원, 갯수: 4\n",
      "  단어: 해기차, 갯수: 4\n",
      "  단어: 공대위, 갯수: 4\n",
      "  단어: 바이바이, 갯수: 4\n",
      "  단어: 소정방폭포, 갯수: 4\n",
      "  단어: 무란, 갯수: 4\n",
      "  단어: 전우조, 갯수: 4\n",
      "  단어: 아주로앤피, 갯수: 4\n",
      "\n",
      "분류_대분류: 스포츠\n",
      "  단어: 소래중, 갯수: 4\n",
      "  단어: 아시아컵, 갯수: 4\n",
      "  단어: 이권재, 갯수: 4\n",
      "  단어: 동성중, 갯수: 4\n",
      "  단어: 로이스크루즈, 갯수: 4\n",
      "  단어: 기흥수상골프, 갯수: 4\n",
      "  단어: 로테이션, 갯수: 4\n",
      "  단어: 한석진, 갯수: 4\n",
      "  단어: 메인스폰, 갯수: 4\n",
      "  단어: 경기위원회, 갯수: 4\n",
      "\n",
      "분류_대분류: IT_과학\n",
      "  단어: 한반도, 갯수: 4\n",
      "  단어: 드라이클리닝, 갯수: 4\n",
      "  단어: 김량대교, 갯수: 4\n",
      "  단어: 공유업체, 갯수: 4\n",
      "  단어: 돌보미, 갯수: 4\n",
      "  단어: 지중, 갯수: 4\n",
      "  단어: 케이지, 갯수: 4\n",
      "  단어: 쉐어그라운드, 갯수: 4\n",
      "  단어: 캐치테이블, 갯수: 4\n",
      "  단어: 인프런, 갯수: 4\n",
      "\n"
     ]
    }
   ],
   "source": [
    "# 함수 실행\n",
    "count_and_remove_low_occurrence_keywords(train_df, test_df, threshold=3)"
   ]
  },
  {
   "cell_type": "markdown",
   "metadata": {},
   "source": [
    "키워드의 값이 공백(결측) 으로 존제하는 경우 필터링"
   ]
  },
  {
   "cell_type": "code",
   "execution_count": 725,
   "metadata": {},
   "outputs": [
    {
     "name": "stdout",
     "output_type": "stream",
     "text": [
      "train_df의 전체 행 개수: 54608\n",
      "train_df에서 '키워드' 열의 값이 공백인 행의 개수: 7\n",
      "train_df에서 '키워드' 열의 값이 공백인 행의 '분류' 값:\n",
      "586      스포츠:농구_배구\n",
      "2640       스포츠:월드컵\n",
      "10745           지역\n",
      "14965     문화:요리_여행\n",
      "18144      경제:경제일반\n",
      "30955        사회:날씨\n",
      "39637        사회:여성\n",
      "Name: 분류, dtype: object\n",
      "test_df의 전체 행 개수: 23405\n",
      "test_df에서 '키워드' 열의 값이 공백인 행의 개수: 0\n",
      "test_df에서 '키워드' 열의 값이 공백인 행의 '분류' 값:\n",
      "test_df에 '분류' 열이 없습니다.\n"
     ]
    }
   ],
   "source": [
    "# '키워드' 열의 값이 공백(' ')인 행의 개수 확인 (train_df)\n",
    "num_blank_keywords_train = train_df[train_df['키워드'].str.strip() == ''].shape[0]\n",
    "\n",
    "# '키워드' 열의 값이 공백(' ')인 행의 개수 확인 (test_df)\n",
    "num_blank_keywords_test = test_df[test_df['키워드'].str.strip() == ''].shape[0]\n",
    "\n",
    "# 공백인 행의 '분류' 값 출력 (train_df)\n",
    "if '분류' in train_df.columns:\n",
    "    blank_keywords_train_categories = train_df[train_df['키워드'].str.strip() == '']['분류']\n",
    "else:\n",
    "    blank_keywords_train_categories = \"train_df에 '분류' 열이 없습니다.\"\n",
    "\n",
    "# 공백인 행의 '분류' 값 출력 (test_df)\n",
    "if '분류' in test_df.columns:\n",
    "    blank_keywords_test_categories = test_df[test_df['키워드'].str.strip() == '']['분류']\n",
    "else:\n",
    "    blank_keywords_test_categories = \"test_df에 '분류' 열이 없습니다.\"\n",
    "\n",
    "# 결과 출력\n",
    "print(f\"train_df의 전체 행 개수: {len(train_df)}\")\n",
    "print(f\"train_df에서 '키워드' 열의 값이 공백인 행의 개수: {num_blank_keywords_train}\")\n",
    "print(f\"train_df에서 '키워드' 열의 값이 공백인 행의 '분류' 값:\\n{blank_keywords_train_categories}\")\n",
    "\n",
    "print(f\"test_df의 전체 행 개수: {len(test_df)}\")\n",
    "print(f\"test_df에서 '키워드' 열의 값이 공백인 행의 개수: {num_blank_keywords_test}\")\n",
    "print(f\"test_df에서 '키워드' 열의 값이 공백인 행의 '분류' 값:\\n{blank_keywords_test_categories}\")"
   ]
  },
  {
   "cell_type": "markdown",
   "metadata": {},
   "source": [
    "키워드의 값이 결측인 행 drop"
   ]
  },
  {
   "cell_type": "code",
   "execution_count": 726,
   "metadata": {},
   "outputs": [
    {
     "name": "stdout",
     "output_type": "stream",
     "text": [
      "드랍 전 train_df의 전체 행 개수: 54608\n",
      "드랍 전 test_df의 전체 행 개수: 23405\n",
      "드랍 후 train_df의 전체 행 개수: 54601\n",
      "드랍 후 test_df의 전체 행 개수: 23405\n"
     ]
    }
   ],
   "source": [
    "# 드랍 후 데이터프레임 크기 출력\n",
    "print(f\"드랍 전 train_df의 전체 행 개수: {len(train_df)}\")\n",
    "print(f\"드랍 전 test_df의 전체 행 개수: {len(test_df)}\")\n",
    "\n",
    "# '키워드' 열의 값이 공백(' ')인 행 드랍 (train_df)\n",
    "train_df = train_df[train_df['키워드'].str.strip() != '']\n",
    "\n",
    "# '키워드' 열의 값이 공백(' ')인 행 드랍 (test_df)\n",
    "test_df = test_df[test_df['키워드'].str.strip() != '']\n",
    "\n",
    "# 드랍 후 데이터프레임 크기 출력\n",
    "print(f\"드랍 후 train_df의 전체 행 개수: {len(train_df)}\")\n",
    "print(f\"드랍 후 test_df의 전체 행 개수: {len(test_df)}\")"
   ]
  },
  {
   "cell_type": "code",
   "execution_count": 727,
   "metadata": {},
   "outputs": [],
   "source": [
    "# '키워드_리스트' 열 제거\n",
    "train_df = train_df.drop(columns=['키워드_리스트', '분류_대분류'])\n",
    "test_df = test_df.drop(columns=['키워드_리스트'])"
   ]
  },
  {
   "cell_type": "code",
   "execution_count": 728,
   "metadata": {},
   "outputs": [
    {
     "name": "stdout",
     "output_type": "stream",
     "text": [
      "<class 'pandas.core.frame.DataFrame'>\n",
      "Int64Index: 54601 entries, 0 to 54608\n",
      "Data columns (total 4 columns):\n",
      " #   Column  Non-Null Count  Dtype \n",
      "---  ------  --------------  ----- \n",
      " 0   ID      54601 non-null  object\n",
      " 1   분류      54601 non-null  object\n",
      " 2   제목      54601 non-null  object\n",
      " 3   키워드     54601 non-null  object\n",
      "dtypes: object(4)\n",
      "memory usage: 2.1+ MB\n"
     ]
    }
   ],
   "source": [
    "train_df.info()"
   ]
  },
  {
   "cell_type": "code",
   "execution_count": 729,
   "metadata": {},
   "outputs": [
    {
     "name": "stdout",
     "output_type": "stream",
     "text": [
      "<class 'pandas.core.frame.DataFrame'>\n",
      "Int64Index: 23405 entries, 0 to 23404\n",
      "Data columns (total 3 columns):\n",
      " #   Column  Non-Null Count  Dtype \n",
      "---  ------  --------------  ----- \n",
      " 0   ID      23405 non-null  object\n",
      " 1   제목      23405 non-null  object\n",
      " 2   키워드     23405 non-null  object\n",
      "dtypes: object(3)\n",
      "memory usage: 731.4+ KB\n"
     ]
    }
   ],
   "source": [
    "test_df.info()"
   ]
  },
  {
   "cell_type": "code",
   "execution_count": 730,
   "metadata": {},
   "outputs": [
    {
     "data": {
      "text/plain": [
       "'c:\\\\Users\\\\juneh\\\\OneDrive\\\\바탕 화면\\\\git_gbt\\\\GBT_hackerton\\\\code\\\\junehong'"
      ]
     },
     "execution_count": 730,
     "metadata": {},
     "output_type": "execute_result"
    }
   ],
   "source": [
    "import os\n",
    "os.getcwd()"
   ]
  },
  {
   "cell_type": "code",
   "execution_count": 731,
   "metadata": {},
   "outputs": [
    {
     "name": "stdout",
     "output_type": "stream",
     "text": [
      "train_df saved as train_df_1005.csv\n",
      "test_df saved as test_df_1005.csv\n"
     ]
    }
   ],
   "source": [
    "import os\n",
    "import pandas as pd\n",
    "from datetime import datetime\n",
    "\n",
    "# 현재 날짜 가져오기 (MMDD 형식)\n",
    "current_date = datetime.now().strftime('%m%d')\n",
    "\n",
    "# CSV 파일명 생성\n",
    "train_csv_filename = f\"train_df_{current_date}.csv\"\n",
    "test_csv_filename = f\"test_df_{current_date}.csv\"\n",
    "\n",
    "# CSV 파일로 저장\n",
    "train_df.to_csv(train_csv_filename, index=False, encoding='utf-8-sig')\n",
    "test_df.to_csv(test_csv_filename, index=False, encoding='utf-8-sig')\n",
    "\n",
    "print(f\"train_df saved as {train_csv_filename}\")\n",
    "print(f\"test_df saved as {test_csv_filename}\")"
   ]
  },
  {
   "cell_type": "markdown",
   "metadata": {},
   "source": [
    "."
   ]
  }
 ],
 "metadata": {
  "kernelspec": {
   "display_name": "Python 3",
   "language": "python",
   "name": "python3"
  },
  "language_info": {
   "codemirror_mode": {
    "name": "ipython",
    "version": 3
   },
   "file_extension": ".py",
   "mimetype": "text/x-python",
   "name": "python",
   "nbconvert_exporter": "python",
   "pygments_lexer": "ipython3",
   "version": "3.7.8"
  }
 },
 "nbformat": 4,
 "nbformat_minor": 4
}
