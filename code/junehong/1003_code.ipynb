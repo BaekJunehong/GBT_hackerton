{
 "cells": [
  {
   "cell_type": "markdown",
   "metadata": {},
   "source": [
    "# Import"
   ]
  },
  {
   "cell_type": "code",
   "execution_count": 286,
   "metadata": {},
   "outputs": [],
   "source": [
    "import pandas as pd"
   ]
  },
  {
   "cell_type": "code",
   "execution_count": 287,
   "metadata": {},
   "outputs": [],
   "source": [
    "import matplotlib.pyplot as plt\n",
    "\n",
    "# 한글 폰트 지정\n",
    "plt.rcParams['font.family'] ='Malgun Gothic'\n",
    "plt.rcParams['axes.unicode_minus'] =False\n",
    "\n",
    "font_path = \"C:/Windows/Fonts/malgun.ttf\""
   ]
  },
  {
   "cell_type": "markdown",
   "metadata": {},
   "source": [
    "# Load Data"
   ]
  },
  {
   "cell_type": "code",
   "execution_count": 288,
   "metadata": {},
   "outputs": [],
   "source": [
    "train_df = pd.read_csv(\"../../data/train.csv\")\n",
    "test_df = pd.read_csv(\"../../data/test.csv\")  \n",
    "submission = pd.read_csv(\"../../data/sample_submission.csv\")  "
   ]
  },
  {
   "cell_type": "code",
   "execution_count": 289,
   "metadata": {},
   "outputs": [
    {
     "name": "stdout",
     "output_type": "stream",
     "text": [
      "<class 'pandas.core.frame.DataFrame'>\n",
      "RangeIndex: 54609 entries, 0 to 54608\n",
      "Data columns (total 4 columns):\n",
      " #   Column  Non-Null Count  Dtype \n",
      "---  ------  --------------  ----- \n",
      " 0   ID      54609 non-null  object\n",
      " 1   분류      54609 non-null  object\n",
      " 2   제목      54609 non-null  object\n",
      " 3   키워드     54609 non-null  object\n",
      "dtypes: object(4)\n",
      "memory usage: 1.7+ MB\n"
     ]
    }
   ],
   "source": [
    "train_df.info()"
   ]
  },
  {
   "cell_type": "code",
   "execution_count": 290,
   "metadata": {},
   "outputs": [
    {
     "name": "stdout",
     "output_type": "stream",
     "text": [
      "<class 'pandas.core.frame.DataFrame'>\n",
      "RangeIndex: 23405 entries, 0 to 23404\n",
      "Data columns (total 3 columns):\n",
      " #   Column  Non-Null Count  Dtype \n",
      "---  ------  --------------  ----- \n",
      " 0   ID      23405 non-null  object\n",
      " 1   제목      23405 non-null  object\n",
      " 2   키워드     23405 non-null  object\n",
      "dtypes: object(3)\n",
      "memory usage: 548.7+ KB\n"
     ]
    }
   ],
   "source": [
    "test_df.info()"
   ]
  },
  {
   "cell_type": "code",
   "execution_count": 291,
   "metadata": {},
   "outputs": [
    {
     "name": "stdout",
     "output_type": "stream",
     "text": [
      "<class 'pandas.core.frame.DataFrame'>\n",
      "RangeIndex: 23405 entries, 0 to 23404\n",
      "Data columns (total 2 columns):\n",
      " #   Column  Non-Null Count  Dtype \n",
      "---  ------  --------------  ----- \n",
      " 0   ID      23405 non-null  object\n",
      " 1   분류      23405 non-null  object\n",
      "dtypes: object(2)\n",
      "memory usage: 365.8+ KB\n"
     ]
    }
   ],
   "source": [
    "submission.info()"
   ]
  },
  {
   "cell_type": "code",
   "execution_count": 292,
   "metadata": {},
   "outputs": [
    {
     "data": {
      "text/plain": [
       "56"
      ]
     },
     "execution_count": 292,
     "metadata": {},
     "output_type": "execute_result"
    }
   ],
   "source": [
    "len(train_df['분류'].value_counts())"
   ]
  },
  {
   "cell_type": "markdown",
   "metadata": {},
   "source": [
    "타겟변수 -> '분류'이고 종류 56가지"
   ]
  },
  {
   "cell_type": "code",
   "execution_count": 293,
   "metadata": {},
   "outputs": [
    {
     "data": {
      "text/html": [
       "<div>\n",
       "<style scoped>\n",
       "    .dataframe tbody tr th:only-of-type {\n",
       "        vertical-align: middle;\n",
       "    }\n",
       "\n",
       "    .dataframe tbody tr th {\n",
       "        vertical-align: top;\n",
       "    }\n",
       "\n",
       "    .dataframe thead th {\n",
       "        text-align: right;\n",
       "    }\n",
       "</style>\n",
       "<table border=\"1\" class=\"dataframe\">\n",
       "  <thead>\n",
       "    <tr style=\"text-align: right;\">\n",
       "      <th></th>\n",
       "      <th>ID</th>\n",
       "      <th>제목</th>\n",
       "      <th>키워드</th>\n",
       "    </tr>\n",
       "  </thead>\n",
       "  <tbody>\n",
       "    <tr>\n",
       "      <th>0</th>\n",
       "      <td>TEST_00000</td>\n",
       "      <td>[부고] 김태수씨 별세 외</td>\n",
       "      <td>김태수,별세,김태수씨,서울,광남초등학,교장,별세,김윤정,이노코리아,대표,희정,한성대...</td>\n",
       "    </tr>\n",
       "    <tr>\n",
       "      <th>1</th>\n",
       "      <td>TEST_00001</td>\n",
       "      <td>신규 확진 나흘째 세자릿수... 방역당국, 핼러윈 풍선효과 차단 총력</td>\n",
       "      <td>신규,확진,나흘,세자릿수,방역당국,핼러윈,풍선,효과,차단,총력,감염증,신종,코로나바...</td>\n",
       "    </tr>\n",
       "    <tr>\n",
       "      <th>2</th>\n",
       "      <td>TEST_00002</td>\n",
       "      <td>[서경이 만난 사람] 전해철 장관 \"재정분권 강화 '지방자치 2.0 시대' 마중물 ...</td>\n",
       "      <td>전해철,장관,재정,분권,강화,지방자치,2.0,시대,마중물,마련,장관,전해철,행정안전...</td>\n",
       "    </tr>\n",
       "    <tr>\n",
       "      <th>3</th>\n",
       "      <td>TEST_00003</td>\n",
       "      <td>용인시, 12일 '장애인 구인 구직 만남의 날' 채용 행사</td>\n",
       "      <td>용인시,구인,장애인,구직,만남,채용,행사,노호근,용인특례시,장애인,취업,지원,대회의...</td>\n",
       "    </tr>\n",
       "    <tr>\n",
       "      <th>4</th>\n",
       "      <td>TEST_00004</td>\n",
       "      <td>지자체 벽 터 경기지역 산단 활성화 모색</td>\n",
       "      <td>지자체,경기,북동부,지역,산업단지,혁신단위,설정,전략,지역,연계,특성,제시,경기도경...</td>\n",
       "    </tr>\n",
       "  </tbody>\n",
       "</table>\n",
       "</div>"
      ],
      "text/plain": [
       "           ID                                                 제목  \\\n",
       "0  TEST_00000                                     [부고] 김태수씨 별세 외   \n",
       "1  TEST_00001             신규 확진 나흘째 세자릿수... 방역당국, 핼러윈 풍선효과 차단 총력   \n",
       "2  TEST_00002  [서경이 만난 사람] 전해철 장관 \"재정분권 강화 '지방자치 2.0 시대' 마중물 ...   \n",
       "3  TEST_00003                   용인시, 12일 '장애인 구인 구직 만남의 날' 채용 행사   \n",
       "4  TEST_00004                             지자체 벽 터 경기지역 산단 활성화 모색   \n",
       "\n",
       "                                                 키워드  \n",
       "0  김태수,별세,김태수씨,서울,광남초등학,교장,별세,김윤정,이노코리아,대표,희정,한성대...  \n",
       "1  신규,확진,나흘,세자릿수,방역당국,핼러윈,풍선,효과,차단,총력,감염증,신종,코로나바...  \n",
       "2  전해철,장관,재정,분권,강화,지방자치,2.0,시대,마중물,마련,장관,전해철,행정안전...  \n",
       "3  용인시,구인,장애인,구직,만남,채용,행사,노호근,용인특례시,장애인,취업,지원,대회의...  \n",
       "4  지자체,경기,북동부,지역,산업단지,혁신단위,설정,전략,지역,연계,특성,제시,경기도경...  "
      ]
     },
     "execution_count": 293,
     "metadata": {},
     "output_type": "execute_result"
    }
   ],
   "source": [
    "test_df.head()"
   ]
  },
  {
   "cell_type": "markdown",
   "metadata": {},
   "source": [
    "영어 번역 내용 제거"
   ]
  },
  {
   "cell_type": "code",
   "execution_count": 294,
   "metadata": {},
   "outputs": [],
   "source": [
    "# '키워드' 열에서 '기사'와 '구글' 두 단어를 모두 포함하는 행을 찾는 조건\n",
    "condition = train_df['키워드'].apply(lambda x: all(word in x for word in ['기사', '구글']))\n",
    "\n",
    "# 조건을 만족하는 행들로 새로운 데이터프레임 생성\n",
    "filtered_df = train_df[condition].copy()"
   ]
  },
  {
   "cell_type": "code",
   "execution_count": 295,
   "metadata": {},
   "outputs": [
    {
     "data": {
      "text/plain": [
       "'이상일,용인,특례,시장,참석,민주평통,경기,지역,의장,표창,수여식,시장,민주평통,평화,수호,선도,활동,감사,강조,이상일,용인,특례,시장,에이스홀,시청,민주평화통일자문회,수여식,경기,지역,의장,표창,참석,관계자들,격려,자리,시장,홍승표,민주평통,경기,지역,회의,부의장,용인시협의회장,추상구,민주평통,용인시,협의회장,자문위원,민주평통,경기,지역,자문,위원,400여명,참석,시장,민주평화통일자문회,경기지역회의,안보태세,수호,한반도,평화,선도,활동,감사,시장,북한,도발,주시,차례,특강,정세,한반도,안보,강화,강조,내년,민주평통,활동,응원,차원,지원,수여식,이날,표창,임명숙,자문위원,장석순,용인시협의회,자문,위원,자치분권,정지혜,용인시,자치,분권,민간협력팀장,62명,유공자,의장,표창,용인시협의회,평화통일포럼,통일공감사업,진행,홍보,평화,통일,정책,노력,유공,기관,표창,대표,이소연,뉴코리아여성연합,통일,페이스,주제,특강,진행,기사,구글,번역,번역,영문,기사,전문,구글번역,이해도,노력,영문,번역,오류,전제,following,full,text,English,article,translated,Google,Translate,Google,Translate,hard,Mayor,Lee,emphasized,grateful,Break,News,Southern,Gyeonggi,Yongin,Reporter,Lee,Gwi-seon,Yongin,Special,Mayor,Lee,Sang-il,attended,Gyeonggi,Region,Chairman,Award,Award,Ceremony,Democratic,Peaceful,Unification,Advisory,Council,held,City,Hall,Ace,Hall,20t,encouraged,people,attended,event,including,Mayor,Lee,Hong,Seung-pyo,vice-chairman,Gyeonggi,Regional,Council,Democratic,People,Unification,Party,Sang-gu,Choo,chairman,Yongin,City,Council,Unified,Democratic,People,Par,ty,advisory,members,Gyeonggi,Regional,Council,Democratic,People,Mayor,Lee,grateful,added,ma,yor,continue,monitor,North,Korea,provocations,emphasizing,continue,support,various,activities,Democratic,People,Coalition,Democracy,provide,various,support,city,level,said.,commendation,ceremony,people,merit,received,chairman,commendation,including,Myung-sook,Lim,Seok-soon,Jang,advisory,member,Yongin,City,Council,Jeong,Ji-hye,head,Yongin,City,autonomy,decentralization,priv,conducted,Forum,Project,received,efforts,unification,ate,cooperation,team.,Yongin,City,Council,conducted,Peaceful,Unification,Forum,Unification,Empathy,Project,received,institutional,commendation,efforts,promoting,peaceful,unification,policies.,Lee,So-yeon,head,Korea,Women,Federation,Unification,special,lecture,held,topic,Face,North'"
      ]
     },
     "execution_count": 295,
     "metadata": {},
     "output_type": "execute_result"
    }
   ],
   "source": [
    "filtered_df.iloc[0]['키워드']"
   ]
  },
  {
   "cell_type": "code",
   "execution_count": 296,
   "metadata": {},
   "outputs": [
    {
     "data": {
      "text/plain": [
       "47"
      ]
     },
     "execution_count": 296,
     "metadata": {},
     "output_type": "execute_result"
    }
   ],
   "source": [
    "len(filtered_df['분류'].value_counts())"
   ]
  },
  {
   "cell_type": "code",
   "execution_count": 297,
   "metadata": {},
   "outputs": [],
   "source": [
    "# '기사, 구글' 순서로 단어가 나오는 부분을 찾아 삭제하는 함수 정의\n",
    "def remove_keywords(text):\n",
    "    keywords = ['기사', '구글']\n",
    "    start_index = 0\n",
    "    for keyword in keywords:\n",
    "        start_index = text.find(keyword, start_index)\n",
    "        if start_index == -1:\n",
    "            return text\n",
    "        start_index += len(keyword)\n",
    "    # '기사' 앞에 있는 ','도 함께 지우기 위해 수정\n",
    "    article_index = text.find('기사')\n",
    "    if article_index > 0 and text[article_index - 1] == ',':\n",
    "        article_index -= 1\n",
    "    return text[:article_index].strip()\n",
    "\n",
    "# 각 행의 '키워드' 값에서 '기사' 단어부터 마지막 단어까지 삭제\n",
    "filtered_df['키워드'] = filtered_df['키워드'].apply(remove_keywords)"
   ]
  },
  {
   "cell_type": "code",
   "execution_count": 298,
   "metadata": {},
   "outputs": [
    {
     "data": {
      "text/plain": [
       "'용인시,수지구보건소,홈스쿨,수지,예비,부모,운영,용인시,수지구보건소,온라인,태교,교육,프로그램,수지,예비,부모,홈스쿨,운영,수지구보건소,시간,제약,인원,제한,교육,단점,보완,예비부모들,정보,제공,온라인,태교,교육,프로그램,진행,13일,홈스쿨,수지,예비,부모,아빠,예비,부모,교실,DIY,태교,교실,아기,안전,교실,모유,수유,교실,아빠태교교실,실전,아기돌,교실,순산,요가,중기,순산,요가,말기,강좌,구성,1인,최대,수강,참가,구민,수지구,보건소,홈페이지,신청,네이버,밴드,가입,프로그램,접속,강의,기간,참여,신청,일정,홈페이지,공지,사항,참고,4주,접속,수강,수지구,보건소,관계자,산모,임신,전후,배우자,도움,교육내용,단계별,구성,예비,아빠,엄마,관심,참여'"
      ]
     },
     "execution_count": 298,
     "metadata": {},
     "output_type": "execute_result"
    }
   ],
   "source": [
    "filtered_df.iloc[25]['키워드']"
   ]
  },
  {
   "cell_type": "markdown",
   "metadata": {},
   "source": [
    "형태소분석기 : okt"
   ]
  },
  {
   "cell_type": "code",
   "execution_count": 299,
   "metadata": {},
   "outputs": [
    {
     "name": "stdout",
     "output_type": "stream",
     "text": [
      "                                           제목  \\\n",
      "38          이상일 용인특례시장, 민주평통 경기지역 의장표창 수여식 참석   \n",
      "75               용인특례시, 식품산업 박람회 열어 우수 농산물 홍보   \n",
      "86                 용인특례시, 경기도 특별조정교부금 70억원 확보   \n",
      "109        용인특례시, 모현 공동주택 현장 ‘찾아가는 행복소통시장실’가동   \n",
      "137           용인특례시, ‘백옥쌀’ 활용한 제빵용 ‘백옥쌀가루’ 출시   \n",
      "160            용인시, 농산물 가공 장비 활용도를 높이는 매뉴얼 발간   \n",
      "164                 용인시 다함께돌봄센터 12호점과 13호점 개소   \n",
      "165                 용인시, 지역일자리 사업 참여자 300명 모집   \n",
      "168                       용인시, ‘사랑의 감자 심기’ 행사   \n",
      "185  경기도의회 김재균 의원, ‘ 남사진위 IC ’ 북평택 진출입로 개선 촉구   \n",
      "\n",
      "                                       키워드_추출okt  \n",
      "38     이상일, 용인, 특례시, 민주, 평통, 기지역, 의장, 표창, 수여, 참석  \n",
      "75             용인, 특례시, 식품, 산업, 박람회, 우수, 농산물, 홍보  \n",
      "86                  용인, 특례시, 경기도, 특별, 정교, 부금, 확보  \n",
      "109      용인, 특례시, 모현, 공동, 주택, 현장, 행복, 소통시, 실, 가동  \n",
      "137     용인, 특례시, 백옥, 쌀, 활용, 제빵, 용, 백옥, 쌀, 가루, 출시  \n",
      "160                용인시, 농산물, 가공, 장비, 활용, 매뉴얼, 발간  \n",
      "164                              용인시, 센터, 호점, 호점  \n",
      "165                 용인시, 지역, 일자리, 사업, 참여자, 명, 모집  \n",
      "168                          용인시, 사랑, 감자, 심기, 행사  \n",
      "185  경기도, 의회, 김재균, 의원, 남사, 진위, 북, 평택, 진출, 개선, 촉구  \n"
     ]
    }
   ],
   "source": [
    "from konlpy.tag import Okt\n",
    "\n",
    "# Okt 형태소 분석기 객체 생성\n",
    "okt = Okt()\n",
    "\n",
    "# 제외할 품사 목록 정의\n",
    "exclude_pos = [\n",
    "    'Suffix',       # 접미사\n",
    "    'Determiner',   # 관형사\n",
    "    'Adverb',       # 부사\n",
    "    'Conjunction',  # 접속사\n",
    "    'Josa',         # 조사\n",
    "    'PreEomi',      # 선어말 어미\n",
    "    'Eomi',         # 어미\n",
    "    'Punctuation',  # 구두점\n",
    "    # 'Foreign',      # 외국어\n",
    "    # 'Alpha',        # 알파벳\n",
    "    # 'Number',       # 숫자\n",
    "    'Unknown'       # 알 수 없는 품사\n",
    "]\n",
    "\n",
    "# '제목' 열에서 일반명사와 고유명사만 추출하여 '키워드_추출' 열에 저장하는 함수\n",
    "def extract_nouns_and_proper_nouns_from_title(title):\n",
    "    words = okt.pos(title)\n",
    "    nouns = [word for word, pos in words if pos in ['Noun'] and word not in exclude_pos]\n",
    "    return ', '.join(nouns)\n",
    "\n",
    "# '제목' 열에 함수 적용하여 '키워드_추출' 열 생성\n",
    "filtered_df['키워드_추출okt'] = filtered_df['제목'].apply(extract_nouns_and_proper_nouns_from_title)\n",
    "\n",
    "# 결과 출력\n",
    "print(filtered_df[['제목', '키워드_추출okt']].head(10))"
   ]
  },
  {
   "cell_type": "markdown",
   "metadata": {},
   "source": [
    "형태소분석기 : kkma"
   ]
  },
  {
   "cell_type": "code",
   "execution_count": 300,
   "metadata": {},
   "outputs": [
    {
     "name": "stdout",
     "output_type": "stream",
     "text": [
      "                                           제목  \\\n",
      "38          이상일 용인특례시장, 민주평통 경기지역 의장표창 수여식 참석   \n",
      "75               용인특례시, 식품산업 박람회 열어 우수 농산물 홍보   \n",
      "86                 용인특례시, 경기도 특별조정교부금 70억원 확보   \n",
      "109        용인특례시, 모현 공동주택 현장 ‘찾아가는 행복소통시장실’가동   \n",
      "137           용인특례시, ‘백옥쌀’ 활용한 제빵용 ‘백옥쌀가루’ 출시   \n",
      "160            용인시, 농산물 가공 장비 활용도를 높이는 매뉴얼 발간   \n",
      "164                 용인시 다함께돌봄센터 12호점과 13호점 개소   \n",
      "165                 용인시, 지역일자리 사업 참여자 300명 모집   \n",
      "168                       용인시, ‘사랑의 감자 심기’ 행사   \n",
      "185  경기도의회 김재균 의원, ‘ 남사진위 IC ’ 북평택 진출입로 개선 촉구   \n",
      "\n",
      "                                            키워드_추출kkma  \n",
      "38   이상, 일, 용인, 특례, 시장, 민주, 평, 통, 경기, 지역, 의장, 표창, 수...  \n",
      "75                 용인, 특례, 시, 식품, 산업, 박람회, 우수, 농산물, 홍보  \n",
      "86                     용인, 특례, 시, 경기도, 특별, 조정, 교부금, 확보  \n",
      "109     용인, 특례, 시, 모, 현, 공동, 주택, 현장, 행복, 소통, 시장, 실, 가동  \n",
      "137             용인, 특례, 시, 백옥, 쌀, 활용, 빵, 백옥, 쌀, 가루, 출시  \n",
      "160                     용인시, 농산물, 가공, 장비, 활용도, 매뉴얼, 발간  \n",
      "164                                   용인시, 봄, 센터, 점, 점  \n",
      "165                              용인시, 지역, 일자리, 사업, 참여자  \n",
      "168                                용인시, 사랑, 감자, 심기, 행사  \n",
      "185      경기도, 의회, 김, 균, 의원, 남, 사진, 위, 북, 평, 진출, 개선, 촉구  \n"
     ]
    }
   ],
   "source": [
    "from konlpy.tag import Kkma\n",
    "\n",
    "# Kkma 형태소 분석기 객체 생성\n",
    "kkma = Kkma()\n",
    "\n",
    "# 제외할 품사 목록 정의\n",
    "exclude_pos = [\n",
    "    'Suffix',       # 접미사\n",
    "    'Determiner',   # 관형사\n",
    "    'Adverb',       # 부사\n",
    "    'Conjunction',  # 접속사\n",
    "    'Josa',         # 조사\n",
    "    'PreEomi',      # 선어말 어미\n",
    "    'Eomi',         # 어미\n",
    "    'Punctuation',  # 구두점\n",
    "    # 'Foreign',      # 외국어\n",
    "    # 'Alpha',        # 알파벳\n",
    "    # 'Number',       # 숫자\n",
    "    'Unknown'       # 알 수 없는 품사\n",
    "]\n",
    "\n",
    "# '제목' 열에서 일반명사와 고유명사만 추출하여 '키워드_추출' 열에 저장하는 함수\n",
    "def extract_nouns_and_proper_nouns_from_title(title):\n",
    "    words = kkma.pos(title)\n",
    "    nouns = [word for word, pos in words if pos in ['NNG', 'NNP'] and word not in exclude_pos]\n",
    "    return ', '.join(nouns)\n",
    "\n",
    "# '제목' 열에 함수 적용하여 '키워드_추출' 열 생성\n",
    "filtered_df['키워드_추출kkma'] = filtered_df['제목'].apply(extract_nouns_and_proper_nouns_from_title)\n",
    "\n",
    "# 결과 출력\n",
    "print(filtered_df[['제목', '키워드_추출kkma']].head(10))"
   ]
  },
  {
   "cell_type": "markdown",
   "metadata": {},
   "source": [
    "형태소분석기 : 단순제거"
   ]
  },
  {
   "cell_type": "code",
   "execution_count": 301,
   "metadata": {},
   "outputs": [],
   "source": [
    "import re\n",
    "\n",
    "# '제목' 열에서 어절 단위로 자르고 불필요한 공백이나 쉼표를 제거하는 함수\n",
    "def extract_words_from_title(title):\n",
    "    words = title.split()\n",
    "    cleaned_words = [re.sub(r'[^\\w\\s]', '', word) for word in words if word.strip()]\n",
    "    return ', '.join(cleaned_words)\n",
    "\n",
    "# '제목' 열에 함수 적용하여 '키워드_추출simple' 열 생성\n",
    "filtered_df['키워드_추출simple'] = filtered_df['제목'].apply(extract_words_from_title)"
   ]
  },
  {
   "cell_type": "markdown",
   "metadata": {},
   "source": [
    "3가지 방법에 대한 결과 비교"
   ]
  },
  {
   "cell_type": "code",
   "execution_count": 315,
   "metadata": {},
   "outputs": [],
   "source": [
    "def print_filtered_df_info(index):\n",
    "    try:\n",
    "        title = filtered_df.iloc[index]['제목']\n",
    "        category = filtered_df.iloc[index]['분류']\n",
    "        keywords = filtered_df.iloc[index]['키워드']\n",
    "        keywords_okt = filtered_df.iloc[index]['키워드_추출okt']\n",
    "        keywords_kkma = filtered_df.iloc[index]['키워드_추출kkma']\n",
    "        keywords_simple = filtered_df.iloc[index]['키워드_추출simple']\n",
    "        \n",
    "        # '제목'의 마지막 단어 추출\n",
    "        last_word_in_title = title.split()[-1]\n",
    "        \n",
    "        # '키워드'에서 '제목'의 마지막 단어와 일치하는 단어까지 출력\n",
    "        keywords_list = keywords.split(',')\n",
    "        if last_word_in_title in keywords_list:\n",
    "            last_word_index = keywords_list.index(last_word_in_title) + 1\n",
    "            keywords_limited = ','.join(keywords_list[:last_word_index])\n",
    "        else:\n",
    "            keywords_limited = ','.join(keywords_list[:10])  # 최대 10개의 단어만 출력\n",
    "        \n",
    "        print(f\"제목: {title}\")\n",
    "        print(f\"분류: {category}\")\n",
    "        print(f\"키워드: {keywords_limited}\")\n",
    "        print(f\"키워드_추출okt: {keywords_okt}\")\n",
    "        print(f\"키워드_추출kkma: {keywords_kkma}\")\n",
    "        print(f\"키워드_추출simple: {keywords_simple}\")  # 새로 생성한 변수 출력\n",
    "    except IndexError:\n",
    "        print(f\"인덱스 {index}가 데이터프레임의 범위를 벗어났습니다.\")\n",
    "    except KeyError as e:\n",
    "        print(f\"열 이름 오류: {e}\")"
   ]
  },
  {
   "cell_type": "code",
   "execution_count": 316,
   "metadata": {},
   "outputs": [
    {
     "name": "stdout",
     "output_type": "stream",
     "text": [
      "제목: 이상일 용인특례시장, 민주평통 경기지역 의장표창 수여식 참석\n",
      "분류: 정치:정치일반\n",
      "키워드: 이상일,용인,특례,시장,참석\n",
      "키워드_추출okt: 이상일, 용인, 특례시, 민주, 평통, 기지역, 의장, 표창, 수여, 참석\n",
      "키워드_추출kkma: 이상, 일, 용인, 특례, 시장, 민주, 평, 통, 경기, 지역, 의장, 표창, 수여식, 참석\n",
      "키워드_추출simple: 이상일, 용인특례시장, 민주평통, 경기지역, 의장표창, 수여식, 참석\n"
     ]
    }
   ],
   "source": [
    "print_filtered_df_info(0)"
   ]
  },
  {
   "cell_type": "code",
   "execution_count": 317,
   "metadata": {},
   "outputs": [
    {
     "name": "stdout",
     "output_type": "stream",
     "text": [
      "제목: GH, '경기용인 플랫폼시티 랜드마크 조성' 아이디어 공모전 개최\n",
      "분류: 지역\n",
      "키워드: GH,경기용,조성,플랫폼,시티,랜드마크,개최\n",
      "키워드_추출okt: 경기, 용인, 플랫폼, 시티, 랜드마크, 조성, 아이디어, 공모전, 개최\n",
      "키워드_추출kkma: 경기, 용인, 플랫폼, 시티, 랜드, 마크, 조성, 아이디어, 공모전, 개최\n",
      "키워드_추출simple: GH, 경기용인, 플랫폼시티, 랜드마크, 조성, 아이디어, 공모전, 개최\n"
     ]
    }
   ],
   "source": [
    "print_filtered_df_info(10)"
   ]
  },
  {
   "cell_type": "code",
   "execution_count": 318,
   "metadata": {},
   "outputs": [
    {
     "name": "stdout",
     "output_type": "stream",
     "text": [
      "제목: 용인시 “여성의 경제 참여 증진과 성평등 도시 구현에 힘 모아 달라”\n",
      "분류: 사회:사회일반\n",
      "키워드: 용인시,여성,증진,경제,참여,도시,백군기,용인,시장,경기도여성단체협의회\n",
      "키워드_추출okt: 용인시, 여성, 경제, 참여, 증진, 평등, 도시, 구현, 힘, 달라\n",
      "키워드_추출kkma: 용인시, 여성, 경제, 참여, 증진, 성, 평등, 도시, 구현, 힘\n",
      "키워드_추출simple: 용인시, 여성의, 경제, 참여, 증진과, 성평등, 도시, 구현에, 힘, 모아, 달라\n"
     ]
    }
   ],
   "source": [
    "print_filtered_df_info(30)"
   ]
  },
  {
   "cell_type": "code",
   "execution_count": 319,
   "metadata": {},
   "outputs": [
    {
     "name": "stdout",
     "output_type": "stream",
     "text": [
      "제목: 용인시의회 김상수 의원, '무장애 도시 조성 조례안' 가결\n",
      "분류: 지역\n",
      "키워드: 의원,용인시의회,김상수,도시,조성,조례안,가결\n",
      "키워드_추출okt: 용인시, 의회, 김상수, 의원, 무장애, 도시, 조성, 조례, 안, 가결\n",
      "키워드_추출kkma: 용인, 시의회, 김, 상수, 의원, 무, 장애, 도시, 조성, 조례, 안, 가결\n",
      "키워드_추출simple: 용인시의회, 김상수, 의원, 무장애, 도시, 조성, 조례안, 가결\n"
     ]
    }
   ],
   "source": [
    "print_filtered_df_info(50)"
   ]
  },
  {
   "cell_type": "markdown",
   "metadata": {},
   "source": [
    "okt, kkma, simple 3가지 형태소 분석 방법중 어떤 방법이 좋은지 명확하지 않아서  \n",
    "일단은 okt가 좋다고 가정하고 okt로 추출한 키워드와 원본데이터에서의 키워드를 비교하여  \n",
    "차이가 나는 단어를 출력하여 확인하는 코드가 아래 내용"
   ]
  },
  {
   "cell_type": "code",
   "execution_count": 320,
   "metadata": {},
   "outputs": [],
   "source": [
    "def print_different_keywords(index):\n",
    "    try:\n",
    "        title = filtered_df.iloc[index]['제목']\n",
    "        keywords = filtered_df.iloc[index]['키워드']\n",
    "        keywords_okt = filtered_df.iloc[index]['키워드_추출okt']\n",
    "        \n",
    "        # '제목'의 마지막 단어 추출\n",
    "        last_word_in_title = title.split()[-1]\n",
    "        \n",
    "        # '키워드'에서 '제목'의 마지막 단어와 일치하는 단어까지 출력\n",
    "        keywords_list = keywords.split(',')\n",
    "        if last_word_in_title in keywords_list:\n",
    "            last_word_index = keywords_list.index(last_word_in_title) + 1\n",
    "            keywords_limited = ','.join(keywords_list[:last_word_index])\n",
    "        else:\n",
    "            keywords_limited = ','.join(keywords_list[:10])  # 최대 10개의 단어만 출력\n",
    "        \n",
    "        # 공백 제거\n",
    "        keywords_limited_set = set(word.strip() for word in keywords_limited.split(','))\n",
    "        keywords_okt_set = set(word.strip() for word in keywords_okt.split(','))\n",
    "        \n",
    "        # keywords_limited와 keywords_okt가 다른 키워드를 출력하는지 확인\n",
    "        different_keywords = keywords_limited_set.symmetric_difference(keywords_okt_set)\n",
    "        \n",
    "        # 다른 키워드가 각각 어디에 속하는지 출력\n",
    "        different_keywords_in_limited = keywords_limited_set - keywords_okt_set\n",
    "        different_keywords_in_okt = keywords_okt_set - keywords_limited_set\n",
    "        \n",
    "        print(f\"제목: {title}\")\n",
    "        print(f\"키워드: {keywords_limited}\")\n",
    "        print(f\"키워드_추출okt: {keywords_okt}\")\n",
    "        print(f\"다른 키워드 (키워드에만 있음): {', '.join(different_keywords_in_limited)}\")\n",
    "        print(f\"다른 키워드 (키워드_추출okt에만 있음): {', '.join(different_keywords_in_okt)}\")\n",
    "    except IndexError:\n",
    "        print(f\"인덱스 {index}가 데이터프레임의 범위를 벗어났습니다.\")\n",
    "    except KeyError as e:\n",
    "        print(f\"열 이름 오류: {e}\")"
   ]
  },
  {
   "cell_type": "code",
   "execution_count": 329,
   "metadata": {},
   "outputs": [
    {
     "name": "stdout",
     "output_type": "stream",
     "text": [
      "제목: 이상일 용인특례시장, 민주평통 경기지역 의장표창 수여식 참석\n",
      "키워드: 이상일,용인,특례,시장,참석\n",
      "키워드_추출okt: 이상일, 용인, 특례시, 민주, 평통, 기지역, 의장, 표창, 수여, 참석\n",
      "다른 키워드 (키워드에만 있음): 시장, 특례\n",
      "다른 키워드 (키워드_추출okt에만 있음): 의장, 기지역, 표창, 평통, 특례시, 민주, 수여\n"
     ]
    }
   ],
   "source": [
    "print_different_keywords(0)"
   ]
  },
  {
   "cell_type": "code",
   "execution_count": 325,
   "metadata": {},
   "outputs": [
    {
     "name": "stdout",
     "output_type": "stream",
     "text": [
      "제목: GH, '경기용인 플랫폼시티 랜드마크 조성' 아이디어 공모전 개최\n",
      "키워드: GH,경기용,조성,플랫폼,시티,랜드마크,개최\n",
      "키워드_추출okt: 경기, 용인, 플랫폼, 시티, 랜드마크, 조성, 아이디어, 공모전, 개최\n",
      "다른 키워드 (키워드에만 있음): GH, 경기용\n",
      "다른 키워드 (키워드_추출okt에만 있음): 용인, 아이디어, 경기, 공모전\n"
     ]
    }
   ],
   "source": [
    "print_different_keywords(10)"
   ]
  },
  {
   "cell_type": "code",
   "execution_count": 326,
   "metadata": {},
   "outputs": [
    {
     "name": "stdout",
     "output_type": "stream",
     "text": [
      "제목: 용인시 “여성의 경제 참여 증진과 성평등 도시 구현에 힘 모아 달라”\n",
      "키워드: 용인시,여성,증진,경제,참여,도시,백군기,용인,시장,경기도여성단체협의회\n",
      "키워드_추출okt: 용인시, 여성, 경제, 참여, 증진, 평등, 도시, 구현, 힘, 달라\n",
      "다른 키워드 (키워드에만 있음): 경기도여성단체협의회, 용인, 시장, 백군기\n",
      "다른 키워드 (키워드_추출okt에만 있음): 힘, 달라, 평등, 구현\n"
     ]
    }
   ],
   "source": [
    "print_different_keywords(30)"
   ]
  },
  {
   "cell_type": "code",
   "execution_count": 328,
   "metadata": {},
   "outputs": [
    {
     "name": "stdout",
     "output_type": "stream",
     "text": [
      "제목: 용인시의회 김상수 의원, '무장애 도시 조성 조례안' 가결\n",
      "키워드: 의원,용인시의회,김상수,도시,조성,조례안,가결\n",
      "키워드_추출okt: 용인시, 의회, 김상수, 의원, 무장애, 도시, 조성, 조례, 안, 가결\n",
      "다른 키워드 (키워드에만 있음): 용인시의회, 조례안\n",
      "다른 키워드 (키워드_추출okt에만 있음): 안, 의회, 조례, 무장애, 용인시\n"
     ]
    }
   ],
   "source": [
    "print_different_keywords(50)"
   ]
  },
  {
   "cell_type": "markdown",
   "metadata": {},
   "source": [
    "현재로서는 제목을 이용한 키워드 분석하기 좀 어려움..  \n",
    "제목에서 키워드 추출을 잘할수만 있다면.. 좀 살릴수 있을거 같은데.."
   ]
  },
  {
   "cell_type": "markdown",
   "metadata": {},
   "source": [
    "."
   ]
  }
 ],
 "metadata": {
  "kernelspec": {
   "display_name": "Python 3 (ipykernel)",
   "language": "python",
   "name": "python3"
  },
  "language_info": {
   "codemirror_mode": {
    "name": "ipython",
    "version": 3
   },
   "file_extension": ".py",
   "mimetype": "text/x-python",
   "name": "python",
   "nbconvert_exporter": "python",
   "pygments_lexer": "ipython3",
   "version": "3.7.8"
  }
 },
 "nbformat": 4,
 "nbformat_minor": 4
}
