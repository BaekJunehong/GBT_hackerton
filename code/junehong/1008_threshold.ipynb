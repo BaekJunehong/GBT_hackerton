{
 "cells": [
  {
   "cell_type": "code",
   "execution_count": 98,
   "metadata": {},
   "outputs": [],
   "source": [
    "import pandas as pd\n",
    "import re"
   ]
  },
  {
   "cell_type": "code",
   "execution_count": 99,
   "metadata": {},
   "outputs": [],
   "source": [
    "train_df = pd.read_csv(\"../../data/train_df_translate_del.csv\")\n",
    "test_df = pd.read_csv(\"../../data/test_df_translate_del.csv\")  \n",
    "submission = pd.read_csv(\"../../data/sample_submission.csv\")  "
   ]
  },
  {
   "cell_type": "code",
   "execution_count": 100,
   "metadata": {},
   "outputs": [],
   "source": [
    "# 레이블 인코딩\n",
    "label_encoder = {label: i for i, label in enumerate(train_df['분류'].unique())}\n",
    "train_df['label'] = train_df['분류'].map(label_encoder)"
   ]
  },
  {
   "cell_type": "code",
   "execution_count": 101,
   "metadata": {},
   "outputs": [
    {
     "name": "stdout",
     "output_type": "stream",
     "text": [
      "<class 'pandas.core.frame.DataFrame'>\n",
      "RangeIndex: 23405 entries, 0 to 23404\n",
      "Data columns (total 2 columns):\n",
      " #   Column  Non-Null Count  Dtype \n",
      "---  ------  --------------  ----- \n",
      " 0   ID      23405 non-null  object\n",
      " 1   분류      23405 non-null  object\n",
      "dtypes: object(2)\n",
      "memory usage: 365.8+ KB\n"
     ]
    }
   ],
   "source": [
    "submission.info()"
   ]
  },
  {
   "cell_type": "code",
   "execution_count": 102,
   "metadata": {},
   "outputs": [],
   "source": [
    "import pandas as pd\n",
    "import numpy as np\n",
    "\n",
    "def predict_labels(probabilities_csv, train_df, threshold, output_csv):\n",
    "    # 확률 데이터 불러오기\n",
    "    probabilities_df = pd.read_csv(probabilities_csv)\n",
    "\n",
    "    # 가장 높은 확률과 두 번째로 높은 확률을 가진 클래스 예측\n",
    "    top_two_indices = np.argsort(probabilities_df.values, axis=1)[:, -2:]\n",
    "    top_two_probs = np.sort(probabilities_df.values, axis=1)[:, -2:]\n",
    "\n",
    "    # 레이블 인코더 생성 (이전에 사용한 레이블 인코더와 동일해야 함)\n",
    "    label_encoder = {label: i for i, label in enumerate(train_df['분류'].unique())}\n",
    "    inverse_label_encoder = {v: k for k, v in label_encoder.items()}\n",
    "\n",
    "    # 예측 결과를 저장할 리스트 초기화\n",
    "    predicted_class_indices = []\n",
    "\n",
    "    for i in range(len(probabilities_df)):\n",
    "        # 가장 높은 확률을 가진 클래스 인덱스\n",
    "        top_class_index = top_two_indices[i, 1]\n",
    "\n",
    "        # 해당 클래스가 레이블 인코딩에서 1번으로 저장되는 범주인지 확인\n",
    "        if top_class_index == 1 and top_two_probs[i, 1] < threshold:\n",
    "            # 임계값을 넘지 않으면 두 번째로 높은 확률의 클래스를 선택\n",
    "            predicted_class_indices.append(top_two_indices[i, 0])\n",
    "        else:\n",
    "            # 그렇지 않으면 가장 높은 확률의 클래스를 선택\n",
    "            predicted_class_indices.append(top_class_index)\n",
    "\n",
    "    # 예측 결과를 레이블로 변환\n",
    "    predicted_labels = [inverse_label_encoder[idx] for idx in predicted_class_indices]\n",
    "\n",
    "    # 결과를 데이터프레임으로 변환\n",
    "    result_df = pd.DataFrame({\n",
    "        'ID': [f'TEST_{i:05d}' for i in range(len(predicted_labels))],  # ID를 TEST_00000 형식으로 생성\n",
    "        '분류': predicted_labels\n",
    "    })\n",
    "\n",
    "    # 결과를 CSV 파일로 저장\n",
    "    result_df.to_csv(output_csv, index=False, encoding='UTF-8-sig')\n",
    "\n",
    "    # '분류' 열에서 '지역'에 해당하는 데이터의 비율 계산\n",
    "    total_count = len(result_df)\n",
    "    region_count = result_df['분류'].value_counts().get('지역', 0)\n",
    "    region_ratio = region_count / total_count\n",
    "\n",
    "    print(f\"예측 데이터셋 중 '지역'에 해당하는 데이터의 비율: {region_ratio:.2%}\")"
   ]
  },
  {
   "cell_type": "code",
   "execution_count": 105,
   "metadata": {},
   "outputs": [
    {
     "name": "stdout",
     "output_type": "stream",
     "text": [
      "train data 중 '지역'에 해당하는 데이터의 비율: 49.35%\n"
     ]
    }
   ],
   "source": [
    "# '분류' 열에서 '지역'에 해당하는 데이터의 비율 계산\n",
    "total_count = len(train_df)\n",
    "region_count = train_df['분류'].value_counts().get('지역', 0)\n",
    "region_ratio = region_count / total_count\n",
    "\n",
    "print(f\"train data 중 '지역'에 해당하는 데이터의 비율: {region_ratio:.2%}\")"
   ]
  },
  {
   "cell_type": "code",
   "execution_count": 106,
   "metadata": {},
   "outputs": [
    {
     "name": "stdout",
     "output_type": "stream",
     "text": [
      "예측 데이터셋 중 '지역'에 해당하는 데이터의 비율: 49.38%\n"
     ]
    }
   ],
   "source": [
    "# 예측데이터 스레스홀드 조절\n",
    "predict_labels(\"predictions.csv\", train_df, 6.6, \"predicted_labels.csv\")"
   ]
  },
  {
   "cell_type": "code",
   "execution_count": 97,
   "metadata": {},
   "outputs": [
    {
     "data": {
      "text/plain": [
       "지역               11558\n",
       "경제:부동산            1447\n",
       "사회:사건_사고          1095\n",
       "경제:반도체            1032\n",
       "사회:사회일반            691\n",
       "사회:교육_시험           476\n",
       "정치:국회_정당           413\n",
       "스포츠:올림픽_아시안게임      393\n",
       "사회:의료_건강           365\n",
       "경제:경제일반            362\n",
       "경제:취업_창업           343\n",
       "정치:선거              290\n",
       "스포츠:골프             287\n",
       "경제:자동차             273\n",
       "경제:유통              267\n",
       "경제:산업_기업           265\n",
       "사회:장애인             234\n",
       "IT_과학:모바일          229\n",
       "문화:전시_공연           217\n",
       "사회:노동_복지           210\n",
       "스포츠:축구             184\n",
       "경제:금융_재테크          171\n",
       "경제:무역              160\n",
       "사회:여성              157\n",
       "사회:환경              152\n",
       "문화:방송_연예           151\n",
       "국제                 149\n",
       "경제:서비스_쇼핑          143\n",
       "IT_과학:인터넷_SNS      141\n",
       "정치:행정_자치           137\n",
       "문화:문화일반            120\n",
       "IT_과학:IT_과학일반      118\n",
       "문화:출판               99\n",
       "정치:청와대              98\n",
       "IT_과학:과학            94\n",
       "문화:미술_건축            93\n",
       "문화:학술_문화재           88\n",
       "경제:자원               70\n",
       "문화:요리_여행            69\n",
       "정치:정치일반             60\n",
       "문화:종교               59\n",
       "문화:생활               56\n",
       "IT_과학:보안            55\n",
       "사회:미디어              54\n",
       "IT_과학:콘텐츠           52\n",
       "사회:날씨               51\n",
       "스포츠:농구_배구           43\n",
       "문화:음악               37\n",
       "경제:증권_증시            37\n",
       "정치:북한               28\n",
       "문화:영화               11\n",
       "스포츠:월드컵             10\n",
       "스포츠:스포츠일반            6\n",
       "정치:외교                5\n",
       "Name: 분류, dtype: int64"
      ]
     },
     "execution_count": 97,
     "metadata": {},
     "output_type": "execute_result"
    }
   ],
   "source": [
    "predicted_labels = pd.read_csv(\"predicted_labels.csv\")\n",
    "\n",
    "predicted_labels['분류'].value_counts()"
   ]
  },
  {
   "cell_type": "markdown",
   "metadata": {},
   "source": [
    "."
   ]
  }
 ],
 "metadata": {
  "kernelspec": {
   "display_name": "Python 3",
   "language": "python",
   "name": "python3"
  },
  "language_info": {
   "codemirror_mode": {
    "name": "ipython",
    "version": 3
   },
   "file_extension": ".py",
   "mimetype": "text/x-python",
   "name": "python",
   "nbconvert_exporter": "python",
   "pygments_lexer": "ipython3",
   "version": "3.7.8"
  }
 },
 "nbformat": 4,
 "nbformat_minor": 2
}
