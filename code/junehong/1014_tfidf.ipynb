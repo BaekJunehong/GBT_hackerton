{
 "cells": [
  {
   "cell_type": "markdown",
   "metadata": {},
   "source": [
    "## 머신러닝 모델 이용"
   ]
  },
  {
   "cell_type": "markdown",
   "metadata": {},
   "source": [
    "## 라이브러리 로드"
   ]
  },
  {
   "cell_type": "code",
   "execution_count": 1,
   "metadata": {},
   "outputs": [],
   "source": [
    "# 데이터 분석을 위한 pandas, 수치계산을 위한 numpy, 시각화를 위한 seaborn, matplotlib 을 로드합니다.\n",
    "import pandas as pd\n",
    "import numpy as np\n",
    "import seaborn as sns\n",
    "import matplotlib.pyplot as plt"
   ]
  },
  {
   "cell_type": "markdown",
   "metadata": {},
   "source": [
    "## 데이터 로드"
   ]
  },
  {
   "cell_type": "code",
   "execution_count": 2,
   "metadata": {},
   "outputs": [
    {
     "data": {
      "text/plain": [
       "((54314, 4), (23405, 3))"
      ]
     },
     "execution_count": 2,
     "metadata": {},
     "output_type": "execute_result"
    }
   ],
   "source": [
    "RANDOM_STATE = 110\n",
    "\n",
    "# 학습, 예측 데이터셋을 불러옵니다.\n",
    "df_train = pd.read_csv(\"../../data/train_df_1012.csv\")\n",
    "df_test = pd.read_csv(\"../../data/test_df_1012.csv\")\n",
    "df_train.shape, df_test.shape"
   ]
  },
  {
   "cell_type": "code",
   "execution_count": 3,
   "metadata": {},
   "outputs": [
    {
     "data": {
      "text/plain": [
       "지역          26850\n",
       "경제:부동산       3447\n",
       "사회:사건_사고     2545\n",
       "경제:반도체       2309\n",
       "사회:사회일반      1457\n",
       "Name: 분류, dtype: int64"
      ]
     },
     "execution_count": 3,
     "metadata": {},
     "output_type": "execute_result"
    }
   ],
   "source": [
    "df_train['분류'].value_counts().head(5)"
   ]
  },
  {
   "cell_type": "markdown",
   "metadata": {},
   "source": [
    "## 1. 로지스틱"
   ]
  },
  {
   "cell_type": "markdown",
   "metadata": {},
   "source": [
    "max_iter = 100 적절해 보임"
   ]
  },
  {
   "cell_type": "code",
   "execution_count": 10,
   "metadata": {},
   "outputs": [
    {
     "name": "stdout",
     "output_type": "stream",
     "text": [
      "TF-IDF - Accuracy: 0.6211911994844886, Macro F1-score: 0.10295490748498067\n",
      "Count Vectorization - Accuracy: 0.7752922765350272, Macro F1-score: 0.4820289910032497\n",
      "Word2Vec (CBOW) - Accuracy: 0.7004510724477584, Macro F1-score: 0.2673183690911866\n",
      "Word2Vec (Skip-gram) - Accuracy: 0.6558961612814139, Macro F1-score: 0.18534134203238484\n"
     ]
    }
   ],
   "source": [
    "import pandas as pd\n",
    "import numpy as np\n",
    "import warnings\n",
    "from sklearn.feature_extraction.text import TfidfVectorizer, CountVectorizer\n",
    "from sklearn.model_selection import train_test_split\n",
    "from sklearn.linear_model import LogisticRegression\n",
    "from sklearn.metrics import accuracy_score, classification_report, f1_score\n",
    "from sklearn.preprocessing import LabelEncoder\n",
    "from gensim.models import Word2Vec\n",
    "\n",
    "RANDOM_STATE = 110\n",
    "\n",
    "# 경고 메시지 억제\n",
    "warnings.filterwarnings('ignore')\n",
    "\n",
    "# 학습, 예측 데이터셋을 불러옵니다.\n",
    "df_train = pd.read_csv(\"../../data/train_df_1012.csv\")\n",
    "df_test = pd.read_csv(\"../../data/test_df_1012.csv\")\n",
    "df_train.shape, df_test.shape\n",
    "\n",
    "# 텍스트와 레이블 분리\n",
    "X = df_train['키워드']  # 키워드 컬럼\n",
    "y = df_train['분류']  # 카테고리 컬럼\n",
    "\n",
    "# 데이터 분할 (클래스 비율 동일하게 유지)\n",
    "X_train, X_valid, y_train, y_valid = train_test_split(X, y, test_size=0.2, random_state=RANDOM_STATE, stratify=y)\n",
    "\n",
    "# 레이블 인코딩\n",
    "label_encoder = LabelEncoder()\n",
    "y_train_encoded = label_encoder.fit_transform(y_train)\n",
    "y_valid_encoded = label_encoder.transform(y_valid)\n",
    "\n",
    "# TF-IDF 벡터화\n",
    "tfidf_vectorizer = TfidfVectorizer()\n",
    "X_train_tfidf = tfidf_vectorizer.fit_transform(X_train)\n",
    "X_valid_tfidf = tfidf_vectorizer.transform(X_valid)\n",
    "\n",
    "# Count Vectorization\n",
    "count_vectorizer = CountVectorizer()\n",
    "X_train_count = count_vectorizer.fit_transform(X_train)\n",
    "X_valid_count = count_vectorizer.transform(X_valid)\n",
    "\n",
    "# Word2Vec 벡터화 (CBOW)\n",
    "w2v_model_cbow = Word2Vec(sentences=[text.split() for text in X_train], vector_size=100, window=5, min_count=1, workers=4, sg=0)\n",
    "X_train_w2v_cbow = np.array([np.mean([w2v_model_cbow.wv[word] for word in text.split() if word in w2v_model_cbow.wv] or [np.zeros(100)], axis=0) for text in X_train])\n",
    "X_valid_w2v_cbow = np.array([np.mean([w2v_model_cbow.wv[word] for word in text.split() if word in w2v_model_cbow.wv] or [np.zeros(100)], axis=0) for text in X_valid])\n",
    "\n",
    "# Word2Vec 벡터화 (Skip-gram)\n",
    "w2v_model_sg = Word2Vec(sentences=[text.split() for text in X_train], vector_size=100, window=5, min_count=1, workers=4, sg=1)\n",
    "X_train_w2v_sg = np.array([np.mean([w2v_model_sg.wv[word] for word in text.split() if word in w2v_model_sg.wv] or [np.zeros(100)], axis=0) for text in X_train])\n",
    "X_valid_w2v_sg = np.array([np.mean([w2v_model_sg.wv[word] for word in text.split() if word in w2v_model_sg.wv] or [np.zeros(100)], axis=0) for text in X_valid])\n",
    "\n",
    "# 로지스틱 회귀 모델 학습 및 평가 함수\n",
    "def train_and_evaluate(X_train, X_valid, y_train, y_valid, method_name):\n",
    "    model = LogisticRegression(max_iter=10, random_state=RANDOM_STATE)\n",
    "    model.fit(X_train, y_train)\n",
    "    y_valid_pred = model.predict(X_valid)\n",
    "    accuracy = accuracy_score(y_valid, y_valid_pred)\n",
    "    macro_f1 = f1_score(y_valid, y_valid_pred, average='macro')\n",
    "    print(f\"{method_name} - Accuracy: {accuracy}, Macro F1-score: {macro_f1}\")\n",
    "    # print(classification_report(y_valid, y_valid_pred, target_names=label_encoder.classes_))\n",
    "\n",
    "# TF-IDF\n",
    "train_and_evaluate(X_train_tfidf, X_valid_tfidf, y_train_encoded, y_valid_encoded, \"TF-IDF\")\n",
    "\n",
    "# Count Vectorization\n",
    "train_and_evaluate(X_train_count, X_valid_count, y_train_encoded, y_valid_encoded, \"Count Vectorization\")\n",
    "\n",
    "# Word2Vec (CBOW)\n",
    "train_and_evaluate(X_train_w2v_cbow, X_valid_w2v_cbow, y_train_encoded, y_valid_encoded, \"Word2Vec (CBOW)\")\n",
    "\n",
    "# Word2Vec (Skip-gram)\n",
    "train_and_evaluate(X_train_w2v_sg, X_valid_w2v_sg, y_train_encoded, y_valid_encoded, \"Word2Vec (Skip-gram)\")"
   ]
  },
  {
   "cell_type": "code",
   "execution_count": 11,
   "metadata": {},
   "outputs": [
    {
     "name": "stdout",
     "output_type": "stream",
     "text": [
      "TF-IDF - Accuracy: 0.7949921752738655, Macro F1-score: 0.4995781881822617\n",
      "Count Vectorization - Accuracy: 0.8337475835404584, Macro F1-score: 0.6715901126181764\n",
      "Word2Vec (CBOW) - Accuracy: 0.7629568259228574, Macro F1-score: 0.4911300351003649\n",
      "Word2Vec (Skip-gram) - Accuracy: 0.7561447114056891, Macro F1-score: 0.4671125090590625\n"
     ]
    }
   ],
   "source": [
    "# 로지스틱 회귀 모델 학습 및 평가 함수\n",
    "def train_and_evaluate(X_train, X_valid, y_train, y_valid, method_name):\n",
    "    model = LogisticRegression(max_iter=100, random_state=RANDOM_STATE)\n",
    "    model.fit(X_train, y_train)\n",
    "    y_valid_pred = model.predict(X_valid)\n",
    "    accuracy = accuracy_score(y_valid, y_valid_pred)\n",
    "    macro_f1 = f1_score(y_valid, y_valid_pred, average='macro')\n",
    "    print(f\"{method_name} - Accuracy: {accuracy}, Macro F1-score: {macro_f1}\")\n",
    "    # print(classification_report(y_valid, y_valid_pred, target_names=label_encoder.classes_))\n",
    "\n",
    "# TF-IDF\n",
    "train_and_evaluate(X_train_tfidf, X_valid_tfidf, y_train_encoded, y_valid_encoded, \"TF-IDF\")\n",
    "\n",
    "# Count Vectorization\n",
    "train_and_evaluate(X_train_count, X_valid_count, y_train_encoded, y_valid_encoded, \"Count Vectorization\")\n",
    "\n",
    "# Word2Vec (CBOW)\n",
    "train_and_evaluate(X_train_w2v_cbow, X_valid_w2v_cbow, y_train_encoded, y_valid_encoded, \"Word2Vec (CBOW)\")\n",
    "\n",
    "# Word2Vec (Skip-gram)\n",
    "train_and_evaluate(X_train_w2v_sg, X_valid_w2v_sg, y_train_encoded, y_valid_encoded, \"Word2Vec (Skip-gram)\")"
   ]
  },
  {
   "cell_type": "code",
   "execution_count": 12,
   "metadata": {},
   "outputs": [
    {
     "name": "stdout",
     "output_type": "stream",
     "text": [
      "TF-IDF - Accuracy: 0.7945318972659486, Macro F1-score: 0.49684338301538167\n",
      "Count Vectorization - Accuracy: 0.8336555279388751, Macro F1-score: 0.6691282708433699\n",
      "Word2Vec (CBOW) - Accuracy: 0.7678357728067753, Macro F1-score: 0.5080390162696593\n",
      "Word2Vec (Skip-gram) - Accuracy: 0.7576176010310227, Macro F1-score: 0.4739103759751612\n"
     ]
    }
   ],
   "source": [
    "# 로지스틱 회귀 모델 학습 및 평가 함수\n",
    "def train_and_evaluate(X_train, X_valid, y_train, y_valid, method_name):\n",
    "    model = LogisticRegression(max_iter=300, random_state=RANDOM_STATE)\n",
    "    model.fit(X_train, y_train)\n",
    "    y_valid_pred = model.predict(X_valid)\n",
    "    accuracy = accuracy_score(y_valid, y_valid_pred)\n",
    "    macro_f1 = f1_score(y_valid, y_valid_pred, average='macro')\n",
    "    print(f\"{method_name} - Accuracy: {accuracy}, Macro F1-score: {macro_f1}\")\n",
    "    # print(classification_report(y_valid, y_valid_pred, target_names=label_encoder.classes_))\n",
    "\n",
    "# TF-IDF\n",
    "train_and_evaluate(X_train_tfidf, X_valid_tfidf, y_train_encoded, y_valid_encoded, \"TF-IDF\")\n",
    "\n",
    "# Count Vectorization\n",
    "train_and_evaluate(X_train_count, X_valid_count, y_train_encoded, y_valid_encoded, \"Count Vectorization\")\n",
    "\n",
    "# Word2Vec (CBOW)\n",
    "train_and_evaluate(X_train_w2v_cbow, X_valid_w2v_cbow, y_train_encoded, y_valid_encoded, \"Word2Vec (CBOW)\")\n",
    "\n",
    "# Word2Vec (Skip-gram)\n",
    "train_and_evaluate(X_train_w2v_sg, X_valid_w2v_sg, y_train_encoded, y_valid_encoded, \"Word2Vec (Skip-gram)\")"
   ]
  },
  {
   "cell_type": "code",
   "execution_count": 13,
   "metadata": {},
   "outputs": [
    {
     "name": "stdout",
     "output_type": "stream",
     "text": [
      "TF-IDF - Accuracy: 0.7945318972659486, Macro F1-score: 0.49684338301538167\n",
      "Count Vectorization - Accuracy: 0.8336555279388751, Macro F1-score: 0.6689017845209749\n",
      "Word2Vec (CBOW) - Accuracy: 0.7675596060020252, Macro F1-score: 0.5056452778191008\n",
      "Word2Vec (Skip-gram) - Accuracy: 0.7573414342262726, Macro F1-score: 0.47352432671650263\n"
     ]
    }
   ],
   "source": [
    "# 로지스틱 회귀 모델 학습 및 평가 함수\n",
    "def train_and_evaluate(X_train, X_valid, y_train, y_valid, method_name):\n",
    "    model = LogisticRegression(max_iter=500, random_state=RANDOM_STATE)\n",
    "    model.fit(X_train, y_train)\n",
    "    y_valid_pred = model.predict(X_valid)\n",
    "    accuracy = accuracy_score(y_valid, y_valid_pred)\n",
    "    macro_f1 = f1_score(y_valid, y_valid_pred, average='macro')\n",
    "    print(f\"{method_name} - Accuracy: {accuracy}, Macro F1-score: {macro_f1}\")\n",
    "    # print(classification_report(y_valid, y_valid_pred, target_names=label_encoder.classes_))\n",
    "\n",
    "# TF-IDF\n",
    "train_and_evaluate(X_train_tfidf, X_valid_tfidf, y_train_encoded, y_valid_encoded, \"TF-IDF\")\n",
    "\n",
    "# Count Vectorization\n",
    "train_and_evaluate(X_train_count, X_valid_count, y_train_encoded, y_valid_encoded, \"Count Vectorization\")\n",
    "\n",
    "# Word2Vec (CBOW)\n",
    "train_and_evaluate(X_train_w2v_cbow, X_valid_w2v_cbow, y_train_encoded, y_valid_encoded, \"Word2Vec (CBOW)\")\n",
    "\n",
    "# Word2Vec (Skip-gram)\n",
    "train_and_evaluate(X_train_w2v_sg, X_valid_w2v_sg, y_train_encoded, y_valid_encoded, \"Word2Vec (Skip-gram)\")"
   ]
  },
  {
   "cell_type": "markdown",
   "metadata": {},
   "source": [
    "## 2. 랜덤포레스트"
   ]
  },
  {
   "cell_type": "markdown",
   "metadata": {},
   "source": [
    "n_estimators=100 이 적절함"
   ]
  },
  {
   "cell_type": "code",
   "execution_count": 15,
   "metadata": {},
   "outputs": [
    {
     "name": "stdout",
     "output_type": "stream",
     "text": [
      "TF-IDF - Accuracy: 0.7742796649176102, Macro F1-score: 0.5545635255259403\n",
      "Count Vectorization - Accuracy: 0.7738193869096934, Macro F1-score: 0.558167010164971\n",
      "Word2Vec (CBOW) - Accuracy: 0.7960968424928657, Macro F1-score: 0.5815340238828816\n",
      "Word2Vec (Skip-gram) - Accuracy: 0.7953603976801988, Macro F1-score: 0.6030652481849351\n"
     ]
    }
   ],
   "source": [
    "import pandas as pd\n",
    "import numpy as np\n",
    "from sklearn.feature_extraction.text import TfidfVectorizer, CountVectorizer\n",
    "from sklearn.model_selection import train_test_split\n",
    "from sklearn.ensemble import RandomForestClassifier\n",
    "from sklearn.metrics import accuracy_score, classification_report, f1_score\n",
    "from sklearn.preprocessing import LabelEncoder\n",
    "from gensim.models import Word2Vec\n",
    "\n",
    "RANDOM_STATE = 110\n",
    "\n",
    "# 학습, 예측 데이터셋을 불러옵니다.\n",
    "df_train = pd.read_csv(\"../../data/train_df_1012.csv\")\n",
    "df_test = pd.read_csv(\"../../data/test_df_1012.csv\")\n",
    "df_train.shape, df_test.shape\n",
    "\n",
    "# 텍스트와 레이블 분리\n",
    "X = df_train['키워드']  # 키워드 컬럼\n",
    "y = df_train['분류']  # 카테고리 컬럼\n",
    "\n",
    "# 데이터 분할 (클래스 비율 동일하게 유지)\n",
    "X_train, X_valid, y_train, y_valid = train_test_split(X, y, test_size=0.2, random_state=RANDOM_STATE, stratify=y)\n",
    "\n",
    "# 레이블 인코딩\n",
    "label_encoder = LabelEncoder()\n",
    "y_train_encoded = label_encoder.fit_transform(y_train)\n",
    "y_valid_encoded = label_encoder.transform(y_valid)\n",
    "\n",
    "# TF-IDF 벡터화\n",
    "tfidf_vectorizer = TfidfVectorizer()\n",
    "X_train_tfidf = tfidf_vectorizer.fit_transform(X_train)\n",
    "X_valid_tfidf = tfidf_vectorizer.transform(X_valid)\n",
    "\n",
    "# Count Vectorization\n",
    "count_vectorizer = CountVectorizer()\n",
    "X_train_count = count_vectorizer.fit_transform(X_train)\n",
    "X_valid_count = count_vectorizer.transform(X_valid)\n",
    "\n",
    "# Word2Vec 벡터화 (CBOW)\n",
    "w2v_model_cbow = Word2Vec(sentences=[text.split() for text in X_train], vector_size=100, window=5, min_count=1, workers=4, sg=0)\n",
    "X_train_w2v_cbow = np.array([np.mean([w2v_model_cbow.wv[word] for word in text.split() if word in w2v_model_cbow.wv] or [np.zeros(100)], axis=0) for text in X_train])\n",
    "X_valid_w2v_cbow = np.array([np.mean([w2v_model_cbow.wv[word] for word in text.split() if word in w2v_model_cbow.wv] or [np.zeros(100)], axis=0) for text in X_valid])\n",
    "\n",
    "# Word2Vec 벡터화 (Skip-gram)\n",
    "w2v_model_sg = Word2Vec(sentences=[text.split() for text in X_train], vector_size=100, window=5, min_count=1, workers=4, sg=1)\n",
    "X_train_w2v_sg = np.array([np.mean([w2v_model_sg.wv[word] for word in text.split() if word in w2v_model_sg.wv] or [np.zeros(100)], axis=0) for text in X_train])\n",
    "X_valid_w2v_sg = np.array([np.mean([w2v_model_sg.wv[word] for word in text.split() if word in w2v_model_sg.wv] or [np.zeros(100)], axis=0) for text in X_valid])\n",
    "\n",
    "# 랜덤 포레스트 모델 학습 및 평가 함수\n",
    "def train_and_evaluate(X_train, X_valid, y_train, y_valid, method_name):\n",
    "    model = RandomForestClassifier(n_estimators=100, random_state=RANDOM_STATE)\n",
    "    model.fit(X_train, y_train)\n",
    "    y_valid_pred = model.predict(X_valid)\n",
    "    accuracy = accuracy_score(y_valid, y_valid_pred)\n",
    "    macro_f1 = f1_score(y_valid, y_valid_pred, average='macro')\n",
    "    print(f\"{method_name} - Accuracy: {accuracy}, Macro F1-score: {macro_f1}\")\n",
    "    # print(classification_report(y_valid, y_valid_pred, target_names=label_encoder.classes_))\n",
    "\n",
    "# TF-IDF\n",
    "train_and_evaluate(X_train_tfidf, X_valid_tfidf, y_train_encoded, y_valid_encoded, \"TF-IDF\")\n",
    "\n",
    "# Count Vectorization\n",
    "train_and_evaluate(X_train_count, X_valid_count, y_train_encoded, y_valid_encoded, \"Count Vectorization\")\n",
    "\n",
    "# Word2Vec (CBOW)\n",
    "train_and_evaluate(X_train_w2v_cbow, X_valid_w2v_cbow, y_train_encoded, y_valid_encoded, \"Word2Vec (CBOW)\")\n",
    "\n",
    "# Word2Vec (Skip-gram)\n",
    "train_and_evaluate(X_train_w2v_sg, X_valid_w2v_sg, y_train_encoded, y_valid_encoded, \"Word2Vec (Skip-gram)\")"
   ]
  },
  {
   "cell_type": "code",
   "execution_count": 9,
   "metadata": {},
   "outputs": [
    {
     "name": "stdout",
     "output_type": "stream",
     "text": [
      "TF-IDF - Accuracy: 0.7732670533001933, Macro F1-score: 0.5532150684563435\n",
      "Count Vectorization - Accuracy: 0.774463776120777, Macro F1-score: 0.5597891541418811\n",
      "Word2Vec (CBOW) - Accuracy: 0.7977538433213661, Macro F1-score: 0.5794650584606268\n",
      "Word2Vec (Skip-gram) - Accuracy: 0.7971094541102826, Macro F1-score: 0.604222727512024\n"
     ]
    }
   ],
   "source": [
    "# 랜덤 포레스트 모델 학습 및 평가 함수\n",
    "def train_and_evaluate(X_train, X_valid, y_train, y_valid, method_name):\n",
    "    model = RandomForestClassifier(n_estimators=300, random_state=RANDOM_STATE)\n",
    "    model.fit(X_train, y_train)\n",
    "    y_valid_pred = model.predict(X_valid)\n",
    "    accuracy = accuracy_score(y_valid, y_valid_pred)\n",
    "    macro_f1 = f1_score(y_valid, y_valid_pred, average='macro')\n",
    "    print(f\"{method_name} - Accuracy: {accuracy}, Macro F1-score: {macro_f1}\")\n",
    "    # print(classification_report(y_valid, y_valid_pred, target_names=label_encoder.classes_))\n",
    "\n",
    "# TF-IDF\n",
    "train_and_evaluate(X_train_tfidf, X_valid_tfidf, y_train_encoded, y_valid_encoded, \"TF-IDF\")\n",
    "\n",
    "# Count Vectorization\n",
    "train_and_evaluate(X_train_count, X_valid_count, y_train_encoded, y_valid_encoded, \"Count Vectorization\")\n",
    "\n",
    "# Word2Vec (CBOW)\n",
    "train_and_evaluate(X_train_w2v_cbow, X_valid_w2v_cbow, y_train_encoded, y_valid_encoded, \"Word2Vec (CBOW)\")\n",
    "\n",
    "# Word2Vec (Skip-gram)\n",
    "train_and_evaluate(X_train_w2v_sg, X_valid_w2v_sg, y_train_encoded, y_valid_encoded, \"Word2Vec (Skip-gram)\")"
   ]
  },
  {
   "cell_type": "markdown",
   "metadata": {},
   "source": [
    "## cat, 나이브 베이즈 성능 별로 였음"
   ]
  },
  {
   "cell_type": "markdown",
   "metadata": {},
   "source": [
    "."
   ]
  }
 ],
 "metadata": {
  "kernelspec": {
   "display_name": "Python 3",
   "language": "python",
   "name": "python3"
  },
  "language_info": {
   "codemirror_mode": {
    "name": "ipython",
    "version": 3
   },
   "file_extension": ".py",
   "mimetype": "text/x-python",
   "name": "python",
   "nbconvert_exporter": "python",
   "pygments_lexer": "ipython3",
   "version": "3.7.8"
  },
  "toc": {
   "base_numbering": 1,
   "nav_menu": {},
   "number_sections": true,
   "sideBar": true,
   "skip_h1_title": false,
   "title_cell": "Table of Contents",
   "title_sidebar": "Contents",
   "toc_cell": false,
   "toc_position": {
    "height": "calc(100% - 180px)",
    "left": "10px",
    "top": "150px",
    "width": "320px"
   },
   "toc_section_display": true,
   "toc_window_display": false
  },
  "varInspector": {
   "cols": {
    "lenName": 16,
    "lenType": 16,
    "lenVar": 40
   },
   "kernels_config": {
    "python": {
     "delete_cmd_postfix": "",
     "delete_cmd_prefix": "del ",
     "library": "var_list.py",
     "varRefreshCmd": "print(var_dic_list())"
    },
    "r": {
     "delete_cmd_postfix": ") ",
     "delete_cmd_prefix": "rm(",
     "library": "var_list.r",
     "varRefreshCmd": "cat(var_dic_list()) "
    }
   },
   "types_to_exclude": [
    "module",
    "function",
    "builtin_function_or_method",
    "instance",
    "_Feature"
   ],
   "window_display": false
  }
 },
 "nbformat": 4,
 "nbformat_minor": 4
}
