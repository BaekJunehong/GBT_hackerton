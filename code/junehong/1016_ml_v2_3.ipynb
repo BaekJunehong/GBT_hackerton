{
 "cells": [
  {
   "cell_type": "markdown",
   "metadata": {},
   "source": [
    "## 머신러닝 모델 이용"
   ]
  },
  {
   "cell_type": "markdown",
   "metadata": {},
   "source": [
    "## 라이브러리 로드"
   ]
  },
  {
   "cell_type": "code",
   "execution_count": 1,
   "metadata": {},
   "outputs": [],
   "source": [
    "# 데이터 분석을 위한 pandas, 수치계산을 위한 numpy, 시각화를 위한 seaborn, matplotlib 을 로드합니다.\n",
    "import pandas as pd\n",
    "import numpy as np\n",
    "import seaborn as sns\n",
    "import matplotlib.pyplot as plt"
   ]
  },
  {
   "cell_type": "code",
   "execution_count": 2,
   "metadata": {},
   "outputs": [],
   "source": [
    "import pandas as pd\n",
    "import numpy as np\n",
    "import warnings\n",
    "from sklearn.feature_extraction.text import TfidfVectorizer, CountVectorizer\n",
    "from sklearn.model_selection import train_test_split\n",
    "from sklearn.linear_model import LogisticRegression\n",
    "from sklearn.ensemble import RandomForestClassifier\n",
    "from sklearn.metrics import accuracy_score, classification_report, f1_score\n",
    "from sklearn.preprocessing import LabelEncoder\n",
    "from gensim.models import Word2Vec\n",
    "from collections import Counter\n",
    "\n",
    "RANDOM_STATE = 110\n",
    "\n",
    "# 경고 메시지 억제\n",
    "warnings.filterwarnings('ignore')\n",
    "\n",
    "# 학습, 예측 데이터셋을 불러옵니다.\n",
    "df_train = pd.read_csv(\"../../data/train_df_translate_del.csv\")\n",
    "df_test = pd.read_csv(\"../../data/test_df_translate_del.csv\")"
   ]
  },
  {
   "cell_type": "code",
   "execution_count": 3,
   "metadata": {},
   "outputs": [],
   "source": [
    "df_train.drop_duplicates(subset=['제목', '키워드'], keep='first', inplace=True)"
   ]
  },
  {
   "cell_type": "code",
   "execution_count": 4,
   "metadata": {},
   "outputs": [],
   "source": [
    "import pandas as pd\n",
    "import re\n",
    "\n",
    "# 제거할 단어 리스트\n",
    "remove_words = ['http', 'www.', '.kr', '.net', '.com']\n",
    "\n",
    "def remove_specific_words(text):\n",
    "    words = text.split(',')\n",
    "    filtered_words = [word for word in words if not any(remove_word in word for remove_word in remove_words)]\n",
    "    return ','.join(filtered_words)\n",
    "\n",
    "# '키워드' 열에 함수 적용\n",
    "df_train['키워드'] = df_train['키워드'].apply(remove_specific_words)\n",
    "df_test['키워드'] = df_test['키워드'].apply(remove_specific_words)"
   ]
  },
  {
   "cell_type": "code",
   "execution_count": 5,
   "metadata": {},
   "outputs": [],
   "source": [
    "# 제거할 기호 리스트\n",
    "symbols_to_remove = {'*', '“', '▷', '‧', '■', '○', '!', '⋯', '→', '㎡', ')', '·', '․', '∙', '?',\n",
    "                     '㈜', '.', '(', '•', ':', '⋅', '%', ';', '/', '˙', '・', '▲', '’', '~'} # '&' '-'\n",
    "\n",
    "# 기호를 제거하는 함수\n",
    "def remove_symbols(text):\n",
    "    pattern = '[' + re.escape(''.join(symbols_to_remove)) + ']'  # 제거할 기호 패턴 생성\n",
    "    return re.sub(pattern, '', text)\n",
    "\n",
    "# '키워드' 열에서 기호 제거\n",
    "df_train['키워드'] = df_train['키워드'].apply(remove_symbols)\n",
    "df_test['키워드'] = df_test['키워드'].apply(remove_symbols)"
   ]
  },
  {
   "cell_type": "code",
   "execution_count": 6,
   "metadata": {},
   "outputs": [
    {
     "data": {
      "text/plain": [
       "((54315, 4), (23405, 3))"
      ]
     },
     "execution_count": 6,
     "metadata": {},
     "output_type": "execute_result"
    }
   ],
   "source": [
    "df_train.shape, df_test.shape"
   ]
  },
  {
   "cell_type": "markdown",
   "metadata": {},
   "source": [
    "## 3. 앙상블"
   ]
  },
  {
   "cell_type": "code",
   "execution_count": 7,
   "metadata": {},
   "outputs": [
    {
     "name": "stdout",
     "output_type": "stream",
     "text": [
      "Hard Voting - Accuracy: 0.8413881984718771, Macro F1-score: 0.6804965483246619\n",
      "Soft Voting - Accuracy: 0.8353125287673755, Macro F1-score: 0.6729745657278795\n"
     ]
    }
   ],
   "source": [
    "# 텍스트와 레이블 분리\n",
    "X = df_train['키워드']  # 키워드 컬럼\n",
    "y = df_train['분류']  # 카테고리 컬럼\n",
    "\n",
    "# 데이터 분할 (클래스 비율 동일하게 유지)\n",
    "X_train, X_valid, y_train, y_valid = train_test_split(X, y, test_size=0.2, random_state=RANDOM_STATE, stratify=y)\n",
    "\n",
    "# 레이블 인코딩\n",
    "label_encoder = LabelEncoder()\n",
    "y_train_encoded = label_encoder.fit_transform(y_train)\n",
    "y_valid_encoded = label_encoder.transform(y_valid)\n",
    "\n",
    "# TF-IDF 벡터화\n",
    "tfidf_vectorizer = TfidfVectorizer()\n",
    "X_train_tfidf = tfidf_vectorizer.fit_transform(X_train)\n",
    "X_valid_tfidf = tfidf_vectorizer.transform(X_valid)\n",
    "\n",
    "# Count Vectorization\n",
    "count_vectorizer = CountVectorizer()\n",
    "X_train_count = count_vectorizer.fit_transform(X_train)\n",
    "X_valid_count = count_vectorizer.transform(X_valid)\n",
    "\n",
    "# Word2Vec 벡터화 (CBOW)\n",
    "w2v_model_cbow = Word2Vec(sentences=[text.split() for text in X_train], vector_size=300, window=10, min_count=2, workers=4, sg=0)\n",
    "X_train_w2v_cbow = np.array([np.mean([w2v_model_cbow.wv[word] for word in text.split() if word in w2v_model_cbow.wv] or [np.zeros(300)], axis=0) for text in X_train])\n",
    "X_valid_w2v_cbow = np.array([np.mean([w2v_model_cbow.wv[word] for word in text.split() if word in w2v_model_cbow.wv] or [np.zeros(300)], axis=0) for text in X_valid])\n",
    "\n",
    "# Word2Vec 벡터화 (Skip-gram)\n",
    "w2v_model_sg = Word2Vec(sentences=[text.split() for text in X_train], vector_size=300, window=10, min_count=2, workers=4, sg=1)\n",
    "X_train_w2v_sg = np.array([np.mean([w2v_model_sg.wv[word] for word in text.split() if word in w2v_model_sg.wv] or [np.zeros(300)], axis=0) for text in X_train])\n",
    "X_valid_w2v_sg = np.array([np.mean([w2v_model_sg.wv[word] for word in text.split() if word in w2v_model_sg.wv] or [np.zeros(300)], axis=0) for text in X_valid])\n",
    "\n",
    "# 모델 정의\n",
    "model_count = LogisticRegression(random_state=RANDOM_STATE)\n",
    "model_w2v_cbow = RandomForestClassifier(n_estimators=100, random_state=RANDOM_STATE)\n",
    "model_w2v_sg = RandomForestClassifier(n_estimators=100, random_state=RANDOM_STATE)\n",
    "\n",
    "# 모델 학습\n",
    "model_count.fit(X_train_count, y_train_encoded)\n",
    "model_w2v_cbow.fit(X_train_w2v_cbow, y_train_encoded)\n",
    "model_w2v_sg.fit(X_train_w2v_sg, y_train_encoded)\n",
    "\n",
    "# 하드보팅\n",
    "def hard_voting(models, X_valid_list, y_valid, method_name):\n",
    "    predictions = np.array([model.predict(X_valid) for model, X_valid in zip(models, X_valid_list)]).T\n",
    "    final_predictions = []\n",
    "    for preds in predictions:\n",
    "        vote_counts = Counter(preds)\n",
    "        if len(vote_counts) == len(models):  # 다수표가 없는 경우\n",
    "            final_predictions.append(preds[0])  # Logistic Regression 모델의 값을 취함\n",
    "        else:\n",
    "            final_predictions.append(vote_counts.most_common(1)[0][0])\n",
    "    accuracy = accuracy_score(y_valid, final_predictions)\n",
    "    macro_f1 = f1_score(y_valid, final_predictions, average='macro')\n",
    "    print(f\"{method_name} - Accuracy: {accuracy}, Macro F1-score: {macro_f1}\")\n",
    "\n",
    "# 소프트보팅\n",
    "def soft_voting(models, X_valid_list, y_valid, method_name):\n",
    "    predictions = np.array([model.predict_proba(X_valid) for model, X_valid in zip(models, X_valid_list)])\n",
    "    avg_predictions = np.mean(predictions, axis=0)\n",
    "    final_predictions = np.argmax(avg_predictions, axis=1)\n",
    "    accuracy = accuracy_score(y_valid, final_predictions)\n",
    "    macro_f1 = f1_score(y_valid, final_predictions, average='macro')\n",
    "    print(f\"{method_name} - Accuracy: {accuracy}, Macro F1-score: {macro_f1}\")\n",
    "\n",
    "# 모델 리스트\n",
    "models = [model_count, model_w2v_cbow]\n",
    "X_valid_list = [X_valid_count, X_valid_w2v_cbow, X_valid_w2v_sg]\n",
    "\n",
    "# 하드보팅\n",
    "hard_voting(models, X_valid_list, y_valid_encoded, \"Hard Voting\")\n",
    "\n",
    "# 소프트보팅\n",
    "soft_voting(models, X_valid_list, y_valid_encoded, \"Soft Voting\")"
   ]
  },
  {
   "cell_type": "markdown",
   "metadata": {},
   "source": [
    "."
   ]
  }
 ],
 "metadata": {
  "kernelspec": {
   "display_name": "Python 3",
   "language": "python",
   "name": "python3"
  },
  "language_info": {
   "codemirror_mode": {
    "name": "ipython",
    "version": 3
   },
   "file_extension": ".py",
   "mimetype": "text/x-python",
   "name": "python",
   "nbconvert_exporter": "python",
   "pygments_lexer": "ipython3",
   "version": "3.7.8"
  },
  "toc": {
   "base_numbering": 1,
   "nav_menu": {},
   "number_sections": true,
   "sideBar": true,
   "skip_h1_title": false,
   "title_cell": "Table of Contents",
   "title_sidebar": "Contents",
   "toc_cell": false,
   "toc_position": {
    "height": "calc(100% - 180px)",
    "left": "10px",
    "top": "150px",
    "width": "320px"
   },
   "toc_section_display": true,
   "toc_window_display": false
  },
  "varInspector": {
   "cols": {
    "lenName": 16,
    "lenType": 16,
    "lenVar": 40
   },
   "kernels_config": {
    "python": {
     "delete_cmd_postfix": "",
     "delete_cmd_prefix": "del ",
     "library": "var_list.py",
     "varRefreshCmd": "print(var_dic_list())"
    },
    "r": {
     "delete_cmd_postfix": ") ",
     "delete_cmd_prefix": "rm(",
     "library": "var_list.r",
     "varRefreshCmd": "cat(var_dic_list()) "
    }
   },
   "types_to_exclude": [
    "module",
    "function",
    "builtin_function_or_method",
    "instance",
    "_Feature"
   ],
   "window_display": false
  }
 },
 "nbformat": 4,
 "nbformat_minor": 4
}
