{
 "cells": [
  {
   "cell_type": "markdown",
   "metadata": {},
   "source": [
    "# Import"
   ]
  },
  {
   "cell_type": "code",
   "execution_count": 76,
   "metadata": {},
   "outputs": [],
   "source": [
    "import pandas as pd"
   ]
  },
  {
   "cell_type": "code",
   "execution_count": 77,
   "metadata": {},
   "outputs": [],
   "source": [
    "import matplotlib.pyplot as plt\n",
    "\n",
    "# 한글 폰트 지정\n",
    "plt.rcParams['font.family'] ='Malgun Gothic'\n",
    "plt.rcParams['axes.unicode_minus'] =False\n",
    "\n",
    "font_path = \"C:/Windows/Fonts/malgun.ttf\""
   ]
  },
  {
   "cell_type": "markdown",
   "metadata": {},
   "source": [
    "# Load Data"
   ]
  },
  {
   "cell_type": "code",
   "execution_count": 150,
   "metadata": {},
   "outputs": [],
   "source": [
    "train_df = pd.read_csv(\"C:/Users/KimDongyoung/Desktop/GBT해커톤/GBT_hackerton/data/train.csv\")\n",
    "test_df = pd.read_csv(\"C:/Users/KimDongyoung/Desktop/GBT해커톤/GBT_hackerton/data/test.csv\")  \n",
    "submission = pd.read_csv(\"C:/Users/KimDongyoung/Desktop/GBT해커톤/GBT_hackerton/data/sample_submission.csv\")  "
   ]
  },
  {
   "cell_type": "code",
   "execution_count": 151,
   "metadata": {},
   "outputs": [
    {
     "name": "stdout",
     "output_type": "stream",
     "text": [
      "<class 'pandas.core.frame.DataFrame'>\n",
      "RangeIndex: 54609 entries, 0 to 54608\n",
      "Data columns (total 4 columns):\n",
      " #   Column  Non-Null Count  Dtype \n",
      "---  ------  --------------  ----- \n",
      " 0   ID      54609 non-null  object\n",
      " 1   분류      54609 non-null  object\n",
      " 2   제목      54609 non-null  object\n",
      " 3   키워드     54609 non-null  object\n",
      "dtypes: object(4)\n",
      "memory usage: 1.7+ MB\n"
     ]
    }
   ],
   "source": [
    "train_df.info()"
   ]
  },
  {
   "cell_type": "code",
   "execution_count": 152,
   "metadata": {},
   "outputs": [
    {
     "name": "stdout",
     "output_type": "stream",
     "text": [
      "<class 'pandas.core.frame.DataFrame'>\n",
      "RangeIndex: 23405 entries, 0 to 23404\n",
      "Data columns (total 3 columns):\n",
      " #   Column  Non-Null Count  Dtype \n",
      "---  ------  --------------  ----- \n",
      " 0   ID      23405 non-null  object\n",
      " 1   제목      23405 non-null  object\n",
      " 2   키워드     23405 non-null  object\n",
      "dtypes: object(3)\n",
      "memory usage: 548.7+ KB\n"
     ]
    }
   ],
   "source": [
    "test_df.info()"
   ]
  },
  {
   "cell_type": "code",
   "execution_count": 153,
   "metadata": {},
   "outputs": [
    {
     "name": "stdout",
     "output_type": "stream",
     "text": [
      "<class 'pandas.core.frame.DataFrame'>\n",
      "RangeIndex: 23405 entries, 0 to 23404\n",
      "Data columns (total 2 columns):\n",
      " #   Column  Non-Null Count  Dtype \n",
      "---  ------  --------------  ----- \n",
      " 0   ID      23405 non-null  object\n",
      " 1   분류      23405 non-null  object\n",
      "dtypes: object(2)\n",
      "memory usage: 365.8+ KB\n"
     ]
    }
   ],
   "source": [
    "submission.info()"
   ]
  },
  {
   "cell_type": "code",
   "execution_count": 154,
   "metadata": {},
   "outputs": [
    {
     "data": {
      "text/plain": [
       "56"
      ]
     },
     "execution_count": 154,
     "metadata": {},
     "output_type": "execute_result"
    }
   ],
   "source": [
    "len(train_df['분류'].value_counts())"
   ]
  },
  {
   "cell_type": "markdown",
   "metadata": {},
   "source": [
    "타겟변수 -> '분류'이고 종류 56가지"
   ]
  },
  {
   "cell_type": "code",
   "execution_count": 155,
   "metadata": {},
   "outputs": [
    {
     "data": {
      "text/html": [
       "<div>\n",
       "<style scoped>\n",
       "    .dataframe tbody tr th:only-of-type {\n",
       "        vertical-align: middle;\n",
       "    }\n",
       "\n",
       "    .dataframe tbody tr th {\n",
       "        vertical-align: top;\n",
       "    }\n",
       "\n",
       "    .dataframe thead th {\n",
       "        text-align: right;\n",
       "    }\n",
       "</style>\n",
       "<table border=\"1\" class=\"dataframe\">\n",
       "  <thead>\n",
       "    <tr style=\"text-align: right;\">\n",
       "      <th></th>\n",
       "      <th>ID</th>\n",
       "      <th>제목</th>\n",
       "      <th>키워드</th>\n",
       "    </tr>\n",
       "  </thead>\n",
       "  <tbody>\n",
       "    <tr>\n",
       "      <th>0</th>\n",
       "      <td>TEST_00000</td>\n",
       "      <td>[부고] 김태수씨 별세 외</td>\n",
       "      <td>김태수,별세,김태수씨,서울,광남초등학,교장,별세,김윤정,이노코리아,대표,희정,한성대...</td>\n",
       "    </tr>\n",
       "    <tr>\n",
       "      <th>1</th>\n",
       "      <td>TEST_00001</td>\n",
       "      <td>신규 확진 나흘째 세자릿수... 방역당국, 핼러윈 풍선효과 차단 총력</td>\n",
       "      <td>신규,확진,나흘,세자릿수,방역당국,핼러윈,풍선,효과,차단,총력,감염증,신종,코로나바...</td>\n",
       "    </tr>\n",
       "    <tr>\n",
       "      <th>2</th>\n",
       "      <td>TEST_00002</td>\n",
       "      <td>[서경이 만난 사람] 전해철 장관 \"재정분권 강화 '지방자치 2.0 시대' 마중물 ...</td>\n",
       "      <td>전해철,장관,재정,분권,강화,지방자치,2.0,시대,마중물,마련,장관,전해철,행정안전...</td>\n",
       "    </tr>\n",
       "    <tr>\n",
       "      <th>3</th>\n",
       "      <td>TEST_00003</td>\n",
       "      <td>용인시, 12일 '장애인 구인 구직 만남의 날' 채용 행사</td>\n",
       "      <td>용인시,구인,장애인,구직,만남,채용,행사,노호근,용인특례시,장애인,취업,지원,대회의...</td>\n",
       "    </tr>\n",
       "    <tr>\n",
       "      <th>4</th>\n",
       "      <td>TEST_00004</td>\n",
       "      <td>지자체 벽 터 경기지역 산단 활성화 모색</td>\n",
       "      <td>지자체,경기,북동부,지역,산업단지,혁신단위,설정,전략,지역,연계,특성,제시,경기도경...</td>\n",
       "    </tr>\n",
       "  </tbody>\n",
       "</table>\n",
       "</div>"
      ],
      "text/plain": [
       "           ID                                                 제목  \\\n",
       "0  TEST_00000                                     [부고] 김태수씨 별세 외   \n",
       "1  TEST_00001             신규 확진 나흘째 세자릿수... 방역당국, 핼러윈 풍선효과 차단 총력   \n",
       "2  TEST_00002  [서경이 만난 사람] 전해철 장관 \"재정분권 강화 '지방자치 2.0 시대' 마중물 ...   \n",
       "3  TEST_00003                   용인시, 12일 '장애인 구인 구직 만남의 날' 채용 행사   \n",
       "4  TEST_00004                             지자체 벽 터 경기지역 산단 활성화 모색   \n",
       "\n",
       "                                                 키워드  \n",
       "0  김태수,별세,김태수씨,서울,광남초등학,교장,별세,김윤정,이노코리아,대표,희정,한성대...  \n",
       "1  신규,확진,나흘,세자릿수,방역당국,핼러윈,풍선,효과,차단,총력,감염증,신종,코로나바...  \n",
       "2  전해철,장관,재정,분권,강화,지방자치,2.0,시대,마중물,마련,장관,전해철,행정안전...  \n",
       "3  용인시,구인,장애인,구직,만남,채용,행사,노호근,용인특례시,장애인,취업,지원,대회의...  \n",
       "4  지자체,경기,북동부,지역,산업단지,혁신단위,설정,전략,지역,연계,특성,제시,경기도경...  "
      ]
     },
     "execution_count": 155,
     "metadata": {},
     "output_type": "execute_result"
    }
   ],
   "source": [
    "test_df.head()"
   ]
  },
  {
   "cell_type": "markdown",
   "metadata": {},
   "source": [
    "영어 번역 내용 제거"
   ]
  },
  {
   "cell_type": "code",
   "execution_count": 157,
   "metadata": {},
   "outputs": [
    {
     "name": "stdout",
     "output_type": "stream",
     "text": [
      "<class 'pandas.core.frame.DataFrame'>\n",
      "Index: 2249 entries, 38 to 54576\n",
      "Data columns (total 4 columns):\n",
      " #   Column  Non-Null Count  Dtype \n",
      "---  ------  --------------  ----- \n",
      " 0   ID      2249 non-null   object\n",
      " 1   분류      2249 non-null   object\n",
      " 2   제목      2249 non-null   object\n",
      " 3   키워드     2249 non-null   object\n",
      "dtypes: object(4)\n",
      "memory usage: 87.9+ KB\n",
      "                ID       분류                                       제목  \\\n",
      "38     TRAIN_00038  정치:정치일반        이상일 용인특례시장, 민주평통 경기지역 의장표창 수여식 참석   \n",
      "75     TRAIN_00075       지역             용인특례시, 식품산업 박람회 열어 우수 농산물 홍보   \n",
      "86     TRAIN_00086       지역               용인특례시, 경기도 특별조정교부금 70억원 확보   \n",
      "109    TRAIN_00109       지역       용인특례시, 모현 공동주택 현장 ‘찾아가는 행복소통시장실’가동   \n",
      "137    TRAIN_00137    경제:유통          용인특례시, ‘백옥쌀’ 활용한 제빵용 ‘백옥쌀가루’ 출시   \n",
      "...            ...      ...                                      ...   \n",
      "54473  TRAIN_54473       지역      용인특례시, 서울3호선 연장...수원,성남,화성시 경기도와 맞손   \n",
      "54481  TRAIN_54481       지역                        용인시, 생활폐기물 감량화 동참   \n",
      "54513  TRAIN_54513       지역                         용인시 죽전교, 벽화로 새단장   \n",
      "54550  TRAIN_54550       지역                 용인시농업기술센터, 농기계 현장실무교육 진행   \n",
      "54576  TRAIN_54576       지역  백군기 용인시장, “수도권 사회적 거리두기 4단계 대응 총력 다할 것”   \n",
      "\n",
      "                                                     키워드  \n",
      "38     이상일,용인,특례,시장,참석,민주평통,경기,지역,의장,표창,수여식,시장,민주평통,평...  \n",
      "75     용인특례시,식품,산업,박람회,홍보,우수,농산물,이상일,용인,특례,시장,미르스타디움,...  \n",
      "86     용인특례시,70억,경기도,특별,조정,교부금,확보,용인특례시,시장,이상일,경기,특별조...  \n",
      "109    용인특례시,현장,모현,공동,주택,행복소통시장실,가동,이상일,용인,특례,시장,몬테로,...  \n",
      "137    용인특례시,백옥쌀,활용,제빵,백옥,쌀가루,출시,사진,용인특례시,백옥쌀가루,이귀선기자...  \n",
      "...                                                  ...  \n",
      "54473  용인특례시,서울3호,연장,수원,성남,화성시,경기도,맞손,사진자료,용인시,이귀선,경기...  \n",
      "54481  용인시,동참,생활폐기물,감량,용인시,시민,쓰레기감량,프로젝트,김정은기자,용인시,시민...  \n",
      "54513  용인시,죽전교,벽화,단장,죽전2동,용인시,수지구,죽전,죽전교,죽전동,9번지,일원,하...  \n",
      "54550  용인시농업기술센터,진행,농기계,현장,실무,교육,용인시농업기술센터,농업,50명,대상,...  \n",
      "54576  백군기,용인시장,거리,수도,사회,총력,대응,백군기,용인,시장,행정안전부,장관,행정1...  \n",
      "\n",
      "[2249 rows x 4 columns]\n"
     ]
    }
   ],
   "source": [
    "# '키워드' 열에서 '기사'와 '구글' 두 단어를 모두 포함하는 행을 찾는 조건\n",
    "condition = train_df['키워드'].apply(lambda x: all(word in x for word in ['기사', '구글']))\n",
    "\n",
    "# 조건을 만족하는 행들로 새로운 데이터프레임 생성\n",
    "filtered_df = train_df[condition].copy()\n",
    "\n",
    "# '기사, 구글' 순서로 단어가 나오는 부분을 찾아 삭제하는 함수 정의\n",
    "def remove_keywords(text):\n",
    "    keywords = ['기사', '구글']\n",
    "    start_index = 0\n",
    "    for keyword in keywords:\n",
    "        start_index = text.find(keyword, start_index)\n",
    "        if start_index == -1:\n",
    "            return text\n",
    "        start_index += len(keyword)\n",
    "    return text[:text.find('기사')].strip()\n",
    "\n",
    "# 각 행의 '키워드' 값에서 '기사' 단어부터 마지막 단어까지 삭제\n",
    "filtered_df['키워드'] = filtered_df['키워드'].apply(remove_keywords)\n",
    "\n",
    "# 결과 확인\n",
    "filtered_df.info()\n",
    "print(filtered_df)"
   ]
  },
  {
   "cell_type": "code",
   "execution_count": 159,
   "metadata": {},
   "outputs": [
    {
     "data": {
      "text/plain": [
       "'용인시,지반조사보고서,대상,기준,마련,용인시,기흥구,의무적,건축물,착공,의무,제출,지반조사보고서,제출,대상,기준,마련,지반조사보고서,건축물,설계,토지,형질,지반,내력,지반,조사,보고서,관련법,건축물,착공,제출,허가권자,인정,제출,예외,규정,해석,현장,혼란,가중,완화,지반,조사,보고서,제출,대상,지침,주변,건축물,지반,조사,결과,적용,별도,지반조사,건축물,구조기준,규칙,건축물,지반,최저,등급,가정,지반,규정,가지,예외,기준,마련,기준,대지,인접,대지,지반,조사,보고서,결과,지반,S4,S5,가정,구조안전확인서,제출,증축,수직,대수선,필로티,증축,구조기술사,건축사,별도,지반조사,인정,내년,건축물,적용,계획,관계자,지반,조사,보고서,제출,대상,기준,마련,일관성,건축,행정,추진,시민,만족,민원,처리,노력,'"
      ]
     },
     "execution_count": 159,
     "metadata": {},
     "output_type": "execute_result"
    }
   ],
   "source": [
    "filtered_df.iloc[157]['키워드']"
   ]
  },
  {
   "cell_type": "code",
   "execution_count": 160,
   "metadata": {},
   "outputs": [
    {
     "data": {
      "text/plain": [
       "47"
      ]
     },
     "execution_count": 160,
     "metadata": {},
     "output_type": "execute_result"
    }
   ],
   "source": [
    "len(filtered_df['분류'].value_counts())"
   ]
  },
  {
   "cell_type": "code",
   "execution_count": 161,
   "metadata": {},
   "outputs": [
    {
     "data": {
      "text/plain": [
       "분류\n",
       "지역               1594\n",
       "IT_과학:인터넷_SNS      59\n",
       "사회:장애인             38\n",
       "사회:사회일반            36\n",
       "사회:교육_시험           35\n",
       "경제:취업_창업           34\n",
       "경제:반도체             34\n",
       "문화:전시_공연           30\n",
       "경제:부동산             24\n",
       "스포츠:올림픽_아시안게임      22\n",
       "정치:행정_자치           22\n",
       "경제:경제일반            21\n",
       "IT_과학:콘텐츠          20\n",
       "사회:의료_건강           20\n",
       "사회:여성              18\n",
       "경제:자동차             18\n",
       "정치:국회_정당           18\n",
       "경제:무역              17\n",
       "사회:환경              16\n",
       "정치:정치일반            15\n",
       "문화:문화일반            14\n",
       "경제:유통              13\n",
       "IT_과학:모바일          12\n",
       "경제:금융_재테크          11\n",
       "문화:출판              11\n",
       "문화:학술_문화재          10\n",
       "경제:서비스_쇼핑          10\n",
       "문화:방송_연예            9\n",
       "문화:미술_건축            9\n",
       "스포츠:축구              9\n",
       "정치:선거               7\n",
       "문화:음악               5\n",
       "사회:노동_복지            5\n",
       "정치:청와대              4\n",
       "IT_과학:보안            4\n",
       "IT_과학:IT_과학일반       4\n",
       "스포츠:월드컵             3\n",
       "사회:사건_사고            3\n",
       "국제                  3\n",
       "경제:자원               3\n",
       "문화:종교               2\n",
       "정치:북한               2\n",
       "IT_과학:과학            1\n",
       "사회:미디어              1\n",
       "문화:요리_여행            1\n",
       "경제:산업_기업            1\n",
       "문화:영화               1\n",
       "Name: count, dtype: int64"
      ]
     },
     "execution_count": 161,
     "metadata": {},
     "output_type": "execute_result"
    }
   ],
   "source": [
    "filtered_df['분류'].value_counts()"
   ]
  },
  {
   "cell_type": "code",
   "execution_count": 88,
   "metadata": {},
   "outputs": [
    {
     "data": {
      "text/plain": [
       "'이상일,용인,특례,시장,참석,민주평통,경기,지역,의장,표창,수여식,시장,민주평통,평화,수호,선도,활동,감사,강조,이상일,용인,특례,시장,에이스홀,시청,민주평화통일자문회,수여식,경기,지역,의장,표창,참석,관계자들,격려,자리,시장,홍승표,민주평통,경기,지역,회의,부의장,용인시협의회장,추상구,민주평통,용인시,협의회장,자문위원,민주평통,경기,지역,자문,위원,400여명,참석,시장,민주평화통일자문회,경기지역회의,안보태세,수호,한반도,평화,선도,활동,감사,시장,북한,도발,주시,차례,특강,정세,한반도,안보,강화,강조,내년,민주평통,활동,응원,차원,지원,수여식,이날,표창,임명숙,자문위원,장석순,용인시협의회,자문,위원,자치분권,정지혜,용인시,자치,분권,민간협력팀장,62명,유공자,의장,표창,용인시협의회,평화통일포럼,통일공감사업,진행,홍보,평화,통일,정책,노력,유공,기관,표창,대표,이소연,뉴코리아여성연합,통일,페이스,주제,특강,진행,'"
      ]
     },
     "execution_count": 88,
     "metadata": {},
     "output_type": "execute_result"
    }
   ],
   "source": [
    "filtered_df.iloc[0]['키워드']"
   ]
  },
  {
   "cell_type": "markdown",
   "metadata": {},
   "source": [
    "실제 제거하여 데이터셋에 반영"
   ]
  },
  {
   "cell_type": "code",
   "execution_count": 162,
   "metadata": {},
   "outputs": [],
   "source": [
    "# '키워드' 열에서 '기사'와 '구글' 두 단어를 모두 포함하는 행을 찾는 조건\n",
    "condition_train = train_df['키워드'].apply(lambda x: all(word in x for word in ['기사', '구글']))\n",
    "condition_test = test_df['키워드'].apply(lambda x: all(word in x for word in ['기사', '구글']))\n",
    "\n",
    "# 조건을 만족하는 행들로 새로운 데이터프레임 생성\n",
    "filtered_train_df = train_df[condition_train].copy()\n",
    "filtered_test_df = test_df[condition_test].copy()\n",
    "\n",
    "# '기사, 구글' 순서로 단어가 나오는 부분을 찾아 삭제하는 함수 정의\n",
    "def remove_keywords(text):\n",
    "    keywords = ['기사', '구글']\n",
    "    start_index = 0\n",
    "    for keyword in keywords:\n",
    "        start_index = text.find(keyword, start_index)\n",
    "        if start_index == -1:\n",
    "            return text\n",
    "        start_index += len(keyword)\n",
    "    return text[:text.find('기사')].strip()\n",
    "\n",
    "# 각 행의 '키워드' 값에서 '기사' 단어부터 마지막 단어까지 삭제\n",
    "filtered_train_df['키워드'] = filtered_train_df['키워드'].apply(remove_keywords)\n",
    "filtered_test_df['키워드'] = filtered_test_df['키워드'].apply(remove_keywords)\n",
    "\n",
    "# 수정된 '키워드' 값을 원래 데이터프레임에 반영\n",
    "train_df.loc[condition_train, '키워드'] = filtered_train_df['키워드']\n",
    "test_df.loc[condition_test, '키워드'] = filtered_test_df['키워드']"
   ]
  },
  {
   "cell_type": "code",
   "execution_count": 90,
   "metadata": {},
   "outputs": [],
   "source": [
    "# # 수정된 '키워드' 값을 원래 데이터프레임에 반영\n",
    "# train_df.loc[condition_train, '키워드'] = filtered_train_df['키워드']\n",
    "# test_df.loc[condition_test, '키워드'] = filtered_test_df['키워드']\n",
    "\n",
    "# # 수정된 데이터프레임을 CSV 파일로 저장\n",
    "# train_df.to_csv('train_df_translate_del.csv', index=False, encoding='utf-8-sig')\n",
    "# test_df.to_csv('test_df_translate_del.csv', index=False, encoding='utf-8-sig')"
   ]
  },
  {
   "cell_type": "markdown",
   "metadata": {},
   "source": [
    "## 전처리"
   ]
  },
  {
   "cell_type": "code",
   "execution_count": 163,
   "metadata": {},
   "outputs": [
    {
     "name": "stdout",
     "output_type": "stream",
     "text": [
      "\n",
      "수정된 데이터프레임:\n",
      "                ID        분류                                     제목  \\\n",
      "0      TRAIN_00000  문화:전시_공연  용인문화재단, 인문학 콘서트 ‘당신이 모르는 뮤지컬 이야기Ⅳ’ 개최   \n",
      "1      TRAIN_00001        지역           용인 농촌테마파크, 7~8월 단체체험객 체험료 지원   \n",
      "2      TRAIN_00002        지역        용인시, 노후주택 에너지 성능 개선 신청 18일까지 연장   \n",
      "3      TRAIN_00003        지역        수원 용인 고양시,‘특례시’로 지정 도시경쟁력 증가 기대   \n",
      "4      TRAIN_00004        국제      용인시, 스페인 미국 국제명예자문관 위촉 대외홍보 지원 역할   \n",
      "...            ...       ...                                    ...   \n",
      "54604  TRAIN_54604        국제  용인 아파트서 30대 여성, 아들 딸 함께 추락 \"극단 선택 추정\"   \n",
      "54605  TRAIN_54605  사회:교육_시험                    용인시, '위탁부모 보수교육' 실시   \n",
      "54606  TRAIN_54606        지역          용인시, '플랫폼 시티' 국토부에 사업인정 협의 신청   \n",
      "54607  TRAIN_54607        지역      용인시 이동읍 주민자치위원회, 저소득 20가구에 밑반찬 지원   \n",
      "54608  TRAIN_54608        지역                 용인시-용인시공무원노조, 국무총리상 수상   \n",
      "\n",
      "                                                     키워드  \n",
      "0      용인문화재단, 인문학, 콘서트, 뮤지컬, 이야기, 개최, 인문학, 콘서트, 뮤지컬,...  \n",
      "1      용인, 농촌, 테마파크, 단체, 체험객, 체험료, 지원, 체험일, 기준, 용인시통합...  \n",
      "2      용인시, 노후, 주택, 에너지, 성능, 개선, 신청, 연장, 용인시청, 용인시, 노...  \n",
      "3      수원, 용인, 고양시, 특례시, 지정, 도시경쟁력, 증가, 경기, 도내, 인구, 수...  \n",
      "4      용인시, 스페인, 미국, 국제, 명예, 자문관, 위촉, 역할, 대외, 홍보, 지원,...  \n",
      "...                                                  ...  \n",
      "54604  용인, 아파트, 여성, 아들, 추락, 극단, 선택, 추정, 경찰, 현장, 유서, 경...  \n",
      "54605  용인시, 위탁, 부모, 보수, 교육, 용인시, 경기, 남부, 가정, 위탁, 지원, ...  \n",
      "54606  용인시, 플랫폼, 시티, 국토부, 신청, 사업, 인정, 협의, 경기, 용인시, 중앙...  \n",
      "54607  주민자치위원회, 용인시, 이동읍, 주민, 자치, 위원회, 가구, 밑반찬, 지원, 용...  \n",
      "54608  용인시, 용인시공무원노조, 국무총리, 수상, 용인, 홍화표, 경기, 용인시, 용인시...  \n",
      "\n",
      "[54609 rows x 4 columns]\n",
      "\n",
      "제거된 단어들:\n",
      "['18일', '15일', '7월', '8월', '50%', '22일', '20명', '10명', '70명', '36종류']\n"
     ]
    }
   ],
   "source": [
    "import re\n",
    "from collections import Counter\n",
    "\n",
    "# 불용어 제거\n",
    "removed_keywords = []\n",
    "\n",
    "def remove_invalid_keywords(keywords):\n",
    "    pattern = re.compile(\n",
    "        r'[A-Za-z]+[가-힣\\u4E00-\\u9FFF]+|'  # 영어+한글\n",
    "        r'[0-9]+[가-힣\\u4E00-\\u9FFF]+|'     # 숫자+한글\n",
    "        r'[0-9]+[A-Za-z]+|'                 # 숫자+영어\n",
    "        r'[가-힣]+[A-Za-z\\u4E00-\\u9FFF]+|'  # 한글+영어\n",
    "        r'[가-힣]+[0-9]+|'                  # 한글+숫자\n",
    "        r'[A-Za-z]+[0-9]+|'                 # 영어+숫자\n",
    "        r'[\\u4E00-\\u9FFF]+|'                # 한자\n",
    "        r'[0-9]+(\\.[0-9]+)?%|'              # 숫자+퍼센트\n",
    "        r'[0-9]+|'                          # 숫자\n",
    "        r'[A-Za-z]+'                        # 영어\n",
    "    )\n",
    "    valid_keywords = []\n",
    "    for word in keywords.split(','):\n",
    "        word = word.strip()\n",
    "        if not word or pattern.match(word):  # 공백이거나 패턴에 맞는 단어 제거\n",
    "            removed_keywords.append(word)\n",
    "        else:\n",
    "            valid_keywords.append(word)\n",
    "    return ', '.join(valid_keywords)\n",
    "\n",
    "# 원본 데이터에서 해당 키워드들을 제거\n",
    "train_df['키워드'] = train_df['키워드'].apply(remove_invalid_keywords)\n",
    "test_df['키워드'] = test_df['키워드'].apply(remove_invalid_keywords)\n",
    "\n",
    "# 결과 출력\n",
    "print(\"\\n수정된 데이터프레임:\")\n",
    "print(train_df)\n",
    "\n",
    "# 제거된 단어들 출력\n",
    "print(\"\\n제거된 단어들:\")\n",
    "print(removed_keywords[:10])"
   ]
  },
  {
   "cell_type": "code",
   "execution_count": 164,
   "metadata": {},
   "outputs": [
    {
     "name": "stdout",
     "output_type": "stream",
     "text": [
      "\n",
      "제거된 단어들 상위 50개:\n",
      "코로나19: 20588\n",
      "A씨: 13186\n",
      ": 7207\n",
      "1만: 6451\n",
      "SK하이닉스: 5605\n",
      "AI: 5186\n",
      "1년: 4812\n",
      "SK: 4704\n",
      "GTX: 4231\n",
      "LH: 4175\n",
      "3년: 4033\n",
      "2년: 3948\n",
      "B씨: 3770\n",
      "6월: 3513\n",
      "1명: 3455\n",
      "12월: 3436\n",
      "7월: 3407\n",
      "3일: 3389\n",
      "3월: 3347\n",
      "1억: 3274\n",
      "1천: 3178\n",
      "2만: 3122\n",
      "9월: 3099\n",
      "4월: 3056\n",
      "2명: 3024\n",
      "3만: 2953\n",
      "10월: 2874\n",
      "5월: 2849\n",
      "8월: 2814\n",
      "1: 2791\n",
      "3명: 2749\n",
      "5년: 2740\n",
      "7일: 2740\n",
      "22일: 2734\n",
      "23일: 2725\n",
      "27일: 2708\n",
      "8일: 2693\n",
      "14일: 2684\n",
      "11월: 2684\n",
      "30일: 2668\n",
      "28일: 2663\n",
      "13일: 2641\n",
      "IC: 2620\n",
      "15일: 2606\n",
      "20일: 2600\n",
      "1일: 2590\n",
      "26일: 2579\n",
      "18일: 2577\n",
      "3개: 2561\n",
      "4일: 2510\n"
     ]
    }
   ],
   "source": [
    "# 제거된 단어들의 빈도 계산 및 상위 50개 출력\n",
    "keyword_counter = Counter(removed_keywords)\n",
    "top_50_keywords = keyword_counter.most_common(50)\n",
    "\n",
    "print(\"\\n제거된 단어들 상위 50개:\")\n",
    "for keyword, count in top_50_keywords:\n",
    "    print(f\"{keyword}: {count}\")"
   ]
  },
  {
   "cell_type": "code",
   "execution_count": 171,
   "metadata": {},
   "outputs": [
    {
     "data": {
      "text/plain": [
       "'용인특례시, 속초시와 자매 결연 주민복지 긴밀 협력'"
      ]
     },
     "execution_count": 171,
     "metadata": {},
     "output_type": "execute_result"
    }
   ],
   "source": [
    "# 정확히 일치하는 행 필터링\n",
    "filtered_df = train_df[train_df['키워드'].str.contains(r'번역', na=False)]\n",
    "\n",
    "# 결과 출력\n",
    "filtered_df.iloc[3]['제목']"
   ]
  },
  {
   "cell_type": "code",
   "execution_count": 172,
   "metadata": {},
   "outputs": [
    {
     "data": {
      "text/plain": [
       "'용인특례시, 속초시, 자매, 결연, 주민복지, 협력, 함평군, 전남, 경기도, 용인, 특례, 강원도, 속초시, 결연, 자매, 협약, 도시, 주민, 복지, 향상, 협력관계, 유지, 우수시책, 주민, 자치, 우수, 사례, 공유, 협력, 적극, 용인시민, 속초, 해수욕장, 공영, 주차장, 무료, 이용, 속초시립박물관, 입장료, 속초시민, 용인자연휴양림, 농촌, 테마파크, 입장료, 면제, 도시, 대표, 축제, 행사, 성공, 개최, 적극, 홍보, 예술인, 활동, 무대, 용인특례시립청소년오케스트라, 속초시립합창단, 문화예술단체, 교류, 문화, 예술, 단체, 활성화, 지역, 경제, 활성, 용인시, 토요일, 기흥역, 직거래장터, 속초시, 특산품, 판매, 속초시, 수출기업, 서포터즈, 용인, 시민, 통번역, 서포, 터즈, 지원, 이상일, 용인, 특례, 시장, 용인특례시, 속초시, 공동, 발전, 자매결연, 생각, 도시, 교류, 활성화, 시민들, 교류, 촉진, 상호, 발전, 협력, 도시, 농수산물, 직거래, 활성화, 관광, 교류, 활성, 시책, 교환, 활동, 도시, 발전, 도시, 시민, 행복, 증진, 이병선, 속초, 시장, 전국, 주목, 용인특례시, 자매도시, 결연, 생각, 대한민국, 경제, 중심축, 미래, 먹거리, 대표, 도시, 용인특례시, 우애, 협력, 도시, 최선, 용인시, 자매결연, 함평군, 전남, 충북, 단양군, 전남, 광양시, 전국, 우수, 도시, 결연, 발전, 지역, 균형, 노력, 방침'"
      ]
     },
     "execution_count": 172,
     "metadata": {},
     "output_type": "execute_result"
    }
   ],
   "source": [
    "# 정확히 일치하는 행 필터링\n",
    "filtered_df = train_df[train_df['키워드'].str.contains(r'번역', na=False)]\n",
    "\n",
    "# 결과 출력\n",
    "filtered_df.iloc[3]['키워드']"
   ]
  },
  {
   "cell_type": "code",
   "execution_count": 173,
   "metadata": {},
   "outputs": [
    {
     "name": "stdout",
     "output_type": "stream",
     "text": [
      "\n",
      "제거된 단어들 상위 10개:\n",
      "코로나19: 20588\n",
      "A씨: 13186\n",
      ": 7207\n",
      "1만: 6451\n",
      "SK하이닉스: 5605\n",
      "AI: 5186\n",
      "1년: 4812\n",
      "SK: 4704\n",
      "GTX: 4231\n",
      "LH: 4175\n"
     ]
    }
   ],
   "source": [
    "# 제거된 단어들의 빈도 계산 및 상위 10개 출력\n",
    "keyword_counter = Counter(removed_keywords)\n",
    "top_10_keywords = keyword_counter.most_common(10)\n",
    "\n",
    "print(\"\\n제거된 단어들 상위 10개:\")\n",
    "for keyword, count in top_10_keywords:\n",
    "    print(f\"{keyword}: {count}\")"
   ]
  },
  {
   "cell_type": "code",
   "execution_count": 174,
   "metadata": {},
   "outputs": [
    {
     "data": {
      "text/html": [
       "<div>\n",
       "<style scoped>\n",
       "    .dataframe tbody tr th:only-of-type {\n",
       "        vertical-align: middle;\n",
       "    }\n",
       "\n",
       "    .dataframe tbody tr th {\n",
       "        vertical-align: top;\n",
       "    }\n",
       "\n",
       "    .dataframe thead th {\n",
       "        text-align: right;\n",
       "    }\n",
       "</style>\n",
       "<table border=\"1\" class=\"dataframe\">\n",
       "  <thead>\n",
       "    <tr style=\"text-align: right;\">\n",
       "      <th></th>\n",
       "      <th>ID</th>\n",
       "      <th>분류</th>\n",
       "      <th>제목</th>\n",
       "      <th>키워드</th>\n",
       "    </tr>\n",
       "  </thead>\n",
       "  <tbody>\n",
       "    <tr>\n",
       "      <th>0</th>\n",
       "      <td>TRAIN_00000</td>\n",
       "      <td>문화:전시_공연</td>\n",
       "      <td>용인문화재단, 인문학 콘서트 ‘당신이 모르는 뮤지컬 이야기Ⅳ’ 개최</td>\n",
       "      <td>용인문화재단, 인문학, 콘서트, 뮤지컬, 이야기, 개최, 인문학, 콘서트, 뮤지컬,...</td>\n",
       "    </tr>\n",
       "    <tr>\n",
       "      <th>1</th>\n",
       "      <td>TRAIN_00001</td>\n",
       "      <td>지역</td>\n",
       "      <td>용인 농촌테마파크, 7~8월 단체체험객 체험료 지원</td>\n",
       "      <td>용인, 농촌, 테마파크, 단체, 체험객, 체험료, 지원, 체험일, 기준, 용인시통합...</td>\n",
       "    </tr>\n",
       "    <tr>\n",
       "      <th>2</th>\n",
       "      <td>TRAIN_00002</td>\n",
       "      <td>지역</td>\n",
       "      <td>용인시, 노후주택 에너지 성능 개선 신청 18일까지 연장</td>\n",
       "      <td>용인시, 노후, 주택, 에너지, 성능, 개선, 신청, 연장, 용인시청, 용인시, 노...</td>\n",
       "    </tr>\n",
       "    <tr>\n",
       "      <th>3</th>\n",
       "      <td>TRAIN_00003</td>\n",
       "      <td>지역</td>\n",
       "      <td>수원 용인 고양시,‘특례시’로 지정 도시경쟁력 증가 기대</td>\n",
       "      <td>수원, 용인, 고양시, 특례시, 지정, 도시경쟁력, 증가, 경기, 도내, 인구, 수...</td>\n",
       "    </tr>\n",
       "    <tr>\n",
       "      <th>4</th>\n",
       "      <td>TRAIN_00004</td>\n",
       "      <td>국제</td>\n",
       "      <td>용인시, 스페인 미국 국제명예자문관 위촉 대외홍보 지원 역할</td>\n",
       "      <td>용인시, 스페인, 미국, 국제, 명예, 자문관, 위촉, 역할, 대외, 홍보, 지원,...</td>\n",
       "    </tr>\n",
       "    <tr>\n",
       "      <th>...</th>\n",
       "      <td>...</td>\n",
       "      <td>...</td>\n",
       "      <td>...</td>\n",
       "      <td>...</td>\n",
       "    </tr>\n",
       "    <tr>\n",
       "      <th>54604</th>\n",
       "      <td>TRAIN_54604</td>\n",
       "      <td>국제</td>\n",
       "      <td>용인 아파트서 30대 여성, 아들 딸 함께 추락 \"극단 선택 추정\"</td>\n",
       "      <td>용인, 아파트, 여성, 아들, 추락, 극단, 선택, 추정, 경찰, 현장, 유서, 경...</td>\n",
       "    </tr>\n",
       "    <tr>\n",
       "      <th>54605</th>\n",
       "      <td>TRAIN_54605</td>\n",
       "      <td>사회:교육_시험</td>\n",
       "      <td>용인시, '위탁부모 보수교육' 실시</td>\n",
       "      <td>용인시, 위탁, 부모, 보수, 교육, 용인시, 경기, 남부, 가정, 위탁, 지원, ...</td>\n",
       "    </tr>\n",
       "    <tr>\n",
       "      <th>54606</th>\n",
       "      <td>TRAIN_54606</td>\n",
       "      <td>지역</td>\n",
       "      <td>용인시, '플랫폼 시티' 국토부에 사업인정 협의 신청</td>\n",
       "      <td>용인시, 플랫폼, 시티, 국토부, 신청, 사업, 인정, 협의, 경기, 용인시, 중앙...</td>\n",
       "    </tr>\n",
       "    <tr>\n",
       "      <th>54607</th>\n",
       "      <td>TRAIN_54607</td>\n",
       "      <td>지역</td>\n",
       "      <td>용인시 이동읍 주민자치위원회, 저소득 20가구에 밑반찬 지원</td>\n",
       "      <td>주민자치위원회, 용인시, 이동읍, 주민, 자치, 위원회, 가구, 밑반찬, 지원, 용...</td>\n",
       "    </tr>\n",
       "    <tr>\n",
       "      <th>54608</th>\n",
       "      <td>TRAIN_54608</td>\n",
       "      <td>지역</td>\n",
       "      <td>용인시-용인시공무원노조, 국무총리상 수상</td>\n",
       "      <td>용인시, 용인시공무원노조, 국무총리, 수상, 용인, 홍화표, 경기, 용인시, 용인시...</td>\n",
       "    </tr>\n",
       "  </tbody>\n",
       "</table>\n",
       "<p>54609 rows × 4 columns</p>\n",
       "</div>"
      ],
      "text/plain": [
       "                ID        분류                                     제목  \\\n",
       "0      TRAIN_00000  문화:전시_공연  용인문화재단, 인문학 콘서트 ‘당신이 모르는 뮤지컬 이야기Ⅳ’ 개최   \n",
       "1      TRAIN_00001        지역           용인 농촌테마파크, 7~8월 단체체험객 체험료 지원   \n",
       "2      TRAIN_00002        지역        용인시, 노후주택 에너지 성능 개선 신청 18일까지 연장   \n",
       "3      TRAIN_00003        지역        수원 용인 고양시,‘특례시’로 지정 도시경쟁력 증가 기대   \n",
       "4      TRAIN_00004        국제      용인시, 스페인 미국 국제명예자문관 위촉 대외홍보 지원 역할   \n",
       "...            ...       ...                                    ...   \n",
       "54604  TRAIN_54604        국제  용인 아파트서 30대 여성, 아들 딸 함께 추락 \"극단 선택 추정\"   \n",
       "54605  TRAIN_54605  사회:교육_시험                    용인시, '위탁부모 보수교육' 실시   \n",
       "54606  TRAIN_54606        지역          용인시, '플랫폼 시티' 국토부에 사업인정 협의 신청   \n",
       "54607  TRAIN_54607        지역      용인시 이동읍 주민자치위원회, 저소득 20가구에 밑반찬 지원   \n",
       "54608  TRAIN_54608        지역                 용인시-용인시공무원노조, 국무총리상 수상   \n",
       "\n",
       "                                                     키워드  \n",
       "0      용인문화재단, 인문학, 콘서트, 뮤지컬, 이야기, 개최, 인문학, 콘서트, 뮤지컬,...  \n",
       "1      용인, 농촌, 테마파크, 단체, 체험객, 체험료, 지원, 체험일, 기준, 용인시통합...  \n",
       "2      용인시, 노후, 주택, 에너지, 성능, 개선, 신청, 연장, 용인시청, 용인시, 노...  \n",
       "3      수원, 용인, 고양시, 특례시, 지정, 도시경쟁력, 증가, 경기, 도내, 인구, 수...  \n",
       "4      용인시, 스페인, 미국, 국제, 명예, 자문관, 위촉, 역할, 대외, 홍보, 지원,...  \n",
       "...                                                  ...  \n",
       "54604  용인, 아파트, 여성, 아들, 추락, 극단, 선택, 추정, 경찰, 현장, 유서, 경...  \n",
       "54605  용인시, 위탁, 부모, 보수, 교육, 용인시, 경기, 남부, 가정, 위탁, 지원, ...  \n",
       "54606  용인시, 플랫폼, 시티, 국토부, 신청, 사업, 인정, 협의, 경기, 용인시, 중앙...  \n",
       "54607  주민자치위원회, 용인시, 이동읍, 주민, 자치, 위원회, 가구, 밑반찬, 지원, 용...  \n",
       "54608  용인시, 용인시공무원노조, 국무총리, 수상, 용인, 홍화표, 경기, 용인시, 용인시...  \n",
       "\n",
       "[54609 rows x 4 columns]"
      ]
     },
     "execution_count": 174,
     "metadata": {},
     "output_type": "execute_result"
    }
   ],
   "source": [
    "train_df\n",
    "# test_df\n"
   ]
  },
  {
   "cell_type": "code",
   "execution_count": 176,
   "metadata": {},
   "outputs": [
    {
     "name": "stdout",
     "output_type": "stream",
     "text": [
      "매출, 쓱세일, 대박, 용진이, 이마트, 노조, 용진이, 사원들, 쓱세일, 기간, 사흘, 사흘, 매출, 노조, 요구, 이마트, 결정, 신세계그룹, 진행, 쓱세일, 성황리, 마무리, 시장, 여운, 전국이마트노동조합, 한국노총, 소속, 쓱세일, 매출, 보상, 요구, 부회장, 정용진, 신세계그룹, 이목, 점포, 오픈런, 임시휴점, 정도, 사람, 기간, 이마트, 매출, 관심, 신선식품, 공산품, 쓱세일, 흥행, 행사, 신세계그룹, 계열사, 야구단, 랜더스, 우승, 리그, 통합, 기념, 개최, 이마트, 인기, 카테고리, 원플러스원, 혜택, 할인, 최대, 적용, 매장, 카트, 정도, 흥행, 성공, 이마트, 쓱세일, 매출, 쓱세일, 원래, 예상, 수치, 이마트, 노조, 용진이, 사원들, 제목, 성명서, 보상, 요구, 이마트, 노조, 쓱세일, 이마트, 사원, 고객, 안전, 상품, 진열, 응대, 눈코, 그룹, 지탱, 이마트, 사원, 보상, 이마트, 노조, 노사, 임금, 협상, 교섭, 우승, 랜더스, 시리즈, 기념, 사원, 지급, 요구, 노조, 이마트, 이마트, 시작, 사원들, 피땀, 수익, 캐시카우, 역할, 강조, 이마트, 행사, 기간, 매출, 전년, 동기, 대비, 물량, 준비, 삼겹살, 목살, 할인, 적용, 사흘, 매출, 사흘, 기록, 투플러스원, 적용, 봉지, 적용, 참치, 통조림, 매출, 증가, 계란, 상품, 이판란, 완판, 계란, 매출, 계란, 경기, 용인시, 이마트, 주부, 서모, 사람들, 인산인해, 인기, 품목, 매대, 마트, 신선식품, 공산품, 코너, 모습, 이마트, 행사, 기간, 세제, 치약, 샴푸, 생활용품, 매출, 상승, 이마트, 할인, 행사, 진행, 행사, 규모, 연중, 최대, 할인, 사람들, 우승, 야구, 마케팅, 집객, 효과, 이마트, 관계자, 물가, 장기화, 상황, 장바구니, 안정, 행사, 진행, 고객, 시선, 매출, 미소, 이마트, 노조, 요구, 미지수, 이마트, 관계자, 이마트, 노조, 요구, 내부, 협의, 결정\n"
     ]
    }
   ],
   "source": [
    "# 인덱스 5번의 키워드 컬럼 전체를 출력\n",
    "index = 15489\n",
    "if index in train_df.index:\n",
    "    print(train_df.loc[index, '키워드'])\n",
    "else:\n",
    "    print(f\"인덱스 {index}가 데이터프레임에 존재하지 않습니다.\")"
   ]
  },
  {
   "cell_type": "code",
   "execution_count": 177,
   "metadata": {},
   "outputs": [],
   "source": [
    "combined_df = pd.concat([train_df, test_df], ignore_index=True)"
   ]
  },
  {
   "cell_type": "code",
   "execution_count": 178,
   "metadata": {},
   "outputs": [
    {
     "name": "stdout",
     "output_type": "stream",
     "text": [
      "{}\n"
     ]
    }
   ],
   "source": [
    "def extract_single_character_keywords(df, keyword_column):\n",
    "    \"\"\"\n",
    "    데이터프레임의 각 행에서 한 글자인 키워드를 추출합니다.\n",
    "    \"\"\"\n",
    "    single_char_keywords = []\n",
    "    \n",
    "    for index, row in df.iterrows():\n",
    "        if pd.notna(row[keyword_column]):\n",
    "            keywords_list = row[keyword_column].split(',')\n",
    "            single_char_keywords.extend([keyword for keyword in keywords_list if len(keyword) == 1])\n",
    "    \n",
    "    return single_char_keywords\n",
    "\n",
    "def count_single_character_keywords(df, keyword_column):\n",
    "    \"\"\"\n",
    "    데이터프레임의 각 행에서 한 글자인 키워드를 추출하고, 빈도를 계산하여 딕셔너리 형태로 반환합니다.\n",
    "    \"\"\"\n",
    "    single_char_keywords = extract_single_character_keywords(df, keyword_column)\n",
    "    keyword_counts = Counter(single_char_keywords)\n",
    "    return dict(keyword_counts)\n",
    "\n",
    "single_char_keyword_counts = count_single_character_keywords(combined_df, '키워드')\n",
    "print(single_char_keyword_counts)"
   ]
  },
  {
   "cell_type": "code",
   "execution_count": 179,
   "metadata": {},
   "outputs": [
    {
     "name": "stdout",
     "output_type": "stream",
     "text": [
      "Group: IT_과학:IT_과학일반, Keywords: [' 용인시', ' 캐릭터', ' 데이터', ' 센터', ' 교육']\n",
      "\n",
      "Group: IT_과학:과학, Keywords: [' 로봇', ' 기업', ' 임상', ' 용인시', ' 진행']\n",
      "\n",
      "Group: IT_과학:모바일, Keywords: [' 서비스', ' 용인시', ' 도서관', ' 제공', ' 이용']\n",
      "\n",
      "Group: IT_과학:보안, Keywords: [' 정보', ' 용인시', ' 해킹', ' 개인', ' 아파트']\n",
      "\n",
      "Group: IT_과학:인터넷_SNS, Keywords: [' 용인시', ' 온라인', ' 홈페이지', ' 서비스', ' 교육']\n",
      "\n",
      "Group: IT_과학:콘텐츠, Keywords: [' 서비스', ' 콘텐츠', ' 용인시', ' 교육', ' 운영']\n",
      "\n",
      "Group: 경제:경제일반, Keywords: [' 용인시', ' 용인', ' 시장', ' 경기', ' 지역']\n",
      "\n",
      "Group: 경제:금융_재테크, Keywords: [' 은행', ' 지원', ' 대출', ' 점포', ' 금융']\n",
      "\n",
      "Group: 경제:무역, Keywords: [' 수출', ' 지원', ' 기업', ' 시장', ' 달러']\n",
      "\n",
      "Group: 경제:반도체, Keywords: [' 반도체', ' 용인', ' 산업', ' 기업', ' 조성']\n",
      "\n",
      "Group: 경제:부동산, Keywords: [' 아파트', ' 분양', ' 단지', ' 가구', ' 서울']\n",
      "\n",
      "Group: 경제:산업_기업, Keywords: [' 회장', ' 기업', ' 경영', ' 용인시', ' 사업']\n",
      "\n",
      "Group: 경제:서비스_쇼핑, Keywords: [' 용인시', ' 고객', ' 브랜드', ' 매장', ' 지역']\n",
      "\n",
      "Group: 경제:외환, Keywords: [' 정부', ' 인상', ' 인하', ' 금리', ' 가격']\n",
      "\n",
      "Group: 경제:유통, Keywords: [' 가격', ' 용인시', ' 지역', ' 상품', ' 시장']\n",
      "\n",
      "Group: 경제:자동차, Keywords: [' 차량', ' 전기차', ' 중고차', ' 자동차', ' 현대차']\n",
      "\n",
      "Group: 경제:자원, Keywords: [' 에너지', ' 전력', ' 사업', ' 용인시', ' 계획']\n",
      "\n",
      "Group: 경제:증권_증시, Keywords: [' 주식', ' 상장', ' 소유자', ' 투자', ' 대비']\n",
      "\n",
      "Group: 경제:취업_창업, Keywords: [' 일자리', ' 지원', ' 기업', ' 청년', ' 사업']\n",
      "\n",
      "Group: 국제, Keywords: [' 푸바오', ' 중국', ' 용인시', ' 에버랜드', ' 한국']\n",
      "\n",
      "Group: 문화:문화일반, Keywords: [' 용인시', ' 용인', ' 청년', ' 시장', ' 진행']\n",
      "\n",
      "Group: 문화:미술_건축, Keywords: [' 작품', ' 전시', ' 작가', ' 시장', ' 그림']\n",
      "\n",
      "Group: 문화:방송_연예, Keywords: [' 용인시', ' 방송', ' 푸바오', ' 공개', ' 사랑']\n",
      "\n",
      "Group: 문화:생활, Keywords: [' 에버랜드', ' 용인시', ' 사람', ' 연휴', ' 체험']\n",
      "\n",
      "Group: 문화:영화, Keywords: [' 영화', ' 영화제', ' 감독', ' 용인시', ' 상영']\n",
      "\n",
      "Group: 문화:요리_여행, Keywords: [' 축제', ' 용인시', ' 용인', ' 관광', ' 여행']\n",
      "\n",
      "Group: 문화:음악, Keywords: [' 공연', ' 시장', ' 음악', ' 용인', ' 용인시']\n",
      "\n",
      "Group: 문화:전시_공연, Keywords: [' 공연', ' 용인', ' 용인시', ' 행사', ' 연극제']\n",
      "\n",
      "Group: 문화:종교, Keywords: [' 교회', ' 목사', ' 추기경', ' 용인시', ' 예배']\n",
      "\n",
      "Group: 문화:출판, Keywords: [' 도서관', ' 용인시', ' 작가', ' 푸바오', ' 시장']\n",
      "\n",
      "Group: 문화:학술_문화재, Keywords: [' 문화재', ' 용인', ' 봉수', ' 용인시', ' 지정']\n",
      "\n",
      "Group: 사회:교육_시험, Keywords: [' 교육', ' 학교', ' 학생', ' 교사', ' 용인시']\n",
      "\n",
      "Group: 사회:날씨, Keywords: [' 서울', ' 지역', ' 기온', ' 경기', ' 예상']\n",
      "\n",
      "Group: 사회:노동_복지, Keywords: [' 노조', ' 삼성전자', ' 노사', ' 용인시', ' 임금']\n",
      "\n",
      "Group: 사회:미디어, Keywords: [' 용인시', ' 방송', ' 조사', ' 서울', ' 사고']\n",
      "\n",
      "Group: 사회:사건_사고, Keywords: [' 혐의', ' 경찰', ' 검찰', ' 사건', ' 용인시']\n",
      "\n",
      "Group: 사회:사회일반, Keywords: [' 확진자', ' 용인시', ' 경기', ' 발생', ' 서울']\n",
      "\n",
      "Group: 사회:여성, Keywords: [' 여성', ' 용인시', ' 지원', ' 출산', ' 사회']\n",
      "\n",
      "Group: 사회:의료_건강, Keywords: [' 확진자', ' 환자', ' 접종', ' 병원', ' 감염']\n",
      "\n",
      "Group: 사회:장애인, Keywords: [' 장애인', ' 용인시', ' 지원', ' 복지', ' 시장']\n",
      "\n",
      "Group: 사회:환경, Keywords: [' 환경', ' 교육', ' 수질', ' 하천', ' 용인시']\n",
      "\n",
      "Group: 스포츠:골프, Keywords: [' 대회', ' 우승', ' 투어', ' 경기', ' 레이디스']\n",
      "\n",
      "Group: 스포츠:농구_배구, Keywords: [' 선수', ' 프로', ' 우승', ' 배구', ' 시즌']\n",
      "\n",
      "Group: 스포츠:스포츠일반, Keywords: [' 서울', ' 경기', ' 용인시', ' 부산', ' 당첨']\n",
      "\n",
      "Group: 스포츠:야구, Keywords: [' 시즌', ' 경기', ' 챔피언', ' 구단', ' 김종겸']\n",
      "\n",
      "Group: 스포츠:올림픽_아시안게임, Keywords: [' 대회', ' 선수', ' 경기', ' 용인시', ' 우승']\n",
      "\n",
      "Group: 스포츠:월드컵, Keywords: [' 경기', ' 대표', ' 대회', ' 축구', ' 용인시']\n",
      "\n",
      "Group: 스포츠:축구, Keywords: [' 축구', ' 선수', ' 경기', ' 대회', ' 용인시']\n",
      "\n",
      "Group: 정치:국회_정당, Keywords: [' 의원', ' 대표', ' 후보', ' 국민', ' 민주당']\n",
      "\n",
      "Group: 정치:북한, Keywords: [' 북한', ' 시장', ' 협력', ' 남북', ' 풍선']\n",
      "\n",
      "Group: 정치:선거, Keywords: [' 후보', ' 선거', ' 국민', ' 시장', ' 용인']\n",
      "\n",
      "Group: 정치:외교, Keywords: [' 미군', ' 한국', ' 대통령', ' 안보', ' 경기도']\n",
      "\n",
      "Group: 정치:정치일반, Keywords: [' 시장', ' 용인', ' 용인시', ' 의원', ' 지역']\n",
      "\n",
      "Group: 정치:청와대, Keywords: [' 대통령', ' 국민', ' 정부', ' 용인', ' 용인시']\n",
      "\n",
      "Group: 정치:행정_자치, Keywords: [' 특례시', ' 지방', ' 의원', ' 특례', ' 국회']\n",
      "\n",
      "Group: 지역, Keywords: [' 용인시', ' 사업', ' 용인', ' 지원', ' 지역']\n",
      "\n",
      "{'IT_과학:IT_과학일반': [' 용인시', ' 캐릭터', ' 데이터', ' 센터', ' 교육'], 'IT_과학:과학': [' 로봇', ' 기업', ' 임상', ' 용인시', ' 진행'], 'IT_과학:모바일': [' 서비스', ' 용인시', ' 도서관', ' 제공', ' 이용'], 'IT_과학:보안': [' 정보', ' 용인시', ' 해킹', ' 개인', ' 아파트'], 'IT_과학:인터넷_SNS': [' 용인시', ' 온라인', ' 홈페이지', ' 서비스', ' 교육'], 'IT_과학:콘텐츠': [' 서비스', ' 콘텐츠', ' 용인시', ' 교육', ' 운영'], '경제:경제일반': [' 용인시', ' 용인', ' 시장', ' 경기', ' 지역'], '경제:금융_재테크': [' 은행', ' 지원', ' 대출', ' 점포', ' 금융'], '경제:무역': [' 수출', ' 지원', ' 기업', ' 시장', ' 달러'], '경제:반도체': [' 반도체', ' 용인', ' 산업', ' 기업', ' 조성'], '경제:부동산': [' 아파트', ' 분양', ' 단지', ' 가구', ' 서울'], '경제:산업_기업': [' 회장', ' 기업', ' 경영', ' 용인시', ' 사업'], '경제:서비스_쇼핑': [' 용인시', ' 고객', ' 브랜드', ' 매장', ' 지역'], '경제:외환': [' 정부', ' 인상', ' 인하', ' 금리', ' 가격'], '경제:유통': [' 가격', ' 용인시', ' 지역', ' 상품', ' 시장'], '경제:자동차': [' 차량', ' 전기차', ' 중고차', ' 자동차', ' 현대차'], '경제:자원': [' 에너지', ' 전력', ' 사업', ' 용인시', ' 계획'], '경제:증권_증시': [' 주식', ' 상장', ' 소유자', ' 투자', ' 대비'], '경제:취업_창업': [' 일자리', ' 지원', ' 기업', ' 청년', ' 사업'], '국제': [' 푸바오', ' 중국', ' 용인시', ' 에버랜드', ' 한국'], '문화:문화일반': [' 용인시', ' 용인', ' 청년', ' 시장', ' 진행'], '문화:미술_건축': [' 작품', ' 전시', ' 작가', ' 시장', ' 그림'], '문화:방송_연예': [' 용인시', ' 방송', ' 푸바오', ' 공개', ' 사랑'], '문화:생활': [' 에버랜드', ' 용인시', ' 사람', ' 연휴', ' 체험'], '문화:영화': [' 영화', ' 영화제', ' 감독', ' 용인시', ' 상영'], '문화:요리_여행': [' 축제', ' 용인시', ' 용인', ' 관광', ' 여행'], '문화:음악': [' 공연', ' 시장', ' 음악', ' 용인', ' 용인시'], '문화:전시_공연': [' 공연', ' 용인', ' 용인시', ' 행사', ' 연극제'], '문화:종교': [' 교회', ' 목사', ' 추기경', ' 용인시', ' 예배'], '문화:출판': [' 도서관', ' 용인시', ' 작가', ' 푸바오', ' 시장'], '문화:학술_문화재': [' 문화재', ' 용인', ' 봉수', ' 용인시', ' 지정'], '사회:교육_시험': [' 교육', ' 학교', ' 학생', ' 교사', ' 용인시'], '사회:날씨': [' 서울', ' 지역', ' 기온', ' 경기', ' 예상'], '사회:노동_복지': [' 노조', ' 삼성전자', ' 노사', ' 용인시', ' 임금'], '사회:미디어': [' 용인시', ' 방송', ' 조사', ' 서울', ' 사고'], '사회:사건_사고': [' 혐의', ' 경찰', ' 검찰', ' 사건', ' 용인시'], '사회:사회일반': [' 확진자', ' 용인시', ' 경기', ' 발생', ' 서울'], '사회:여성': [' 여성', ' 용인시', ' 지원', ' 출산', ' 사회'], '사회:의료_건강': [' 확진자', ' 환자', ' 접종', ' 병원', ' 감염'], '사회:장애인': [' 장애인', ' 용인시', ' 지원', ' 복지', ' 시장'], '사회:환경': [' 환경', ' 교육', ' 수질', ' 하천', ' 용인시'], '스포츠:골프': [' 대회', ' 우승', ' 투어', ' 경기', ' 레이디스'], '스포츠:농구_배구': [' 선수', ' 프로', ' 우승', ' 배구', ' 시즌'], '스포츠:스포츠일반': [' 서울', ' 경기', ' 용인시', ' 부산', ' 당첨'], '스포츠:야구': [' 시즌', ' 경기', ' 챔피언', ' 구단', ' 김종겸'], '스포츠:올림픽_아시안게임': [' 대회', ' 선수', ' 경기', ' 용인시', ' 우승'], '스포츠:월드컵': [' 경기', ' 대표', ' 대회', ' 축구', ' 용인시'], '스포츠:축구': [' 축구', ' 선수', ' 경기', ' 대회', ' 용인시'], '정치:국회_정당': [' 의원', ' 대표', ' 후보', ' 국민', ' 민주당'], '정치:북한': [' 북한', ' 시장', ' 협력', ' 남북', ' 풍선'], '정치:선거': [' 후보', ' 선거', ' 국민', ' 시장', ' 용인'], '정치:외교': [' 미군', ' 한국', ' 대통령', ' 안보', ' 경기도'], '정치:정치일반': [' 시장', ' 용인', ' 용인시', ' 의원', ' 지역'], '정치:청와대': [' 대통령', ' 국민', ' 정부', ' 용인', ' 용인시'], '정치:행정_자치': [' 특례시', ' 지방', ' 의원', ' 특례', ' 국회'], '지역': [' 용인시', ' 사업', ' 용인', ' 지원', ' 지역']}\n"
     ]
    }
   ],
   "source": [
    "def extract_top_keywords_by_group(df, group_column, keyword_column, top_n=5):\n",
    "    # 그룹화\n",
    "    grouped = df.groupby(group_column)\n",
    "    \n",
    "    top_keywords = {}\n",
    "    \n",
    "    for group_name, group_df in grouped:\n",
    "        # 모든 키워드 결합\n",
    "        all_keywords = group_df[keyword_column].dropna().str.cat(sep=',')\n",
    "        \n",
    "        # 키워드 분리 및 빈도 계산\n",
    "        keywords_list = all_keywords.split(',')\n",
    "        keyword_counts = Counter(keywords_list)\n",
    "        \n",
    "        # 가장 많이 등장하는 키워드 추출\n",
    "        if keyword_counts:\n",
    "            top_keywords[group_name] = [keyword for keyword, count in keyword_counts.most_common(top_n)]\n",
    "        \n",
    "        # 각 그룹의 키워드를 줄바꿈으로 구분하여 출력\n",
    "        print(f\"Group: {group_name}, Keywords: {top_keywords[group_name]}\\n\")\n",
    "    \n",
    "    return top_keywords\n",
    "\n",
    "# 사용 예시\n",
    "top_keywords = extract_top_keywords_by_group(train_df, '분류', '키워드', top_n=5)\n",
    "print(top_keywords)"
   ]
  },
  {
   "cell_type": "code",
   "execution_count": 180,
   "metadata": {},
   "outputs": [],
   "source": [
    "# 용인시, 용인 제거\n",
    "\n",
    "def remove_specific_keywords(df, keyword_column, keywords_to_remove):\n",
    "    \"\"\"\n",
    "    데이터프레임의 각 행에서 특정 키워드를 제거합니다.\n",
    "    \"\"\"\n",
    "    for index, row in df.iterrows():\n",
    "        if pd.notna(row[keyword_column]):\n",
    "            keywords_list = row[keyword_column].split(',')\n",
    "            filtered_keywords = [keyword for keyword in keywords_list if keyword not in keywords_to_remove]\n",
    "            df.at[index, keyword_column] = ','.join(filtered_keywords)\n",
    "    \n",
    "    return df"
   ]
  },
  {
   "cell_type": "code",
   "execution_count": 181,
   "metadata": {},
   "outputs": [],
   "source": [
    "train_df = remove_specific_keywords(train_df, '키워드', [' 용인시', ' 용인'])\n",
    "test_df = remove_specific_keywords(test_df, '키워드', [' 용인시', ' 용인'])"
   ]
  },
  {
   "cell_type": "code",
   "execution_count": 182,
   "metadata": {},
   "outputs": [
    {
     "name": "stdout",
     "output_type": "stream",
     "text": [
      "Group: IT_과학:IT_과학일반, Keywords: [' 캐릭터', ' 데이터', ' 센터', ' 교육', ' 조아용', ' 지역', ' 서비스', ' 활용', ' 분야', ' 사업']\n",
      "\n",
      "Group: IT_과학:과학, Keywords: [' 로봇', ' 기업', ' 임상', ' 진행', ' 활용', ' 사업', ' 대표', ' 혁신', ' 분야', ' 뇌졸중']\n",
      "\n",
      "Group: IT_과학:모바일, Keywords: [' 서비스', ' 도서관', ' 제공', ' 이용', ' 운영', ' 지원', ' 지역', ' 기업', ' 활용', ' 시장']\n",
      "\n",
      "Group: IT_과학:보안, Keywords: [' 정보', ' 해킹', ' 개인', ' 아파트', ' 보호', ' 월패드', ' 관리', ' 방지', ' 제공', ' 구축']\n",
      "\n",
      "Group: IT_과학:인터넷_SNS, Keywords: [' 온라인', ' 홈페이지', ' 서비스', ' 교육', ' 운영', ' 아동', ' 지원', ' 조아', ' 조아용', ' 시민들']\n",
      "\n",
      "Group: IT_과학:콘텐츠, Keywords: [' 서비스', ' 콘텐츠', ' 교육', ' 운영', ' 시민들', ' 미디어', ' 제공', ' 활용', ' 진행', ' 시장']\n",
      "\n",
      "Group: 경제:경제일반, Keywords: [' 시장', ' 경기', ' 지역', ' 서비스', ' 사업', ' 반도체', ' 지원', ' 운영', ' 서울', ' 시민']\n",
      "\n",
      "Group: 경제:금융_재테크, Keywords: [' 은행', ' 지원', ' 대출', ' 점포', ' 금융', ' 운영', ' 지역', ' 보험', ' 우리은행', ' 하나은행']\n",
      "\n",
      "Group: 경제:무역, Keywords: [' 수출', ' 지원', ' 기업', ' 시장', ' 달러', ' 중소기업', ' 해외', ' 사업', ' 전시회', ' 상담']\n",
      "\n",
      "Group: 경제:반도체, Keywords: [' 반도체', ' 산업', ' 기업', ' 조성', ' 시장', ' 클러스터', ' 단지', ' 지원', ' 계획', ' 삼성전자']\n",
      "\n",
      "Group: 경제:부동산, Keywords: [' 아파트', ' 분양', ' 단지', ' 가구', ' 서울', ' 지역', ' 예정', ' 주택', ' 부동산', ' 거래']\n",
      "\n",
      "Group: 경제:산업_기업, Keywords: [' 회장', ' 기업', ' 경영', ' 사업', ' 시장', ' 지원', ' 물류', ' 삼성', ' 진행', ' 계획']\n",
      "\n",
      "Group: 경제:서비스_쇼핑, Keywords: [' 고객', ' 브랜드', ' 매장', ' 지역', ' 배달', ' 공간', ' 이벤트', ' 구매', ' 제공', ' 할인']\n",
      "\n",
      "Group: 경제:외환, Keywords: [' 정부', ' 인상', ' 인하', ' 금리', ' 가격', ' 유류세', ' 부담', ' 경유', ' 요금', ' 물가']\n",
      "\n",
      "Group: 경제:유통, Keywords: [' 가격', ' 지역', ' 상품', ' 시장', ' 판매', ' 매장', ' 제품', ' 매출', ' 경기도', ' 증가']\n",
      "\n",
      "Group: 경제:자동차, Keywords: [' 차량', ' 전기차', ' 중고차', ' 자동차', ' 현대차', ' 시장', ' 주행', ' 사업', ' 지원', ' 제네시스']\n",
      "\n",
      "Group: 경제:자원, Keywords: [' 에너지', ' 전력', ' 사업', ' 계획', ' 발전', ' 정부', ' 신재생', ' 지원', ' 태양광', ' 설비']\n",
      "\n",
      "Group: 경제:증권_증시, Keywords: [' 주식', ' 상장', ' 소유자', ' 투자', ' 대비', ' 공시', ' 전년', ' 법인', ' 기업', ' 거주']\n",
      "\n",
      "Group: 경제:취업_창업, Keywords: [' 일자리', ' 지원', ' 기업', ' 청년', ' 사업', ' 취업', ' 채용', ' 지역', ' 창업', ' 교육']\n",
      "\n",
      "Group: 국제, Keywords: [' 푸바오', ' 중국', ' 에버랜드', ' 한국', ' 시장', ' 승리', ' 경기', ' 혐의', ' 자이언트', ' 사육사']\n",
      "\n",
      "Group: 문화:문화일반, Keywords: [' 청년', ' 시장', ' 진행', ' 문화', ' 김대건', ' 대회', ' 프로그램', ' 시작', ' 지역', ' 한국']\n",
      "\n",
      "Group: 문화:미술_건축, Keywords: [' 작품', ' 전시', ' 작가', ' 시장', ' 그림', ' 문화', ' 공간', ' 미술', ' 예술', ' 한국']\n",
      "\n",
      "Group: 문화:방송_연예, Keywords: [' 방송', ' 푸바오', ' 공개', ' 사랑', ' 사람', ' 에버랜드', ' 홈즈', ' 매물', ' 가족', ' 의뢰인']\n",
      "\n",
      "Group: 문화:생활, Keywords: [' 에버랜드', ' 사람', ' 연휴', ' 체험', ' 가족', ' 과일', ' 생각', ' 시작', ' 공간', ' 서울']\n",
      "\n",
      "Group: 문화:영화, Keywords: [' 영화', ' 영화제', ' 감독', ' 상영', ' 참여', ' 배우', ' 다큐멘터리', ' 주제', ' 시민들', ' 머내']\n",
      "\n",
      "Group: 문화:요리_여행, Keywords: [' 축제', ' 관광', ' 여행', ' 체험', ' 진행', ' 지역', ' 운영', ' 행사', ' 경기도', ' 시민들']\n",
      "\n",
      "Group: 문화:음악, Keywords: [' 공연', ' 시장', ' 음악', ' 노래', ' 음악회', ' 무대', ' 문화', ' 오케스트라', ' 연주', ' 클래식']\n",
      "\n",
      "Group: 문화:전시_공연, Keywords: [' 공연', ' 행사', ' 연극제', ' 진행', ' 대한민국', ' 문화', ' 작품', ' 축제', ' 시민', ' 참여']\n",
      "\n",
      "Group: 문화:종교, Keywords: [' 교회', ' 목사', ' 추기경', ' 예배', ' 감사', ' 한국', ' 종교', ' 성경', ' 진행', ' 사랑']\n",
      "\n",
      "Group: 문화:출판, Keywords: [' 도서관', ' 작가', ' 푸바오', ' 시장', ' 생각', ' 사람', ' 이야기', ' 운영', ' 작품', ' 진행']\n",
      "\n",
      "Group: 문화:학술_문화재, Keywords: [' 문화재', ' 봉수', ' 지정', ' 진행', ' 가치', ' 문화재청', ' 조사', ' 유물', ' 확인', ' 건지산']\n",
      "\n",
      "Group: 사회:교육_시험, Keywords: [' 교육', ' 학교', ' 학생', ' 교사', ' 진행', ' 아동', ' 학생들', ' 지역', ' 학부모', ' 지원']\n",
      "\n",
      "Group: 사회:날씨, Keywords: [' 서울', ' 지역', ' 기온', ' 경기', ' 예상', ' 전국', ' 기상청', ' 이날', ' 폭염', ' 발생']\n",
      "\n",
      "Group: 사회:노동_복지, Keywords: [' 노조', ' 삼성전자', ' 노사', ' 임금', ' 노동자', ' 근로자', ' 교섭', ' 업무', ' 파업', ' 직원']\n",
      "\n",
      "Group: 사회:미디어, Keywords: [' 방송', ' 조사', ' 서울', ' 사고', ' 해임', ' 진행', ' 경기도', ' 승리', ' 버스', ' 상황']\n",
      "\n",
      "Group: 사회:사건_사고, Keywords: [' 혐의', ' 경찰', ' 검찰', ' 사건', ' 조사', ' 범행', ' 수사', ' 구속', ' 경기', ' 선고']\n",
      "\n",
      "Group: 사회:사회일반, Keywords: [' 확진자', ' 경기', ' 발생', ' 서울', ' 확진', ' 감염', ' 지역', ' 이날', ' 신규', ' 누적']\n",
      "\n",
      "Group: 사회:여성, Keywords: [' 여성', ' 지원', ' 출산', ' 사회', ' 사업', ' 운영', ' 정책', ' 인구', ' 가정', ' 가족']\n",
      "\n",
      "Group: 사회:의료_건강, Keywords: [' 확진자', ' 환자', ' 접종', ' 병원', ' 감염', ' 발생', ' 확진', ' 추가', ' 누적', ' 의료']\n",
      "\n",
      "Group: 사회:장애인, Keywords: [' 장애인', ' 지원', ' 복지', ' 시장', ' 센터', ' 운영', ' 시설', ' 사업', ' 사회', ' 장애']\n",
      "\n",
      "Group: 사회:환경, Keywords: [' 환경', ' 교육', ' 수질', ' 하천', ' 환경부', ' 지역', ' 관리', ' 먼지', ' 배출', ' 미세']\n",
      "\n",
      "Group: 스포츠:골프, Keywords: [' 대회', ' 우승', ' 투어', ' 경기', ' 레이디스', ' 챔피언십', ' 골프', ' 투자', ' 증권', ' 출전']\n",
      "\n",
      "Group: 스포츠:농구_배구, Keywords: [' 선수', ' 프로', ' 우승', ' 배구', ' 시즌', ' 경기', ' 구단', ' 감독', ' 숙소', ' 챔피언']\n",
      "\n",
      "Group: 스포츠:스포츠일반, Keywords: [' 서울', ' 경기', ' 부산', ' 당첨', ' 전남', ' 강원', ' 골프', ' 잔디', ' 전북', ' 경북']\n",
      "\n",
      "Group: 스포츠:야구, Keywords: [' 시즌', ' 경기', ' 챔피언', ' 구단', ' 김종겸', ' 기록', ' 황민경', ' 선수', ' 최종전', ' 우승']\n",
      "\n",
      "Group: 스포츠:올림픽_아시안게임, Keywords: [' 대회', ' 선수', ' 경기', ' 우승', ' 경기도', ' 시장', ' 상금', ' 우상혁', ' 종목', ' 육상']\n",
      "\n",
      "Group: 스포츠:월드컵, Keywords: [' 경기', ' 대표', ' 대회', ' 축구', ' 감독', ' 클래스', ' 선수', ' 슈퍼레이스', ' 타이어', ' 챔피언십']\n",
      "\n",
      "Group: 스포츠:축구, Keywords: [' 축구', ' 선수', ' 경기', ' 대회', ' 감독', ' 우승', ' 시즌', ' 프로', ' 대표', ' 센터']\n",
      "\n",
      "Group: 정치:국회_정당, Keywords: [' 의원', ' 대표', ' 후보', ' 국민', ' 민주당', ' 위원장', ' 지역', ' 시장', ' 선거', ' 경기도']\n",
      "\n",
      "Group: 정치:북한, Keywords: [' 북한', ' 시장', ' 협력', ' 남북', ' 풍선', ' 평화', ' 교류', ' 지역', ' 통일', ' 경기도']\n",
      "\n",
      "Group: 정치:선거, Keywords: [' 후보', ' 선거', ' 국민', ' 시장', ' 지역', ' 민주당', ' 경기', ' 공약', ' 대선', ' 더불어민주당']\n",
      "\n",
      "Group: 정치:외교, Keywords: [' 미군', ' 한국', ' 대통령', ' 안보', ' 경기도', ' 북한', ' 미국', ' 확진자', ' 사업', ' 장관']\n",
      "\n",
      "Group: 정치:정치일반, Keywords: [' 시장', ' 의원', ' 지역', ' 지원', ' 특례', ' 정책', ' 특례시', ' 이상일', ' 장관', ' 지방']\n",
      "\n",
      "Group: 정치:청와대, Keywords: [' 대통령', ' 국민', ' 정부', ' 정책', ' 윤석열', ' 대통령실', ' 재산', ' 민생', ' 지역', ' 이날']\n",
      "\n",
      "Group: 정치:행정_자치, Keywords: [' 특례시', ' 지방', ' 의원', ' 특례', ' 국회', ' 자치', ' 시장', ' 권한', ' 개정', ' 인구']\n",
      "\n",
      "Group: 지역, Keywords: [' 사업', ' 지원', ' 지역', ' 시장', ' 경기도', ' 계획', ' 조성', ' 도시', ' 추진', ' 진행']\n",
      "\n",
      "{'IT_과학:IT_과학일반': [' 캐릭터', ' 데이터', ' 센터', ' 교육', ' 조아용', ' 지역', ' 서비스', ' 활용', ' 분야', ' 사업'], 'IT_과학:과학': [' 로봇', ' 기업', ' 임상', ' 진행', ' 활용', ' 사업', ' 대표', ' 혁신', ' 분야', ' 뇌졸중'], 'IT_과학:모바일': [' 서비스', ' 도서관', ' 제공', ' 이용', ' 운영', ' 지원', ' 지역', ' 기업', ' 활용', ' 시장'], 'IT_과학:보안': [' 정보', ' 해킹', ' 개인', ' 아파트', ' 보호', ' 월패드', ' 관리', ' 방지', ' 제공', ' 구축'], 'IT_과학:인터넷_SNS': [' 온라인', ' 홈페이지', ' 서비스', ' 교육', ' 운영', ' 아동', ' 지원', ' 조아', ' 조아용', ' 시민들'], 'IT_과학:콘텐츠': [' 서비스', ' 콘텐츠', ' 교육', ' 운영', ' 시민들', ' 미디어', ' 제공', ' 활용', ' 진행', ' 시장'], '경제:경제일반': [' 시장', ' 경기', ' 지역', ' 서비스', ' 사업', ' 반도체', ' 지원', ' 운영', ' 서울', ' 시민'], '경제:금융_재테크': [' 은행', ' 지원', ' 대출', ' 점포', ' 금융', ' 운영', ' 지역', ' 보험', ' 우리은행', ' 하나은행'], '경제:무역': [' 수출', ' 지원', ' 기업', ' 시장', ' 달러', ' 중소기업', ' 해외', ' 사업', ' 전시회', ' 상담'], '경제:반도체': [' 반도체', ' 산업', ' 기업', ' 조성', ' 시장', ' 클러스터', ' 단지', ' 지원', ' 계획', ' 삼성전자'], '경제:부동산': [' 아파트', ' 분양', ' 단지', ' 가구', ' 서울', ' 지역', ' 예정', ' 주택', ' 부동산', ' 거래'], '경제:산업_기업': [' 회장', ' 기업', ' 경영', ' 사업', ' 시장', ' 지원', ' 물류', ' 삼성', ' 진행', ' 계획'], '경제:서비스_쇼핑': [' 고객', ' 브랜드', ' 매장', ' 지역', ' 배달', ' 공간', ' 이벤트', ' 구매', ' 제공', ' 할인'], '경제:외환': [' 정부', ' 인상', ' 인하', ' 금리', ' 가격', ' 유류세', ' 부담', ' 경유', ' 요금', ' 물가'], '경제:유통': [' 가격', ' 지역', ' 상품', ' 시장', ' 판매', ' 매장', ' 제품', ' 매출', ' 경기도', ' 증가'], '경제:자동차': [' 차량', ' 전기차', ' 중고차', ' 자동차', ' 현대차', ' 시장', ' 주행', ' 사업', ' 지원', ' 제네시스'], '경제:자원': [' 에너지', ' 전력', ' 사업', ' 계획', ' 발전', ' 정부', ' 신재생', ' 지원', ' 태양광', ' 설비'], '경제:증권_증시': [' 주식', ' 상장', ' 소유자', ' 투자', ' 대비', ' 공시', ' 전년', ' 법인', ' 기업', ' 거주'], '경제:취업_창업': [' 일자리', ' 지원', ' 기업', ' 청년', ' 사업', ' 취업', ' 채용', ' 지역', ' 창업', ' 교육'], '국제': [' 푸바오', ' 중국', ' 에버랜드', ' 한국', ' 시장', ' 승리', ' 경기', ' 혐의', ' 자이언트', ' 사육사'], '문화:문화일반': [' 청년', ' 시장', ' 진행', ' 문화', ' 김대건', ' 대회', ' 프로그램', ' 시작', ' 지역', ' 한국'], '문화:미술_건축': [' 작품', ' 전시', ' 작가', ' 시장', ' 그림', ' 문화', ' 공간', ' 미술', ' 예술', ' 한국'], '문화:방송_연예': [' 방송', ' 푸바오', ' 공개', ' 사랑', ' 사람', ' 에버랜드', ' 홈즈', ' 매물', ' 가족', ' 의뢰인'], '문화:생활': [' 에버랜드', ' 사람', ' 연휴', ' 체험', ' 가족', ' 과일', ' 생각', ' 시작', ' 공간', ' 서울'], '문화:영화': [' 영화', ' 영화제', ' 감독', ' 상영', ' 참여', ' 배우', ' 다큐멘터리', ' 주제', ' 시민들', ' 머내'], '문화:요리_여행': [' 축제', ' 관광', ' 여행', ' 체험', ' 진행', ' 지역', ' 운영', ' 행사', ' 경기도', ' 시민들'], '문화:음악': [' 공연', ' 시장', ' 음악', ' 노래', ' 음악회', ' 무대', ' 문화', ' 오케스트라', ' 연주', ' 클래식'], '문화:전시_공연': [' 공연', ' 행사', ' 연극제', ' 진행', ' 대한민국', ' 문화', ' 작품', ' 축제', ' 시민', ' 참여'], '문화:종교': [' 교회', ' 목사', ' 추기경', ' 예배', ' 감사', ' 한국', ' 종교', ' 성경', ' 진행', ' 사랑'], '문화:출판': [' 도서관', ' 작가', ' 푸바오', ' 시장', ' 생각', ' 사람', ' 이야기', ' 운영', ' 작품', ' 진행'], '문화:학술_문화재': [' 문화재', ' 봉수', ' 지정', ' 진행', ' 가치', ' 문화재청', ' 조사', ' 유물', ' 확인', ' 건지산'], '사회:교육_시험': [' 교육', ' 학교', ' 학생', ' 교사', ' 진행', ' 아동', ' 학생들', ' 지역', ' 학부모', ' 지원'], '사회:날씨': [' 서울', ' 지역', ' 기온', ' 경기', ' 예상', ' 전국', ' 기상청', ' 이날', ' 폭염', ' 발생'], '사회:노동_복지': [' 노조', ' 삼성전자', ' 노사', ' 임금', ' 노동자', ' 근로자', ' 교섭', ' 업무', ' 파업', ' 직원'], '사회:미디어': [' 방송', ' 조사', ' 서울', ' 사고', ' 해임', ' 진행', ' 경기도', ' 승리', ' 버스', ' 상황'], '사회:사건_사고': [' 혐의', ' 경찰', ' 검찰', ' 사건', ' 조사', ' 범행', ' 수사', ' 구속', ' 경기', ' 선고'], '사회:사회일반': [' 확진자', ' 경기', ' 발생', ' 서울', ' 확진', ' 감염', ' 지역', ' 이날', ' 신규', ' 누적'], '사회:여성': [' 여성', ' 지원', ' 출산', ' 사회', ' 사업', ' 운영', ' 정책', ' 인구', ' 가정', ' 가족'], '사회:의료_건강': [' 확진자', ' 환자', ' 접종', ' 병원', ' 감염', ' 발생', ' 확진', ' 추가', ' 누적', ' 의료'], '사회:장애인': [' 장애인', ' 지원', ' 복지', ' 시장', ' 센터', ' 운영', ' 시설', ' 사업', ' 사회', ' 장애'], '사회:환경': [' 환경', ' 교육', ' 수질', ' 하천', ' 환경부', ' 지역', ' 관리', ' 먼지', ' 배출', ' 미세'], '스포츠:골프': [' 대회', ' 우승', ' 투어', ' 경기', ' 레이디스', ' 챔피언십', ' 골프', ' 투자', ' 증권', ' 출전'], '스포츠:농구_배구': [' 선수', ' 프로', ' 우승', ' 배구', ' 시즌', ' 경기', ' 구단', ' 감독', ' 숙소', ' 챔피언'], '스포츠:스포츠일반': [' 서울', ' 경기', ' 부산', ' 당첨', ' 전남', ' 강원', ' 골프', ' 잔디', ' 전북', ' 경북'], '스포츠:야구': [' 시즌', ' 경기', ' 챔피언', ' 구단', ' 김종겸', ' 기록', ' 황민경', ' 선수', ' 최종전', ' 우승'], '스포츠:올림픽_아시안게임': [' 대회', ' 선수', ' 경기', ' 우승', ' 경기도', ' 시장', ' 상금', ' 우상혁', ' 종목', ' 육상'], '스포츠:월드컵': [' 경기', ' 대표', ' 대회', ' 축구', ' 감독', ' 클래스', ' 선수', ' 슈퍼레이스', ' 타이어', ' 챔피언십'], '스포츠:축구': [' 축구', ' 선수', ' 경기', ' 대회', ' 감독', ' 우승', ' 시즌', ' 프로', ' 대표', ' 센터'], '정치:국회_정당': [' 의원', ' 대표', ' 후보', ' 국민', ' 민주당', ' 위원장', ' 지역', ' 시장', ' 선거', ' 경기도'], '정치:북한': [' 북한', ' 시장', ' 협력', ' 남북', ' 풍선', ' 평화', ' 교류', ' 지역', ' 통일', ' 경기도'], '정치:선거': [' 후보', ' 선거', ' 국민', ' 시장', ' 지역', ' 민주당', ' 경기', ' 공약', ' 대선', ' 더불어민주당'], '정치:외교': [' 미군', ' 한국', ' 대통령', ' 안보', ' 경기도', ' 북한', ' 미국', ' 확진자', ' 사업', ' 장관'], '정치:정치일반': [' 시장', ' 의원', ' 지역', ' 지원', ' 특례', ' 정책', ' 특례시', ' 이상일', ' 장관', ' 지방'], '정치:청와대': [' 대통령', ' 국민', ' 정부', ' 정책', ' 윤석열', ' 대통령실', ' 재산', ' 민생', ' 지역', ' 이날'], '정치:행정_자치': [' 특례시', ' 지방', ' 의원', ' 특례', ' 국회', ' 자치', ' 시장', ' 권한', ' 개정', ' 인구'], '지역': [' 사업', ' 지원', ' 지역', ' 시장', ' 경기도', ' 계획', ' 조성', ' 도시', ' 추진', ' 진행']}\n"
     ]
    }
   ],
   "source": [
    "top_keywords = extract_top_keywords_by_group(train_df, '분류', '키워드', top_n=10)\n",
    "print(top_keywords)"
   ]
  },
  {
   "cell_type": "code",
   "execution_count": 103,
   "metadata": {},
   "outputs": [],
   "source": [
    "# def remove_single_occurrence_keywords_per_row(df, keyword_column):\n",
    "#     \"\"\"\n",
    "#     데이터프레임의 각 행에서 1번만 쓰인 단어를 제거합니다.\n",
    "#     \"\"\"\n",
    "#     for index, row in df.iterrows():\n",
    "#         if pd.notna(row[keyword_column]):\n",
    "#             keywords_list = row[keyword_column].split(',')\n",
    "#             keyword_counts = Counter(keywords_list)\n",
    "#             filtered_keywords = [keyword for keyword in keywords_list if keyword_counts[keyword] > 1]\n",
    "#             df.at[index, keyword_column] = ','.join(filtered_keywords)\n",
    "    \n",
    "#     return df"
   ]
  },
  {
   "cell_type": "code",
   "execution_count": 104,
   "metadata": {},
   "outputs": [],
   "source": [
    "# train_df = remove_single_occurrence_keywords_per_row(train_df, '키워드')\n",
    "# test_df = remove_single_occurrence_keywords_per_row(test_df, '키워드')"
   ]
  },
  {
   "cell_type": "code",
   "execution_count": 105,
   "metadata": {},
   "outputs": [],
   "source": [
    "# # Get the keywords from the first row\n",
    "# first_row_keywords = test_df.iloc[56]['키워드']\n",
    "# # BEGIN: Find and count repeated keywords\n",
    "\n",
    "# # Split the keywords and count occurrences\n",
    "# keywords_list = first_row_keywords.split(',')\n",
    "# keyword_counts = Counter(keywords_list)\n",
    "\n",
    "# # Find repeated keywords\n",
    "# repeated_keywords = {keyword: count for keyword, count in keyword_counts.items() if count == 1} # 각 행에서 키워드가 1번만 나온 키워드를 찾습니다.\n",
    "# # END:\n",
    "\n",
    "# repeated_keywords"
   ]
  },
  {
   "cell_type": "code",
   "execution_count": 106,
   "metadata": {},
   "outputs": [],
   "source": [
    "# train_df.info()"
   ]
  },
  {
   "cell_type": "code",
   "execution_count": 108,
   "metadata": {},
   "outputs": [
    {
     "data": {
      "text/html": [
       "<div>\n",
       "<style scoped>\n",
       "    .dataframe tbody tr th:only-of-type {\n",
       "        vertical-align: middle;\n",
       "    }\n",
       "\n",
       "    .dataframe tbody tr th {\n",
       "        vertical-align: top;\n",
       "    }\n",
       "\n",
       "    .dataframe thead th {\n",
       "        text-align: right;\n",
       "    }\n",
       "</style>\n",
       "<table border=\"1\" class=\"dataframe\">\n",
       "  <thead>\n",
       "    <tr style=\"text-align: right;\">\n",
       "      <th></th>\n",
       "      <th>ID</th>\n",
       "      <th>분류</th>\n",
       "      <th>제목</th>\n",
       "      <th>키워드</th>\n",
       "    </tr>\n",
       "  </thead>\n",
       "  <tbody>\n",
       "    <tr>\n",
       "      <th>18</th>\n",
       "      <td>TRAIN_00018</td>\n",
       "      <td>경제:서비스_쇼핑</td>\n",
       "      <td>용인특례시 지역 우수농산물과 가공식품 추석맞이 판매</td>\n",
       "      <td>우수농산물, 특례시, 지역, 우수, 농산물, 판매, 가공, 식품, 추석, 맞이, 로...</td>\n",
       "    </tr>\n",
       "    <tr>\n",
       "      <th>19</th>\n",
       "      <td>TRAIN_00019</td>\n",
       "      <td>문화:전시_공연</td>\n",
       "      <td>용인시 어린이날 축제장 찾은 아이들 \"너무 조아용\" 한목소리</td>\n",
       "      <td>축제장, 어린이날, 아이들, 조아용, 한목소리, 엄마, 조아용, 조아용, 아빠, 키...</td>\n",
       "    </tr>\n",
       "    <tr>\n",
       "      <th>67</th>\n",
       "      <td>TRAIN_00067</td>\n",
       "      <td>지역</td>\n",
       "      <td>여권 간편발급 교복지원비 인상...용인시 104개 '시민 만족 서비스' 제공</td>\n",
       "      <td>간편, 발급, 교복지원비, 인상, 시민, 만족, 서비스, 제공, 발급, 간편, 장애...</td>\n",
       "    </tr>\n",
       "    <tr>\n",
       "      <th>121</th>\n",
       "      <td>TRAIN_00121</td>\n",
       "      <td>경제:자원</td>\n",
       "      <td>용인시, 관광형 DRT 브랜드명 '타바용'</td>\n",
       "      <td>용인시, 관광, 브랜드명, 타바용, 한국, 민속촌, 일대, 교통, 거점, 운행, 관...</td>\n",
       "    </tr>\n",
       "    <tr>\n",
       "      <th>244</th>\n",
       "      <td>TRAIN_00244</td>\n",
       "      <td>지역</td>\n",
       "      <td>상복 터진 용인,사람 중심 정책 통했다</td>\n",
       "      <td>상복, 사람, 중심, 정책, 지역, 사업, 세계, 인정, 도시, 각종, 쾌속, 질주...</td>\n",
       "    </tr>\n",
       "    <tr>\n",
       "      <th>...</th>\n",
       "      <td>...</td>\n",
       "      <td>...</td>\n",
       "      <td>...</td>\n",
       "      <td>...</td>\n",
       "    </tr>\n",
       "    <tr>\n",
       "      <th>54245</th>\n",
       "      <td>TRAIN_54245</td>\n",
       "      <td>지역</td>\n",
       "      <td>굿즈 '조아용' 인기몰이 용인시, 수익금 저소득층에 재투자</td>\n",
       "      <td>굿즈, 조아, 인기몰이, 수익금, 소득, 재투자, 고향, 캐릭터, 조아, 굿즈, 답...</td>\n",
       "    </tr>\n",
       "    <tr>\n",
       "      <th>54259</th>\n",
       "      <td>TRAIN_54259</td>\n",
       "      <td>문화:전시_공연</td>\n",
       "      <td>\"용인시민들 모여용! 놀아용! 조아용\" 23~24일 '2023 용인시민 페스타' 개최</td>\n",
       "      <td>용인시민들, 조아용, 페스타, 시민, 개최, 용인특례시, 용인미르스타디움, 시민, ...</td>\n",
       "    </tr>\n",
       "    <tr>\n",
       "      <th>54318</th>\n",
       "      <td>TRAIN_54318</td>\n",
       "      <td>IT_과학:IT_과학일반</td>\n",
       "      <td>에버랜드, '레시 &amp; 조아용' 캐릭터 굿즈 인기폭발</td>\n",
       "      <td>에버랜드, 레시, 조아용, 인기폭발, 캐릭터, 굿즈, 인기, 폭발, 청룡, 용인특례...</td>\n",
       "    </tr>\n",
       "    <tr>\n",
       "      <th>54426</th>\n",
       "      <td>TRAIN_54426</td>\n",
       "      <td>지역</td>\n",
       "      <td>MZ 초딩 사이에 인기몰이하는 ‘조아용’ 시청에 문 연 홍보관 발길 잇따라</td>\n",
       "      <td>인기몰이, 조아용, 시청, 홍보관, 발길, 민원창구, 시청사, 민원, 창구, 조아,...</td>\n",
       "    </tr>\n",
       "    <tr>\n",
       "      <th>54560</th>\n",
       "      <td>TRAIN_54560</td>\n",
       "      <td>지역</td>\n",
       "      <td>용인특례시, 올 추석 고향사랑 기부하면 '벌초 대행 서비스' 제공</td>\n",
       "      <td>용인특례시, 기부, 추석, 고향, 사랑, 서비스, 벌초, 대행, 제공, 용인특례시청...</td>\n",
       "    </tr>\n",
       "  </tbody>\n",
       "</table>\n",
       "<p>768 rows × 4 columns</p>\n",
       "</div>"
      ],
      "text/plain": [
       "                ID             분류  \\\n",
       "18     TRAIN_00018      경제:서비스_쇼핑   \n",
       "19     TRAIN_00019       문화:전시_공연   \n",
       "67     TRAIN_00067             지역   \n",
       "121    TRAIN_00121          경제:자원   \n",
       "244    TRAIN_00244             지역   \n",
       "...            ...            ...   \n",
       "54245  TRAIN_54245             지역   \n",
       "54259  TRAIN_54259       문화:전시_공연   \n",
       "54318  TRAIN_54318  IT_과학:IT_과학일반   \n",
       "54426  TRAIN_54426             지역   \n",
       "54560  TRAIN_54560             지역   \n",
       "\n",
       "                                                    제목  \\\n",
       "18                        용인특례시 지역 우수농산물과 가공식품 추석맞이 판매   \n",
       "19                   용인시 어린이날 축제장 찾은 아이들 \"너무 조아용\" 한목소리   \n",
       "67          여권 간편발급 교복지원비 인상...용인시 104개 '시민 만족 서비스' 제공   \n",
       "121                            용인시, 관광형 DRT 브랜드명 '타바용'   \n",
       "244                              상복 터진 용인,사람 중심 정책 통했다   \n",
       "...                                                ...   \n",
       "54245                 굿즈 '조아용' 인기몰이 용인시, 수익금 저소득층에 재투자   \n",
       "54259  \"용인시민들 모여용! 놀아용! 조아용\" 23~24일 '2023 용인시민 페스타' 개최   \n",
       "54318                     에버랜드, '레시 & 조아용' 캐릭터 굿즈 인기폭발   \n",
       "54426        MZ 초딩 사이에 인기몰이하는 ‘조아용’ 시청에 문 연 홍보관 발길 잇따라   \n",
       "54560             용인특례시, 올 추석 고향사랑 기부하면 '벌초 대행 서비스' 제공   \n",
       "\n",
       "                                                     키워드  \n",
       "18     우수농산물, 특례시, 지역, 우수, 농산물, 판매, 가공, 식품, 추석, 맞이, 로...  \n",
       "19     축제장, 어린이날, 아이들, 조아용, 한목소리, 엄마, 조아용, 조아용, 아빠, 키...  \n",
       "67     간편, 발급, 교복지원비, 인상, 시민, 만족, 서비스, 제공, 발급, 간편, 장애...  \n",
       "121    용인시, 관광, 브랜드명, 타바용, 한국, 민속촌, 일대, 교통, 거점, 운행, 관...  \n",
       "244    상복, 사람, 중심, 정책, 지역, 사업, 세계, 인정, 도시, 각종, 쾌속, 질주...  \n",
       "...                                                  ...  \n",
       "54245  굿즈, 조아, 인기몰이, 수익금, 소득, 재투자, 고향, 캐릭터, 조아, 굿즈, 답...  \n",
       "54259  용인시민들, 조아용, 페스타, 시민, 개최, 용인특례시, 용인미르스타디움, 시민, ...  \n",
       "54318  에버랜드, 레시, 조아용, 인기폭발, 캐릭터, 굿즈, 인기, 폭발, 청룡, 용인특례...  \n",
       "54426  인기몰이, 조아용, 시청, 홍보관, 발길, 민원창구, 시청사, 민원, 창구, 조아,...  \n",
       "54560  용인특례시, 기부, 추석, 고향, 사랑, 서비스, 벌초, 대행, 제공, 용인특례시청...  \n",
       "\n",
       "[768 rows x 4 columns]"
      ]
     },
     "execution_count": 108,
     "metadata": {},
     "output_type": "execute_result"
    }
   ],
   "source": [
    "def extract_rows_with_keyword(df, keyword_column, keyword_to_find):\n",
    "    \"\"\"\n",
    "    데이터프레임의 각 행에서 특정 키워드가 포함된 행을 추출합니다.\n",
    "    \"\"\"\n",
    "    df = df[df[keyword_column].str.contains(keyword_to_find, na=False)]\n",
    "    return df\n",
    "\n",
    "# 사용 예시\n",
    "#d_f = pd.DataFrame({'키워드': ['사과,바나나,조아용,11명', '오렌지,포도,용인,3사람', '딸기,키위,abc123,한글영어123']})\n",
    "keyword_to_find = ' 조아'\n",
    "df = extract_rows_with_keyword(train_df, '키워드', keyword_to_find)\n",
    "\n",
    "df"
   ]
  },
  {
   "cell_type": "code",
   "execution_count": 109,
   "metadata": {},
   "outputs": [
    {
     "data": {
      "text/plain": [
       "분류\n",
       "지역               324\n",
       "문화:전시_공연          76\n",
       "IT_과학:IT_과학일반     40\n",
       "IT_과학:인터넷_SNS     39\n",
       "경제:서비스_쇼핑         34\n",
       "경제:유통             32\n",
       "경제:반도체            25\n",
       "스포츠:골프            22\n",
       "경제:경제일반           19\n",
       "문화:방송_연예          17\n",
       "경제:자동차            16\n",
       "IT_과학:콘텐츠         12\n",
       "사회:교육_시험          12\n",
       "IT_과학:모바일         10\n",
       "문화:요리_여행          10\n",
       "문화:문화일반            9\n",
       "문화:생활              9\n",
       "경제:자원              9\n",
       "경제:취업_창업           9\n",
       "정치:국회_정당           8\n",
       "사회:사회일반            5\n",
       "경제:산업_기업           4\n",
       "사회:장애인             4\n",
       "스포츠:올림픽_아시안게임      4\n",
       "정치:정치일반            3\n",
       "사회:환경              2\n",
       "문화:미술_건축           2\n",
       "사회:여성              2\n",
       "경제:무역              2\n",
       "문화:출판              2\n",
       "국제                 1\n",
       "문화:종교              1\n",
       "사회:사건_사고           1\n",
       "스포츠:스포츠일반          1\n",
       "문화:영화              1\n",
       "스포츠:월드컵            1\n",
       "Name: count, dtype: int64"
      ]
     },
     "execution_count": 109,
     "metadata": {},
     "output_type": "execute_result"
    }
   ],
   "source": [
    "df['분류'].value_counts()"
   ]
  },
  {
   "cell_type": "code",
   "execution_count": 110,
   "metadata": {},
   "outputs": [
    {
     "name": "stdout",
     "output_type": "stream",
     "text": [
      "<class 'pandas.core.frame.DataFrame'>\n",
      "RangeIndex: 23405 entries, 0 to 23404\n",
      "Data columns (total 3 columns):\n",
      " #   Column  Non-Null Count  Dtype \n",
      "---  ------  --------------  ----- \n",
      " 0   ID      23405 non-null  object\n",
      " 1   제목      23405 non-null  object\n",
      " 2   키워드     23405 non-null  object\n",
      "dtypes: object(3)\n",
      "memory usage: 548.7+ KB\n"
     ]
    }
   ],
   "source": [
    "test_df.info()"
   ]
  },
  {
   "cell_type": "code",
   "execution_count": 183,
   "metadata": {},
   "outputs": [],
   "source": [
    "test_df.to_csv('C:/Users/KimDongyoung/Desktop/GBT해커톤/GBT_hackerton/code/dongyoung/test_df_1002.csv')\n",
    "train_df.to_csv('C:/Users/KimDongyoung/Desktop/GBT해커톤/GBT_hackerton/code/dongyoung/train_df_1002.csv')"
   ]
  },
  {
   "cell_type": "code",
   "execution_count": 184,
   "metadata": {},
   "outputs": [],
   "source": [
    "test_df = pd.read_csv('C:/Users/KimDongyoung/Desktop/GBT해커톤/GBT_hackerton/code/dongyoung/test_df_1002.csv')"
   ]
  },
  {
   "cell_type": "code",
   "execution_count": 185,
   "metadata": {},
   "outputs": [
    {
     "data": {
      "text/plain": [
       "ID     0\n",
       "분류     0\n",
       "제목     0\n",
       "키워드    0\n",
       "dtype: int64"
      ]
     },
     "execution_count": 185,
     "metadata": {},
     "output_type": "execute_result"
    }
   ],
   "source": [
    "train_df.isna().sum()"
   ]
  },
  {
   "cell_type": "code",
   "execution_count": 186,
   "metadata": {},
   "outputs": [
    {
     "data": {
      "text/html": [
       "<div>\n",
       "<style scoped>\n",
       "    .dataframe tbody tr th:only-of-type {\n",
       "        vertical-align: middle;\n",
       "    }\n",
       "\n",
       "    .dataframe tbody tr th {\n",
       "        vertical-align: top;\n",
       "    }\n",
       "\n",
       "    .dataframe thead th {\n",
       "        text-align: right;\n",
       "    }\n",
       "</style>\n",
       "<table border=\"1\" class=\"dataframe\">\n",
       "  <thead>\n",
       "    <tr style=\"text-align: right;\">\n",
       "      <th></th>\n",
       "      <th>Unnamed: 0</th>\n",
       "      <th>ID</th>\n",
       "      <th>제목</th>\n",
       "      <th>키워드</th>\n",
       "    </tr>\n",
       "  </thead>\n",
       "  <tbody>\n",
       "    <tr>\n",
       "      <th>0</th>\n",
       "      <td>0</td>\n",
       "      <td>TEST_00000</td>\n",
       "      <td>[부고] 김태수씨 별세 외</td>\n",
       "      <td>김태수, 별세, 김태수씨, 서울, 광남초등학, 교장, 별세, 김윤정, 이노코리아, ...</td>\n",
       "    </tr>\n",
       "    <tr>\n",
       "      <th>1</th>\n",
       "      <td>1</td>\n",
       "      <td>TEST_00001</td>\n",
       "      <td>신규 확진 나흘째 세자릿수... 방역당국, 핼러윈 풍선효과 차단 총력</td>\n",
       "      <td>신규, 확진, 나흘, 세자릿수, 방역당국, 핼러윈, 풍선, 효과, 차단, 총력, 감...</td>\n",
       "    </tr>\n",
       "    <tr>\n",
       "      <th>2</th>\n",
       "      <td>2</td>\n",
       "      <td>TEST_00002</td>\n",
       "      <td>[서경이 만난 사람] 전해철 장관 \"재정분권 강화 '지방자치 2.0 시대' 마중물 ...</td>\n",
       "      <td>전해철, 장관, 재정, 분권, 강화, 지방자치, 시대, 마중물, 마련, 장관, 전해...</td>\n",
       "    </tr>\n",
       "    <tr>\n",
       "      <th>3</th>\n",
       "      <td>3</td>\n",
       "      <td>TEST_00003</td>\n",
       "      <td>용인시, 12일 '장애인 구인 구직 만남의 날' 채용 행사</td>\n",
       "      <td>용인시, 구인, 장애인, 구직, 만남, 채용, 행사, 노호근, 용인특례시, 장애인,...</td>\n",
       "    </tr>\n",
       "    <tr>\n",
       "      <th>4</th>\n",
       "      <td>4</td>\n",
       "      <td>TEST_00004</td>\n",
       "      <td>지자체 벽 터 경기지역 산단 활성화 모색</td>\n",
       "      <td>지자체, 경기, 북동부, 지역, 산업단지, 혁신단위, 설정, 전략, 지역, 연계, ...</td>\n",
       "    </tr>\n",
       "    <tr>\n",
       "      <th>...</th>\n",
       "      <td>...</td>\n",
       "      <td>...</td>\n",
       "      <td>...</td>\n",
       "      <td>...</td>\n",
       "    </tr>\n",
       "    <tr>\n",
       "      <th>23400</th>\n",
       "      <td>23400</td>\n",
       "      <td>TEST_23400</td>\n",
       "      <td>코로나19 감염 경로 '조사중' 32.4% 최고치 일상감염 지속</td>\n",
       "      <td>감염, 경로, 조사, 최고, 일상감염, 지속, 기준, 확진자, 기준, 신규, 집계,...</td>\n",
       "    </tr>\n",
       "    <tr>\n",
       "      <th>23401</th>\n",
       "      <td>23401</td>\n",
       "      <td>TEST_23401</td>\n",
       "      <td>“여행 외식해라” vs “모임 자제하라” 시민들 “어쩌란 건가” 혼란</td>\n",
       "      <td>여행, 외식, 자제, 모임, 시민들, 혼란, 인천국제공항, 아시아나항공, 한반도, ...</td>\n",
       "    </tr>\n",
       "    <tr>\n",
       "      <th>23402</th>\n",
       "      <td>23402</td>\n",
       "      <td>TEST_23402</td>\n",
       "      <td>송철호 울산시장 배우자 용인 임야 쪼개기 매입 의혹</td>\n",
       "      <td>임야, 송철호, 울산, 시장, 배우자, 매입, 의혹, 송철호, 울산, 시장, 배우자...</td>\n",
       "    </tr>\n",
       "    <tr>\n",
       "      <th>23403</th>\n",
       "      <td>23403</td>\n",
       "      <td>TEST_23403</td>\n",
       "      <td>여직원 배에 '자궁 모형' 올리고 사진 찍어 홍보용으로 쓴 한의사</td>\n",
       "      <td>여직원, 자궁, 모형, 사진, 홍보용, 한의사, 한의원, 간호조무사, 동의, 자궁,...</td>\n",
       "    </tr>\n",
       "    <tr>\n",
       "      <th>23404</th>\n",
       "      <td>23404</td>\n",
       "      <td>TEST_23404</td>\n",
       "      <td>용인시, 팜 앤 포레스트 조성 '급물살'</td>\n",
       "      <td>용인시, 급물살, 포레스트, 조성, 관광휴양복합단지, 특례, 농어촌, 관광, 휴양,...</td>\n",
       "    </tr>\n",
       "  </tbody>\n",
       "</table>\n",
       "<p>23405 rows × 4 columns</p>\n",
       "</div>"
      ],
      "text/plain": [
       "       Unnamed: 0          ID  \\\n",
       "0               0  TEST_00000   \n",
       "1               1  TEST_00001   \n",
       "2               2  TEST_00002   \n",
       "3               3  TEST_00003   \n",
       "4               4  TEST_00004   \n",
       "...           ...         ...   \n",
       "23400       23400  TEST_23400   \n",
       "23401       23401  TEST_23401   \n",
       "23402       23402  TEST_23402   \n",
       "23403       23403  TEST_23403   \n",
       "23404       23404  TEST_23404   \n",
       "\n",
       "                                                      제목  \\\n",
       "0                                         [부고] 김태수씨 별세 외   \n",
       "1                 신규 확진 나흘째 세자릿수... 방역당국, 핼러윈 풍선효과 차단 총력   \n",
       "2      [서경이 만난 사람] 전해철 장관 \"재정분권 강화 '지방자치 2.0 시대' 마중물 ...   \n",
       "3                       용인시, 12일 '장애인 구인 구직 만남의 날' 채용 행사   \n",
       "4                                 지자체 벽 터 경기지역 산단 활성화 모색   \n",
       "...                                                  ...   \n",
       "23400                코로나19 감염 경로 '조사중' 32.4% 최고치 일상감염 지속   \n",
       "23401             “여행 외식해라” vs “모임 자제하라” 시민들 “어쩌란 건가” 혼란   \n",
       "23402                       송철호 울산시장 배우자 용인 임야 쪼개기 매입 의혹   \n",
       "23403               여직원 배에 '자궁 모형' 올리고 사진 찍어 홍보용으로 쓴 한의사   \n",
       "23404                             용인시, 팜 앤 포레스트 조성 '급물살'   \n",
       "\n",
       "                                                     키워드  \n",
       "0      김태수, 별세, 김태수씨, 서울, 광남초등학, 교장, 별세, 김윤정, 이노코리아, ...  \n",
       "1      신규, 확진, 나흘, 세자릿수, 방역당국, 핼러윈, 풍선, 효과, 차단, 총력, 감...  \n",
       "2      전해철, 장관, 재정, 분권, 강화, 지방자치, 시대, 마중물, 마련, 장관, 전해...  \n",
       "3      용인시, 구인, 장애인, 구직, 만남, 채용, 행사, 노호근, 용인특례시, 장애인,...  \n",
       "4      지자체, 경기, 북동부, 지역, 산업단지, 혁신단위, 설정, 전략, 지역, 연계, ...  \n",
       "...                                                  ...  \n",
       "23400  감염, 경로, 조사, 최고, 일상감염, 지속, 기준, 확진자, 기준, 신규, 집계,...  \n",
       "23401  여행, 외식, 자제, 모임, 시민들, 혼란, 인천국제공항, 아시아나항공, 한반도, ...  \n",
       "23402  임야, 송철호, 울산, 시장, 배우자, 매입, 의혹, 송철호, 울산, 시장, 배우자...  \n",
       "23403  여직원, 자궁, 모형, 사진, 홍보용, 한의사, 한의원, 간호조무사, 동의, 자궁,...  \n",
       "23404  용인시, 급물살, 포레스트, 조성, 관광휴양복합단지, 특례, 농어촌, 관광, 휴양,...  \n",
       "\n",
       "[23405 rows x 4 columns]"
      ]
     },
     "execution_count": 186,
     "metadata": {},
     "output_type": "execute_result"
    }
   ],
   "source": [
    "test_df"
   ]
  },
  {
   "cell_type": "code",
   "execution_count": 189,
   "metadata": {},
   "outputs": [
    {
     "data": {
      "text/html": [
       "<div>\n",
       "<style scoped>\n",
       "    .dataframe tbody tr th:only-of-type {\n",
       "        vertical-align: middle;\n",
       "    }\n",
       "\n",
       "    .dataframe tbody tr th {\n",
       "        vertical-align: top;\n",
       "    }\n",
       "\n",
       "    .dataframe thead th {\n",
       "        text-align: right;\n",
       "    }\n",
       "</style>\n",
       "<table border=\"1\" class=\"dataframe\">\n",
       "  <thead>\n",
       "    <tr style=\"text-align: right;\">\n",
       "      <th></th>\n",
       "      <th>키워드</th>\n",
       "    </tr>\n",
       "  </thead>\n",
       "  <tbody>\n",
       "    <tr>\n",
       "      <th>0</th>\n",
       "      <td>사과,바나나,용인시,11명,바나나,딸기,포도,오렌지,키위,망고,수박,참외,복숭아,자...</td>\n",
       "    </tr>\n",
       "    <tr>\n",
       "      <th>1</th>\n",
       "      <td>오렌지,포도,용인,3사람,사과,바나나,딸기,키위,abc123</td>\n",
       "    </tr>\n",
       "    <tr>\n",
       "      <th>2</th>\n",
       "      <td>딸기,딸기,키위,abc123,한글영어123,사과,바나나,포도,오렌지,키위,망고,수박...</td>\n",
       "    </tr>\n",
       "  </tbody>\n",
       "</table>\n",
       "</div>"
      ],
      "text/plain": [
       "                                                 키워드\n",
       "0  사과,바나나,용인시,11명,바나나,딸기,포도,오렌지,키위,망고,수박,참외,복숭아,자...\n",
       "1                  오렌지,포도,용인,3사람,사과,바나나,딸기,키위,abc123\n",
       "2  딸기,딸기,키위,abc123,한글영어123,사과,바나나,포도,오렌지,키위,망고,수박..."
      ]
     },
     "execution_count": 189,
     "metadata": {},
     "output_type": "execute_result"
    }
   ],
   "source": [
    "def extract_first_n_keywords(df, keyword_column, n=20):\n",
    "    \"\"\"\n",
    "    데이터프레임의 '키워드' 컬럼에서 각 행의 맨 처음 n개 단어를 추출합니다.\n",
    "    \"\"\"\n",
    "    for index, row in df.iterrows():\n",
    "        if pd.notna(row[keyword_column]):\n",
    "            keywords_list = row[keyword_column].split(',')\n",
    "            first_n_keywords = keywords_list[:n]\n",
    "            df.at[index, keyword_column] = ','.join(first_n_keywords)\n",
    "    \n",
    "    return df\n",
    "\n",
    "# 사용 예시\n",
    "train_ = pd.DataFrame({\n",
    "    '키워드': [\n",
    "        '사과,바나나,용인시,11명,바나나,딸기,포도,오렌지,키위,망고,수박,참외,복숭아,자두,체리,블루베리,라즈베리,크랜베리,구아바,파파야,리치,두리안',\n",
    "        '오렌지,포도,용인,3사람,사과,바나나,딸기,키위,abc123',\n",
    "        '딸기,딸기,키위,abc123,한글영어123,사과,바나나,포도,오렌지,키위,망고,수박,참외,복숭아,자두,체리,블루베리,라즈베리,크랜베리,구아바,파파야,리치,두리안'\n",
    "    ]\n",
    "})\n",
    "train_ = extract_first_n_keywords(train_, '키워드', 20)\n",
    "train_"
   ]
  },
  {
   "cell_type": "code",
   "execution_count": 190,
   "metadata": {},
   "outputs": [],
   "source": [
    "train_extrct_df = extract_first_n_keywords(train_df, '키워드', 20)"
   ]
  },
  {
   "cell_type": "code",
   "execution_count": 192,
   "metadata": {},
   "outputs": [
    {
     "name": "stdout",
     "output_type": "stream",
     "text": [
      "정권, 이성, 집단, 안보, 윤석열, 대통령, 을지, 자유, 방패, 연습, 정권, 북한, 도발, 감행, 지구상, 비이성적, 집단, 안보, 태세, 오판\n"
     ]
    }
   ],
   "source": [
    "# 인덱스 5번의 키워드 컬럼 전체를 출력\n",
    "index = 56\n",
    "if index in train_extrct_df.index:\n",
    "    print(train_extrct_df.loc[index, '키워드'])\n",
    "else:\n",
    "    print(f\"인덱스 {index}가 데이터프레임에 존재하지 않습니다.\")"
   ]
  }
 ],
 "metadata": {
  "kernelspec": {
   "display_name": "Python 3 (ipykernel)",
   "language": "python",
   "name": "python3"
  },
  "language_info": {
   "codemirror_mode": {
    "name": "ipython",
    "version": 3
   },
   "file_extension": ".py",
   "mimetype": "text/x-python",
   "name": "python",
   "nbconvert_exporter": "python",
   "pygments_lexer": "ipython3",
   "version": "3.12.0"
  }
 },
 "nbformat": 4,
 "nbformat_minor": 4
}
