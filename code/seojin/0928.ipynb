{
 "cells": [
  {
   "cell_type": "code",
   "execution_count": null,
   "id": "a32aa492",
   "metadata": {},
   "outputs": [],
   "source": [
    "# train 키워드 빈도수 n개 이상 남기기"
   ]
  },
  {
   "cell_type": "code",
   "execution_count": 24,
   "id": "343bb9fd",
   "metadata": {},
   "outputs": [],
   "source": [
    "import pandas as pd\n",
    "from collections import Counter"
   ]
  },
  {
   "cell_type": "code",
   "execution_count": 36,
   "id": "2991ef04",
   "metadata": {},
   "outputs": [],
   "source": [
    "train_df = pd.read_csv('../data/train.csv')\n",
    "test_df = pd.read_csv('../data/test.csv')"
   ]
  },
  {
   "cell_type": "code",
   "execution_count": 37,
   "id": "ad3e0b6f",
   "metadata": {},
   "outputs": [
    {
     "data": {
      "text/html": [
       "<div>\n",
       "<style scoped>\n",
       "    .dataframe tbody tr th:only-of-type {\n",
       "        vertical-align: middle;\n",
       "    }\n",
       "\n",
       "    .dataframe tbody tr th {\n",
       "        vertical-align: top;\n",
       "    }\n",
       "\n",
       "    .dataframe thead th {\n",
       "        text-align: right;\n",
       "    }\n",
       "</style>\n",
       "<table border=\"1\" class=\"dataframe\">\n",
       "  <thead>\n",
       "    <tr style=\"text-align: right;\">\n",
       "      <th></th>\n",
       "      <th>ID</th>\n",
       "      <th>분류</th>\n",
       "      <th>제목</th>\n",
       "      <th>키워드</th>\n",
       "    </tr>\n",
       "  </thead>\n",
       "  <tbody>\n",
       "    <tr>\n",
       "      <th>0</th>\n",
       "      <td>TRAIN_00000</td>\n",
       "      <td>문화:전시_공연</td>\n",
       "      <td>용인문화재단, 인문학 콘서트 ‘당신이 모르는 뮤지컬 이야기Ⅳ’ 개최</td>\n",
       "      <td>용인문화재단,인문학,콘서트,뮤지컬,이야기,개최,인문학,콘서트,뮤지컬,이야기,용인문화...</td>\n",
       "    </tr>\n",
       "    <tr>\n",
       "      <th>1</th>\n",
       "      <td>TRAIN_00001</td>\n",
       "      <td>지역</td>\n",
       "      <td>용인 농촌테마파크, 7~8월 단체체험객 체험료 지원</td>\n",
       "      <td>용인,농촌,테마파크,단체,체험객,체험료,지원,15일,체험일,기준,용인시통합예약사이트...</td>\n",
       "    </tr>\n",
       "    <tr>\n",
       "      <th>2</th>\n",
       "      <td>TRAIN_00002</td>\n",
       "      <td>지역</td>\n",
       "      <td>용인시, 노후주택 에너지 성능 개선 신청 18일까지 연장</td>\n",
       "      <td>용인시,노후,주택,에너지,성능,개선,신청,연장,용인시청,용인시,노후,건축물,환경친화...</td>\n",
       "    </tr>\n",
       "    <tr>\n",
       "      <th>3</th>\n",
       "      <td>TRAIN_00003</td>\n",
       "      <td>지역</td>\n",
       "      <td>수원 용인 고양시,‘특례시’로 지정 도시경쟁력 증가 기대</td>\n",
       "      <td>수원,용인,고양시,특례시,지정,도시경쟁력,증가,경기,도내,인구,수원,고양,용인시,특...</td>\n",
       "    </tr>\n",
       "    <tr>\n",
       "      <th>4</th>\n",
       "      <td>TRAIN_00004</td>\n",
       "      <td>국제</td>\n",
       "      <td>용인시, 스페인 미국 국제명예자문관 위촉 대외홍보 지원 역할</td>\n",
       "      <td>용인시,스페인,미국,국제,명예,자문관,위촉,역할,대외,홍보,지원,용인시,권태면,주코...</td>\n",
       "    </tr>\n",
       "  </tbody>\n",
       "</table>\n",
       "</div>"
      ],
      "text/plain": [
       "            ID        분류                                     제목  \\\n",
       "0  TRAIN_00000  문화:전시_공연  용인문화재단, 인문학 콘서트 ‘당신이 모르는 뮤지컬 이야기Ⅳ’ 개최   \n",
       "1  TRAIN_00001        지역           용인 농촌테마파크, 7~8월 단체체험객 체험료 지원   \n",
       "2  TRAIN_00002        지역        용인시, 노후주택 에너지 성능 개선 신청 18일까지 연장   \n",
       "3  TRAIN_00003        지역        수원 용인 고양시,‘특례시’로 지정 도시경쟁력 증가 기대   \n",
       "4  TRAIN_00004        국제      용인시, 스페인 미국 국제명예자문관 위촉 대외홍보 지원 역할   \n",
       "\n",
       "                                                 키워드  \n",
       "0  용인문화재단,인문학,콘서트,뮤지컬,이야기,개최,인문학,콘서트,뮤지컬,이야기,용인문화...  \n",
       "1  용인,농촌,테마파크,단체,체험객,체험료,지원,15일,체험일,기준,용인시통합예약사이트...  \n",
       "2  용인시,노후,주택,에너지,성능,개선,신청,연장,용인시청,용인시,노후,건축물,환경친화...  \n",
       "3  수원,용인,고양시,특례시,지정,도시경쟁력,증가,경기,도내,인구,수원,고양,용인시,특...  \n",
       "4  용인시,스페인,미국,국제,명예,자문관,위촉,역할,대외,홍보,지원,용인시,권태면,주코...  "
      ]
     },
     "execution_count": 37,
     "metadata": {},
     "output_type": "execute_result"
    }
   ],
   "source": [
    "train_df.head()"
   ]
  },
  {
   "cell_type": "code",
   "execution_count": 38,
   "id": "e2712867",
   "metadata": {},
   "outputs": [
    {
     "data": {
      "text/plain": [
       "330"
      ]
     },
     "execution_count": 38,
     "metadata": {},
     "output_type": "execute_result"
    }
   ],
   "source": [
    "len(train_df.키워드[0])"
   ]
  },
  {
   "cell_type": "code",
   "execution_count": 39,
   "id": "66c130a4",
   "metadata": {},
   "outputs": [],
   "source": [
    "def get_keyword_counts_by_class(df):\n",
    "    \"\"\"주어진 DataFrame에서 분류별로 키워드를 세고 반환합니다.\"\"\"\n",
    "    class_keyword_counts = {}\n",
    "    \n",
    "    for label in df['분류'].unique():\n",
    "        class_df = df[df['분류'] == label]\n",
    "        keywords = class_df['키워드'].str.split(',')\n",
    "        all_keywords = [keyword for sublist in keywords for keyword in sublist]\n",
    "        keyword_counts = Counter(all_keywords)\n",
    "        class_keyword_counts[label] = keyword_counts\n",
    "    \n",
    "    return class_keyword_counts"
   ]
  },
  {
   "cell_type": "code",
   "execution_count": 40,
   "id": "cd26d272",
   "metadata": {},
   "outputs": [],
   "source": [
    "# keyword_df = get_keyword_counts_by_class(train_df)\n",
    "# keyword_df"
   ]
  },
  {
   "cell_type": "code",
   "execution_count": 41,
   "id": "a3d6cd71",
   "metadata": {},
   "outputs": [],
   "source": [
    "def filter_keywords_by_class_count(df, min_count):\n",
    "    \"\"\"키워드가 min_count 이상인 것만 남기는 DataFrame을 반환합니다.\"\"\"\n",
    "    class_keyword_counts = get_keyword_counts_by_class(df)\n",
    "    \n",
    "    # 분류별로 3회 이하인 키워드 찾기\n",
    "    low_count_keywords = {}\n",
    "    for label, counts in class_keyword_counts.items():\n",
    "        low_count_keywords[label] = {keyword for keyword, count in counts.items() if count <= min_count}\n",
    "    \n",
    "    # DataFrame의 키워드에서 각 분류별로 low_count_keywords를 제거합니다.\n",
    "    def filter_keywords(row):\n",
    "        keywords = row['키워드'].split(',')\n",
    "        filtered_keywords = [keyword for keyword in keywords if keyword not in low_count_keywords[row['분류']]]\n",
    "        return ','.join(filtered_keywords)\n",
    "\n",
    "    # 필터링된 키워드로 업데이트\n",
    "    df['키워드'] = df.apply(filter_keywords, axis=1)\n",
    "    return df"
   ]
  },
  {
   "cell_type": "code",
   "execution_count": 42,
   "id": "bf9651d0",
   "metadata": {},
   "outputs": [
    {
     "data": {
      "text/html": [
       "<div>\n",
       "<style scoped>\n",
       "    .dataframe tbody tr th:only-of-type {\n",
       "        vertical-align: middle;\n",
       "    }\n",
       "\n",
       "    .dataframe tbody tr th {\n",
       "        vertical-align: top;\n",
       "    }\n",
       "\n",
       "    .dataframe thead th {\n",
       "        text-align: right;\n",
       "    }\n",
       "</style>\n",
       "<table border=\"1\" class=\"dataframe\">\n",
       "  <thead>\n",
       "    <tr style=\"text-align: right;\">\n",
       "      <th></th>\n",
       "      <th>ID</th>\n",
       "      <th>분류</th>\n",
       "      <th>제목</th>\n",
       "      <th>키워드</th>\n",
       "    </tr>\n",
       "  </thead>\n",
       "  <tbody>\n",
       "    <tr>\n",
       "      <th>0</th>\n",
       "      <td>TRAIN_00000</td>\n",
       "      <td>문화:전시_공연</td>\n",
       "      <td>용인문화재단, 인문학 콘서트 ‘당신이 모르는 뮤지컬 이야기Ⅳ’ 개최</td>\n",
       "      <td>용인문화재단,인문학,콘서트,뮤지컬,이야기,개최,인문학,콘서트,뮤지컬,이야기,용인문화...</td>\n",
       "    </tr>\n",
       "    <tr>\n",
       "      <th>1</th>\n",
       "      <td>TRAIN_00001</td>\n",
       "      <td>지역</td>\n",
       "      <td>용인 농촌테마파크, 7~8월 단체체험객 체험료 지원</td>\n",
       "      <td>용인,농촌,테마파크,단체,체험객,체험료,지원,15일,체험일,기준,용인시통합예약사이트...</td>\n",
       "    </tr>\n",
       "    <tr>\n",
       "      <th>2</th>\n",
       "      <td>TRAIN_00002</td>\n",
       "      <td>지역</td>\n",
       "      <td>용인시, 노후주택 에너지 성능 개선 신청 18일까지 연장</td>\n",
       "      <td>용인시,노후,주택,에너지,성능,개선,신청,연장,용인시청,용인시,노후,건축물,환경친화...</td>\n",
       "    </tr>\n",
       "    <tr>\n",
       "      <th>3</th>\n",
       "      <td>TRAIN_00003</td>\n",
       "      <td>지역</td>\n",
       "      <td>수원 용인 고양시,‘특례시’로 지정 도시경쟁력 증가 기대</td>\n",
       "      <td>수원,용인,고양시,특례시,지정,도시경쟁력,증가,경기,도내,인구,수원,고양,용인시,특...</td>\n",
       "    </tr>\n",
       "    <tr>\n",
       "      <th>4</th>\n",
       "      <td>TRAIN_00004</td>\n",
       "      <td>국제</td>\n",
       "      <td>용인시, 스페인 미국 국제명예자문관 위촉 대외홍보 지원 역할</td>\n",
       "      <td>용인시,스페인,미국,국제,명예,자문관,위촉,역할,대외,홍보,지원,용인시,권태면,대사...</td>\n",
       "    </tr>\n",
       "  </tbody>\n",
       "</table>\n",
       "</div>"
      ],
      "text/plain": [
       "            ID        분류                                     제목  \\\n",
       "0  TRAIN_00000  문화:전시_공연  용인문화재단, 인문학 콘서트 ‘당신이 모르는 뮤지컬 이야기Ⅳ’ 개최   \n",
       "1  TRAIN_00001        지역           용인 농촌테마파크, 7~8월 단체체험객 체험료 지원   \n",
       "2  TRAIN_00002        지역        용인시, 노후주택 에너지 성능 개선 신청 18일까지 연장   \n",
       "3  TRAIN_00003        지역        수원 용인 고양시,‘특례시’로 지정 도시경쟁력 증가 기대   \n",
       "4  TRAIN_00004        국제      용인시, 스페인 미국 국제명예자문관 위촉 대외홍보 지원 역할   \n",
       "\n",
       "                                                 키워드  \n",
       "0  용인문화재단,인문학,콘서트,뮤지컬,이야기,개최,인문학,콘서트,뮤지컬,이야기,용인문화...  \n",
       "1  용인,농촌,테마파크,단체,체험객,체험료,지원,15일,체험일,기준,용인시통합예약사이트...  \n",
       "2  용인시,노후,주택,에너지,성능,개선,신청,연장,용인시청,용인시,노후,건축물,환경친화...  \n",
       "3  수원,용인,고양시,특례시,지정,도시경쟁력,증가,경기,도내,인구,수원,고양,용인시,특...  \n",
       "4  용인시,스페인,미국,국제,명예,자문관,위촉,역할,대외,홍보,지원,용인시,권태면,대사...  "
      ]
     },
     "execution_count": 42,
     "metadata": {},
     "output_type": "execute_result"
    }
   ],
   "source": [
    "filter_df = filter_keywords_by_class_count(train_df, min_count=3)\n",
    "filter_df.head()"
   ]
  },
  {
   "cell_type": "code",
   "execution_count": 43,
   "id": "8b5fc76d",
   "metadata": {},
   "outputs": [
    {
     "data": {
      "text/plain": [
       "315"
      ]
     },
     "execution_count": 43,
     "metadata": {},
     "output_type": "execute_result"
    }
   ],
   "source": [
    "len(filter_df.키워드[0])"
   ]
  },
  {
   "cell_type": "code",
   "execution_count": null,
   "id": "51a9b6f5",
   "metadata": {},
   "outputs": [],
   "source": []
  }
 ],
 "metadata": {
  "kernelspec": {
   "display_name": "Python 3 (ipykernel)",
   "language": "python",
   "name": "python3"
  },
  "language_info": {
   "codemirror_mode": {
    "name": "ipython",
    "version": 3
   },
   "file_extension": ".py",
   "mimetype": "text/x-python",
   "name": "python",
   "nbconvert_exporter": "python",
   "pygments_lexer": "ipython3",
   "version": "3.11.5"
  }
 },
 "nbformat": 4,
 "nbformat_minor": 5
}
