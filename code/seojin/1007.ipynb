{
  "nbformat": 4,
  "nbformat_minor": 0,
  "metadata": {
    "colab": {
      "provenance": []
    },
    "kernelspec": {
      "name": "python3",
      "display_name": "Python 3"
    },
    "language_info": {
      "name": "python"
    }
  },
  "cells": [
    {
      "cell_type": "code",
      "execution_count": null,
      "metadata": {
        "id": "cZG5-Z5eSta5"
      },
      "outputs": [],
      "source": [
        "# 불용어 제거\n",
        "removed_keywords = []\n",
        "\n",
        "def remove_invalid_keywords(keywords):\n",
        "    pattern = re.compile(\n",
        "        r'[0-9]+[가-힣\\u4E00-\\u9FFF]+|'     # 숫자+한글\n",
        "        r'[0-9]+[A-Za-z]+|'                 # 숫자+영어\n",
        "        r'[가-힣]+[0-9]+|'                  # 한글+숫자\n",
        "        r'[A-Za-z]+[0-9]+|'                 # 영어+숫자\n",
        "\n",
        "        r'[\\u4E00-\\u9FFF]+|'                # 한자\n",
        "        r'[0-9]+(\\.[0-9]+)?%|'              # 숫자+퍼센트\n",
        "        r'[0-9]+'                          # 숫자\n",
        "    )\n",
        "    valid_keywords = []\n",
        "    exceptions = ['코로나19', 'RE100', 'GS25','3D','G90', 'XM3',\n",
        "    'GV70', 'GV80', 'KF94', 'QM6', 'EV6',\n",
        "    'HBM', 'IFRS17', 'COP26', 'COP27', 'COP28',\n",
        "    'B2B', 'H5N', 'B2C', 'P2P']\n",
        "    for word in keywords.split(','):\n",
        "        word = word.strip()\n",
        "        if not word or pattern.match(word):  # 공백이거나 패턴에 맞는 단어 제거\n",
        "            if word not in exceptions:  # 예외 처리\n",
        "                removed_keywords.append(word)\n",
        "            else:\n",
        "                valid_keywords.append(word)\n",
        "        else:\n",
        "            valid_keywords.append(word)\n",
        "    return ', '.join(valid_keywords)\n",
        "\n",
        "# 원본 데이터에서 해당 키워드들을 제거\n",
        "train_df['키워드'] = train_df['키워드'].apply(remove_invalid_keywords)\n",
        "test_df['키워드'] = test_df['키워드'].apply(remove_invalid_keywords)"
      ]
    }
  ]
}